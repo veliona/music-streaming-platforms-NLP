{
  "nbformat": 4,
  "nbformat_minor": 0,
  "metadata": {
    "colab": {
      "name": "Spotify_topic_modeling.ipynb",
      "provenance": [],
      "toc_visible": true,
      "authorship_tag": "ABX9TyNS+2plKtAN79VZKBK8k6Cw",
      "include_colab_link": true
    },
    "kernelspec": {
      "name": "python3",
      "display_name": "Python 3"
    }
  },
  "cells": [
    {
      "cell_type": "markdown",
      "metadata": {
        "id": "view-in-github",
        "colab_type": "text"
      },
      "source": [
        "<a href=\"https://colab.research.google.com/github/veliona/music-streaming-platforms-NLP/blob/master/Spotify_topic_modeling.ipynb\" target=\"_parent\"><img src=\"https://colab.research.google.com/assets/colab-badge.svg\" alt=\"Open In Colab\"/></a>"
      ]
    },
    {
      "cell_type": "code",
      "metadata": {
        "id": "Um8J5H7CwR5E",
        "colab_type": "code",
        "colab": {}
      },
      "source": [
        "from collections import defaultdict\n",
        "import json\n",
        "import pandas as pd\n",
        "from datetime import datetime\n",
        "import requests\n",
        "import os\n",
        "import csv\n",
        "import io\n",
        "import sys\n",
        "from google.colab import drive"
      ],
      "execution_count": 0,
      "outputs": []
    },
    {
      "cell_type": "code",
      "metadata": {
        "id": "TrNTJlIJw5Rs",
        "colab_type": "code",
        "colab": {
          "base_uri": "https://localhost:8080/",
          "height": 34
        },
        "outputId": "279daf1a-5f91-483e-edea-bb73219bd8ce"
      },
      "source": [
        "drive.mount('/content/gdrive', force_remount=True)"
      ],
      "execution_count": 20,
      "outputs": [
        {
          "output_type": "stream",
          "text": [
            "Mounted at /content/gdrive\n"
          ],
          "name": "stdout"
        }
      ]
    },
    {
      "cell_type": "code",
      "metadata": {
        "id": "cok_bGzrw_So",
        "colab_type": "code",
        "colab": {
          "base_uri": "https://localhost:8080/",
          "height": 340
        },
        "outputId": "57629f97-9450-4561-81ea-9f1d1a5e3fef"
      },
      "source": [
        "sys.path.append('/content/gdrive/My Drive/Studia')\n",
        "os.listdir('/content/gdrive/My Drive/Studia')"
      ],
      "execution_count": 21,
      "outputs": [
        {
          "output_type": "execute_result",
          "data": {
            "text/plain": [
              "['Głos 008.m4a',\n",
              " 'Głos 009.m4a',\n",
              " 'Statystyka (1)',\n",
              " 'MIG1.m4a',\n",
              " 'LUMINO.xlsx',\n",
              " 'Marketing',\n",
              " 'E-sylabusy',\n",
              " 'IT',\n",
              " 'ETIX',\n",
              " 'Statystyka',\n",
              " 'Zarządzanie',\n",
              " 'Lista nr 1.xls',\n",
              " '~$Etix.docx',\n",
              " '~$ix-procesy.docx',\n",
              " 'Case studies book.pdf',\n",
              " 'MSG',\n",
              " 'podanie-o-urlop-dziekanski (1).doc',\n",
              " 'r-spotify-Hot 04-23-2020.csv',\n",
              " 'df_google_play_spotify.csv']"
            ]
          },
          "metadata": {
            "tags": []
          },
          "execution_count": 21
        }
      ]
    },
    {
      "cell_type": "code",
      "metadata": {
        "id": "0n699Ll3xLQe",
        "colab_type": "code",
        "colab": {}
      },
      "source": [
        "df_spotify_hot_posts = pd.read_csv('/content/gdrive/My Drive/Studia/r-spotify-Hot 04-23-2020.csv')"
      ],
      "execution_count": 0,
      "outputs": []
    },
    {
      "cell_type": "code",
      "metadata": {
        "id": "W0G3Rn2rxbSo",
        "colab_type": "code",
        "colab": {
          "base_uri": "https://localhost:8080/",
          "height": 442
        },
        "outputId": "6342088a-84b7-4ec3-e6a3-aeb17c731da5"
      },
      "source": [
        "df_spotify_hot_posts.head()"
      ],
      "execution_count": 23,
      "outputs": [
        {
          "output_type": "execute_result",
          "data": {
            "text/html": [
              "<div>\n",
              "<style scoped>\n",
              "    .dataframe tbody tr th:only-of-type {\n",
              "        vertical-align: middle;\n",
              "    }\n",
              "\n",
              "    .dataframe tbody tr th {\n",
              "        vertical-align: top;\n",
              "    }\n",
              "\n",
              "    .dataframe thead th {\n",
              "        text-align: right;\n",
              "    }\n",
              "</style>\n",
              "<table border=\"1\" class=\"dataframe\">\n",
              "  <thead>\n",
              "    <tr style=\"text-align: right;\">\n",
              "      <th></th>\n",
              "      <th>Title</th>\n",
              "      <th>Flair</th>\n",
              "      <th>Date Created</th>\n",
              "      <th>Upvotes</th>\n",
              "      <th>Upvote Ratio</th>\n",
              "      <th>ID</th>\n",
              "      <th>Edited?</th>\n",
              "      <th>Is Locked?</th>\n",
              "      <th>NSFW?</th>\n",
              "      <th>Is Spoiler?</th>\n",
              "      <th>Stickied?</th>\n",
              "      <th>URL</th>\n",
              "      <th>Comment Count</th>\n",
              "      <th>Text</th>\n",
              "    </tr>\n",
              "  </thead>\n",
              "  <tbody>\n",
              "    <tr>\n",
              "      <th>0</th>\n",
              "      <td>Update: Upcoming playlist submission changes</td>\n",
              "      <td>NaN</td>\n",
              "      <td>04-10-2020 10:10:49</td>\n",
              "      <td>91</td>\n",
              "      <td>0.92</td>\n",
              "      <td>fy3tom</td>\n",
              "      <td>False</td>\n",
              "      <td>False</td>\n",
              "      <td>False</td>\n",
              "      <td>False</td>\n",
              "      <td>True</td>\n",
              "      <td>https://www.reddit.com/r/spotify/comments/fy3t...</td>\n",
              "      <td>51</td>\n",
              "      <td>Hello everyone,\\n\\nAs a new moderator for this...</td>\n",
              "    </tr>\n",
              "    <tr>\n",
              "      <th>1</th>\n",
              "      <td>Playlists Megathread - Submit here your playli...</td>\n",
              "      <td>Playlist</td>\n",
              "      <td>04-12-2020 11:59:36</td>\n",
              "      <td>47</td>\n",
              "      <td>0.84</td>\n",
              "      <td>fznwiy</td>\n",
              "      <td>04-12-2020 04:13:40</td>\n",
              "      <td>False</td>\n",
              "      <td>False</td>\n",
              "      <td>False</td>\n",
              "      <td>True</td>\n",
              "      <td>https://www.reddit.com/r/spotify/comments/fznw...</td>\n",
              "      <td>539</td>\n",
              "      <td>As mentioned previously, submission of playlis...</td>\n",
              "    </tr>\n",
              "    <tr>\n",
              "      <th>2</th>\n",
              "      <td>Seems like they removed All Eyez On Me</td>\n",
              "      <td>Other</td>\n",
              "      <td>04-23-2020 18:55:21</td>\n",
              "      <td>149</td>\n",
              "      <td>0.93</td>\n",
              "      <td>g6j9fg</td>\n",
              "      <td>False</td>\n",
              "      <td>False</td>\n",
              "      <td>False</td>\n",
              "      <td>False</td>\n",
              "      <td>False</td>\n",
              "      <td>https://www.reddit.com/r/spotify/comments/g6j9...</td>\n",
              "      <td>59</td>\n",
              "      <td>I can't listen to all eyez on me from tupac an...</td>\n",
              "    </tr>\n",
              "    <tr>\n",
              "      <th>3</th>\n",
              "      <td>No more 2pac on spotify. Today, spotify put an...</td>\n",
              "      <td>Complaint</td>\n",
              "      <td>04-23-2020 21:44:36</td>\n",
              "      <td>50</td>\n",
              "      <td>0.81</td>\n",
              "      <td>g6l6m4</td>\n",
              "      <td>False</td>\n",
              "      <td>False</td>\n",
              "      <td>False</td>\n",
              "      <td>False</td>\n",
              "      <td>False</td>\n",
              "      <td>https://www.reddit.com/r/spotify/comments/g6l6...</td>\n",
              "      <td>27</td>\n",
              "      <td>NaN</td>\n",
              "    </tr>\n",
              "    <tr>\n",
              "      <th>4</th>\n",
              "      <td>Why is spotify still alive and big if it’s rou...</td>\n",
              "      <td>Question</td>\n",
              "      <td>04-23-2020 06:54:53</td>\n",
              "      <td>295</td>\n",
              "      <td>0.95</td>\n",
              "      <td>g697xy</td>\n",
              "      <td>04-23-2020 01:09:53</td>\n",
              "      <td>False</td>\n",
              "      <td>False</td>\n",
              "      <td>False</td>\n",
              "      <td>False</td>\n",
              "      <td>https://www.reddit.com/r/spotify/comments/g697...</td>\n",
              "      <td>76</td>\n",
              "      <td>I am aware that Spotify has finally made a pro...</td>\n",
              "    </tr>\n",
              "  </tbody>\n",
              "</table>\n",
              "</div>"
            ],
            "text/plain": [
              "                                               Title  ...                                               Text\n",
              "0       Update: Upcoming playlist submission changes  ...  Hello everyone,\\n\\nAs a new moderator for this...\n",
              "1  Playlists Megathread - Submit here your playli...  ...  As mentioned previously, submission of playlis...\n",
              "2             Seems like they removed All Eyez On Me  ...  I can't listen to all eyez on me from tupac an...\n",
              "3  No more 2pac on spotify. Today, spotify put an...  ...                                                NaN\n",
              "4  Why is spotify still alive and big if it’s rou...  ...  I am aware that Spotify has finally made a pro...\n",
              "\n",
              "[5 rows x 14 columns]"
            ]
          },
          "metadata": {
            "tags": []
          },
          "execution_count": 23
        }
      ]
    },
    {
      "cell_type": "code",
      "metadata": {
        "id": "NxQ8OmlIxdX7",
        "colab_type": "code",
        "colab": {}
      },
      "source": [
        "df_spotify_hot_posts['title_content'] = df_spotify_hot_posts['Title'] + df_spotify_hot_posts['Text']"
      ],
      "execution_count": 0,
      "outputs": []
    },
    {
      "cell_type": "code",
      "metadata": {
        "id": "Znljixs0xzFF",
        "colab_type": "code",
        "colab": {
          "base_uri": "https://localhost:8080/",
          "height": 411
        },
        "outputId": "100677dc-dc25-4038-c834-a527d1877355"
      },
      "source": [
        "import nltk; nltk.download('stopwords')\n",
        "! pip install -U spacy"
      ],
      "execution_count": 25,
      "outputs": [
        {
          "output_type": "stream",
          "text": [
            "[nltk_data] Downloading package stopwords to /root/nltk_data...\n",
            "[nltk_data]   Package stopwords is already up-to-date!\n",
            "Requirement already up-to-date: spacy in /usr/local/lib/python3.6/dist-packages (2.2.4)\n",
            "Requirement already satisfied, skipping upgrade: requests<3.0.0,>=2.13.0 in /usr/local/lib/python3.6/dist-packages (from spacy) (2.21.0)\n",
            "Requirement already satisfied, skipping upgrade: setuptools in /usr/local/lib/python3.6/dist-packages (from spacy) (46.1.3)\n",
            "Requirement already satisfied, skipping upgrade: plac<1.2.0,>=0.9.6 in /usr/local/lib/python3.6/dist-packages (from spacy) (1.1.3)\n",
            "Requirement already satisfied, skipping upgrade: numpy>=1.15.0 in /usr/local/lib/python3.6/dist-packages (from spacy) (1.18.3)\n",
            "Requirement already satisfied, skipping upgrade: preshed<3.1.0,>=3.0.2 in /usr/local/lib/python3.6/dist-packages (from spacy) (3.0.2)\n",
            "Requirement already satisfied, skipping upgrade: murmurhash<1.1.0,>=0.28.0 in /usr/local/lib/python3.6/dist-packages (from spacy) (1.0.2)\n",
            "Requirement already satisfied, skipping upgrade: tqdm<5.0.0,>=4.38.0 in /usr/local/lib/python3.6/dist-packages (from spacy) (4.38.0)\n",
            "Requirement already satisfied, skipping upgrade: wasabi<1.1.0,>=0.4.0 in /usr/local/lib/python3.6/dist-packages (from spacy) (0.6.0)\n",
            "Requirement already satisfied, skipping upgrade: blis<0.5.0,>=0.4.0 in /usr/local/lib/python3.6/dist-packages (from spacy) (0.4.1)\n",
            "Requirement already satisfied, skipping upgrade: cymem<2.1.0,>=2.0.2 in /usr/local/lib/python3.6/dist-packages (from spacy) (2.0.3)\n",
            "Requirement already satisfied, skipping upgrade: srsly<1.1.0,>=1.0.2 in /usr/local/lib/python3.6/dist-packages (from spacy) (1.0.2)\n",
            "Requirement already satisfied, skipping upgrade: thinc==7.4.0 in /usr/local/lib/python3.6/dist-packages (from spacy) (7.4.0)\n",
            "Requirement already satisfied, skipping upgrade: catalogue<1.1.0,>=0.0.7 in /usr/local/lib/python3.6/dist-packages (from spacy) (1.0.0)\n",
            "Requirement already satisfied, skipping upgrade: urllib3<1.25,>=1.21.1 in /usr/local/lib/python3.6/dist-packages (from requests<3.0.0,>=2.13.0->spacy) (1.24.3)\n",
            "Requirement already satisfied, skipping upgrade: idna<2.9,>=2.5 in /usr/local/lib/python3.6/dist-packages (from requests<3.0.0,>=2.13.0->spacy) (2.8)\n",
            "Requirement already satisfied, skipping upgrade: certifi>=2017.4.17 in /usr/local/lib/python3.6/dist-packages (from requests<3.0.0,>=2.13.0->spacy) (2020.4.5.1)\n",
            "Requirement already satisfied, skipping upgrade: chardet<3.1.0,>=3.0.2 in /usr/local/lib/python3.6/dist-packages (from requests<3.0.0,>=2.13.0->spacy) (3.0.4)\n",
            "Requirement already satisfied, skipping upgrade: importlib-metadata>=0.20; python_version < \"3.8\" in /usr/local/lib/python3.6/dist-packages (from catalogue<1.1.0,>=0.0.7->spacy) (1.6.0)\n",
            "Requirement already satisfied, skipping upgrade: zipp>=0.5 in /usr/local/lib/python3.6/dist-packages (from importlib-metadata>=0.20; python_version < \"3.8\"->catalogue<1.1.0,>=0.0.7->spacy) (3.1.0)\n"
          ],
          "name": "stdout"
        }
      ]
    },
    {
      "cell_type": "code",
      "metadata": {
        "id": "-H-NS1CEx3AW",
        "colab_type": "code",
        "colab": {
          "base_uri": "https://localhost:8080/",
          "height": 374
        },
        "outputId": "5482fcca-e5ae-497f-b796-206eb441b3a9"
      },
      "source": [
        "import re\n",
        "import numpy as np\n",
        "import pandas as pd\n",
        "from pprint import pprint\n",
        "\n",
        "# Gensim\n",
        "import gensim\n",
        "import gensim.corpora as corpora\n",
        "from gensim.utils import simple_preprocess\n",
        "from gensim.models import CoherenceModel\n",
        "\n",
        "# spacy for lemmatization\n",
        "import spacy\n",
        "\n",
        "# Plotting tools\n",
        "! pip install pyLDAvis\n",
        "import pyLDAvis\n",
        "import pyLDAvis.gensim  # don't skip this\n",
        "import matplotlib.pyplot as plt\n",
        "%matplotlib inline\n",
        "\n",
        "# Enable logging for gensim - optional\n",
        "import logging\n",
        "logging.basicConfig(format='%(asctime)s : %(levelname)s : %(message)s', level=logging.ERROR)\n",
        "\n",
        "import warnings\n",
        "warnings.filterwarnings(\"ignore\",category=DeprecationWarning)"
      ],
      "execution_count": 26,
      "outputs": [
        {
          "output_type": "stream",
          "text": [
            "Requirement already satisfied: pyLDAvis in /usr/local/lib/python3.6/dist-packages (2.1.2)\n",
            "Requirement already satisfied: pytest in /usr/local/lib/python3.6/dist-packages (from pyLDAvis) (3.6.4)\n",
            "Requirement already satisfied: numpy>=1.9.2 in /usr/local/lib/python3.6/dist-packages (from pyLDAvis) (1.18.3)\n",
            "Requirement already satisfied: joblib>=0.8.4 in /usr/local/lib/python3.6/dist-packages (from pyLDAvis) (0.14.1)\n",
            "Requirement already satisfied: numexpr in /usr/local/lib/python3.6/dist-packages (from pyLDAvis) (2.7.1)\n",
            "Requirement already satisfied: scipy>=0.18.0 in /usr/local/lib/python3.6/dist-packages (from pyLDAvis) (1.4.1)\n",
            "Requirement already satisfied: pandas>=0.17.0 in /usr/local/lib/python3.6/dist-packages (from pyLDAvis) (1.0.3)\n",
            "Requirement already satisfied: jinja2>=2.7.2 in /usr/local/lib/python3.6/dist-packages (from pyLDAvis) (2.11.2)\n",
            "Requirement already satisfied: wheel>=0.23.0 in /usr/local/lib/python3.6/dist-packages (from pyLDAvis) (0.34.2)\n",
            "Requirement already satisfied: future in /usr/local/lib/python3.6/dist-packages (from pyLDAvis) (0.16.0)\n",
            "Requirement already satisfied: funcy in /usr/local/lib/python3.6/dist-packages (from pyLDAvis) (1.14)\n",
            "Requirement already satisfied: more-itertools>=4.0.0 in /usr/local/lib/python3.6/dist-packages (from pytest->pyLDAvis) (8.2.0)\n",
            "Requirement already satisfied: pluggy<0.8,>=0.5 in /usr/local/lib/python3.6/dist-packages (from pytest->pyLDAvis) (0.7.1)\n",
            "Requirement already satisfied: six>=1.10.0 in /usr/local/lib/python3.6/dist-packages (from pytest->pyLDAvis) (1.12.0)\n",
            "Requirement already satisfied: py>=1.5.0 in /usr/local/lib/python3.6/dist-packages (from pytest->pyLDAvis) (1.8.1)\n",
            "Requirement already satisfied: atomicwrites>=1.0 in /usr/local/lib/python3.6/dist-packages (from pytest->pyLDAvis) (1.3.0)\n",
            "Requirement already satisfied: setuptools in /usr/local/lib/python3.6/dist-packages (from pytest->pyLDAvis) (46.1.3)\n",
            "Requirement already satisfied: attrs>=17.4.0 in /usr/local/lib/python3.6/dist-packages (from pytest->pyLDAvis) (19.3.0)\n",
            "Requirement already satisfied: pytz>=2017.2 in /usr/local/lib/python3.6/dist-packages (from pandas>=0.17.0->pyLDAvis) (2018.9)\n",
            "Requirement already satisfied: python-dateutil>=2.6.1 in /usr/local/lib/python3.6/dist-packages (from pandas>=0.17.0->pyLDAvis) (2.8.1)\n",
            "Requirement already satisfied: MarkupSafe>=0.23 in /usr/local/lib/python3.6/dist-packages (from jinja2>=2.7.2->pyLDAvis) (1.1.1)\n"
          ],
          "name": "stdout"
        }
      ]
    },
    {
      "cell_type": "code",
      "metadata": {
        "id": "8TOWpn5Sx6Oq",
        "colab_type": "code",
        "colab": {}
      },
      "source": [
        "# NLTK Stop words\n",
        "from nltk.corpus import stopwords\n",
        "stop_words = stopwords.words('english')\n",
        "stop_words.extend(['from', 'subject', 're', 'edu', 'use'])"
      ],
      "execution_count": 0,
      "outputs": []
    },
    {
      "cell_type": "code",
      "metadata": {
        "id": "enOrO_NDx-Db",
        "colab_type": "code",
        "colab": {}
      },
      "source": [
        "# Convert to list\n",
        "list_text = df_spotify_hot_posts.title_content.values.tolist()"
      ],
      "execution_count": 0,
      "outputs": []
    },
    {
      "cell_type": "code",
      "metadata": {
        "id": "HZD5ZZkPyGEi",
        "colab_type": "code",
        "colab": {}
      },
      "source": [
        "def sent_to_words(sentences):\n",
        "    for sentence in sentences:\n",
        "        yield(gensim.utils.simple_preprocess(str(sentence), deacc=True))  # deacc=True removes punctuations\n",
        "\n",
        "data_words = list(sent_to_words(list_text))"
      ],
      "execution_count": 0,
      "outputs": []
    },
    {
      "cell_type": "code",
      "metadata": {
        "id": "GyZ-oWXkyK5w",
        "colab_type": "code",
        "colab": {
          "base_uri": "https://localhost:8080/",
          "height": 88
        },
        "outputId": "bd695f04-4b38-47ca-d09e-e757d3523097"
      },
      "source": [
        "# Build the bigram and trigram models\n",
        "bigram = gensim.models.Phrases(data_words, min_count=5, threshold=100) # higher threshold fewer phrases.\n",
        "trigram = gensim.models.Phrases(bigram[data_words], threshold=100)  \n",
        "\n",
        "# Faster way to get a sentence clubbed as a trigram/bigram\n",
        "bigram_mod = gensim.models.phrases.Phraser(bigram)\n",
        "trigram_mod = gensim.models.phrases.Phraser(trigram)\n",
        "\n",
        "# See trigram example\n",
        "print(trigram_mod[bigram_mod[data_words[0]]])"
      ],
      "execution_count": 30,
      "outputs": [
        {
          "output_type": "stream",
          "text": [
            "/usr/local/lib/python3.6/dist-packages/gensim/models/phrases.py:598: UserWarning: For a faster implementation, use the gensim.models.phrases.Phraser class\n",
            "  warnings.warn(\"For a faster implementation, use the gensim.models.phrases.Phraser class\")\n"
          ],
          "name": "stderr"
        },
        {
          "output_type": "stream",
          "text": [
            "['update', 'upcoming', 'playlist', 'submission', 'changeshello', 'everyone', 'as', 'new', 'moderator', 'for', 'this', 'sub', 've', 'been', 'doing', 'some', 'minor', 'adjustments', 'to', 'try', 'more', 'effectively', 'curbing', 'the', 'constant', 'submissions', 'by', 'spammers', 'one', 'of', 'the', 'things', 'which', 'had', 'come', 'up', 'and', 'was', 'also', 'noted', 'in', 'the', 'thread', 'about', 'problems', 'here', 'is', 'handling', 'playlist', 'submissions', 'in', 'better', 'way', 'to', 'that', 'end', 'there', 'will', 'be', 'dedicated', 'thread', 'where', 'playlists', 'will', 'have', 'to', 'be', 'submitted', 'if', 'there', 'is', 'interest', 'we', 'may', 'see', 'about', 'splitting', 'out', 'to', 'small', 'degree', 'by', 'some', 'criteria', 'such', 'as', 'genre', 'new', 'artists', 'etc', 'anticipate', 'finalizing', 'the', 'automoderator', 'rules', 'within', 'the', 'next', 'few', 'days', 'and', 'then', 'blocking', 'any', 'playlist', 'submissions', 'outside', 'of', 'the', 'designated', 'thread', 'would', 'also', 'like', 'to', 'have', 'more', 'standardized', 'way', 'of', 'formatting', 'the', 'description', 'and', 'possibly', 'requiring', 'tags', 'for', 'genre', 'to', 'allow', 'for', 'easier', 'searching', 'personally', 'think', 'some', 'of', 'the', 'submitters', 'are', 'too', 'heavy', 'handed', 'with', 'the', 'emojis', 'in', 'the', 'title', 'if', 'you', 'have', 'ideas', 'or', 'suggestions', 'in', 'that', 'area', 'please', 'let', 'me', 'know', 'thanks']\n"
          ],
          "name": "stdout"
        }
      ]
    },
    {
      "cell_type": "code",
      "metadata": {
        "id": "0dodP_0xyPWo",
        "colab_type": "code",
        "colab": {}
      },
      "source": [
        "# Define functions for stopwords, bigrams, trigrams and lemmatization\n",
        "def remove_stopwords(texts):\n",
        "    return [[word for word in simple_preprocess(str(doc)) if word not in stop_words] for doc in texts]\n",
        "\n",
        "def make_bigrams(texts):\n",
        "    return [bigram_mod[doc] for doc in texts]\n",
        "\n",
        "def make_trigrams(texts):\n",
        "    return [trigram_mod[bigram_mod[doc]] for doc in texts]\n",
        "\n",
        "def lemmatization(texts, allowed_postags=['NOUN', 'ADJ', 'VERB', 'ADV']):\n",
        "    \"\"\"https://spacy.io/api/annotation\"\"\"\n",
        "    texts_out = []\n",
        "    for sent in texts:\n",
        "        doc = nlp(\" \".join(sent)) \n",
        "        texts_out.append([token.lemma_ for token in doc if token.pos_ in allowed_postags])\n",
        "    return texts_out"
      ],
      "execution_count": 0,
      "outputs": []
    },
    {
      "cell_type": "code",
      "metadata": {
        "id": "iLMwpyTVySw6",
        "colab_type": "code",
        "colab": {
          "base_uri": "https://localhost:8080/",
          "height": 54
        },
        "outputId": "c36a3d68-5375-41f2-fbcf-145b847fa234"
      },
      "source": [
        "# Remove Stop Words\n",
        "data_words_nostops = remove_stopwords(data_words)\n",
        "\n",
        "# Form Bigrams\n",
        "data_words_bigrams = make_bigrams(data_words_nostops)\n",
        "\n",
        "# Initialize spacy 'en' model, keeping only tagger component (for efficiency)\n",
        "# python3 -m spacy download en\n",
        "nlp = spacy.load('en', disable=['parser', 'ner'])\n",
        "\n",
        "# Do lemmatization keeping only noun, adj, vb, adv\n",
        "data_lemmatized = lemmatization(data_words_bigrams, allowed_postags=['NOUN', 'ADJ', 'VERB', 'ADV'])\n",
        "\n",
        "print(data_lemmatized[:1])"
      ],
      "execution_count": 32,
      "outputs": [
        {
          "output_type": "stream",
          "text": [
            "[['upcoming', 'playlist', 'submission', 'changeshello', 'new', 'moderator', 'sub', 'minor', 'adjustment', 'try', 'effectively', 'curb', 'constant', 'submission', 'spammer', 'thing', 'come', 'also', 'note', 'thread', 'problem', 'handle', 'playlist', 'submission', 'well', 'way', 'end', 'dedicated', 'thread', 'playlist', 'submit', 'interest', 'may', 'see', 'splitting', 'small', 'degree', 'criterion', 'genre', 'new', 'artist', 'automoderator', 'rule', 'next', 'day', 'block', 'playlist', 'submission', 'designate', 'thread', 'would', 'also', 'like', 'standardized', 'way', 'format', 'description', 'possibly', 'require', 'tag', 'genre', 'allow', 'easy', 'search', 'personally', 'think', 'submitter', 'heavy', 'handed', 'emojis', 'title', 'idea', 'suggestion', 'area', 'let', 'know', 'thank']]\n"
          ],
          "name": "stdout"
        }
      ]
    },
    {
      "cell_type": "code",
      "metadata": {
        "id": "WGTD079byU-V",
        "colab_type": "code",
        "colab": {
          "base_uri": "https://localhost:8080/",
          "height": 54
        },
        "outputId": "673c9332-7dee-407a-dc09-b95d00eeea54"
      },
      "source": [
        "# Create Dictionary\n",
        "id2word = corpora.Dictionary(data_lemmatized)\n",
        "\n",
        "# Create Corpus\n",
        "texts = data_lemmatized\n",
        "\n",
        "# Term Document Frequency\n",
        "corpus = [id2word.doc2bow(text) for text in texts]\n",
        "\n",
        "# View\n",
        "print(corpus[:1])"
      ],
      "execution_count": 33,
      "outputs": [
        {
          "output_type": "stream",
          "text": [
            "[[(0, 1), (1, 1), (2, 2), (3, 1), (4, 1), (5, 1), (6, 1), (7, 1), (8, 1), (9, 1), (10, 1), (11, 1), (12, 1), (13, 1), (14, 1), (15, 1), (16, 1), (17, 1), (18, 1), (19, 1), (20, 1), (21, 1), (22, 2), (23, 1), (24, 1), (25, 1), (26, 1), (27, 1), (28, 1), (29, 1), (30, 1), (31, 1), (32, 1), (33, 1), (34, 2), (35, 1), (36, 1), (37, 1), (38, 4), (39, 1), (40, 1), (41, 1), (42, 1), (43, 1), (44, 1), (45, 1), (46, 1), (47, 1), (48, 1), (49, 1), (50, 4), (51, 1), (52, 1), (53, 1), (54, 1), (55, 1), (56, 1), (57, 1), (58, 3), (59, 1), (60, 1), (61, 1), (62, 2), (63, 1), (64, 1)]]\n"
          ],
          "name": "stdout"
        }
      ]
    },
    {
      "cell_type": "code",
      "metadata": {
        "id": "Wi3ZGinZyY3T",
        "colab_type": "code",
        "colab": {}
      },
      "source": [
        "# Build LDA model\n",
        "lda_model = gensim.models.ldamodel.LdaModel(corpus=corpus,\n",
        "                                           id2word=id2word,\n",
        "                                           num_topics=20, \n",
        "                                           random_state=100,\n",
        "                                           update_every=1,\n",
        "                                           chunksize=100,\n",
        "                                           passes=10,\n",
        "                                           alpha='auto',\n",
        "                                           per_word_topics=True)"
      ],
      "execution_count": 0,
      "outputs": []
    },
    {
      "cell_type": "code",
      "metadata": {
        "id": "TAuDBjjHybT9",
        "colab_type": "code",
        "colab": {
          "base_uri": "https://localhost:8080/",
          "height": 1000
        },
        "outputId": "66f91b83-eb88-4ce8-d802-e830241d0d44"
      },
      "source": [
        "# Print the Keyword in the 10 topics\n",
        "pprint(lda_model.print_topics())\n",
        "doc_lda = lda_model[corpus]"
      ],
      "execution_count": 35,
      "outputs": [
        {
          "output_type": "stream",
          "text": [
            "[(0,\n",
            "  '0.085*\"spotify\" + 0.046*\"music\" + 0.037*\"feature\" + 0.026*\"know\" + '\n",
            "  '0.025*\"would\" + 0.022*\"get\" + 0.022*\"need\" + 0.020*\"sometimes\" + '\n",
            "  '0.017*\"lyric\" + 0.017*\"order\"'),\n",
            " (1,\n",
            "  '0.108*\"song\" + 0.052*\"play\" + 0.051*\"artist\" + 0.041*\"playlist\" + '\n",
            "  '0.032*\"album\" + 0.024*\"go\" + 0.023*\"listen\" + 0.023*\"make\" + 0.018*\"sort\" + '\n",
            "  '0.018*\"ad\"'),\n",
            " (2,\n",
            "  '0.044*\"put\" + 0.040*\"change\" + 0.039*\"account\" + 0.034*\"password\" + '\n",
            "  '0.031*\"can\" + 0.027*\"open\" + 0.025*\"playlist\" + 0.025*\"people\" + '\n",
            "  '0.021*\"friend\" + 0.020*\"probably\"'),\n",
            " (3,\n",
            "  '0.107*\"song\" + 0.047*\"back\" + 0.034*\"playlist\" + 0.028*\"go\" + 0.027*\"play\" '\n",
            "  '+ 0.025*\"add\" + 0.022*\"fix\" + 0.022*\"listen\" + 0.022*\"like\" + '\n",
            "  '0.021*\"different\"'),\n",
            " (4,\n",
            "  '0.039*\"allow\" + 0.037*\"next\" + 0.035*\"finish\" + 0.029*\"remember\" + '\n",
            "  '0.027*\"send\" + 0.024*\"band\" + 0.023*\"stream\" + 0.019*\"couple\" + '\n",
            "  '0.017*\"apply\" + 0.016*\"already\"'),\n",
            " (5,\n",
            "  '0.044*\"playlist\" + 0.033*\"mix\" + 0.031*\"hear\" + 0.030*\"able\" + '\n",
            "  '0.030*\"country\" + 0.028*\"tool\" + 0.027*\"share\" + 0.026*\"folder\" + '\n",
            "  '0.025*\"work\" + 0.024*\"feel\"'),\n",
            " (6,\n",
            "  '0.054*\"option\" + 0.038*\"spotify\" + 0.031*\"listener\" + 0.027*\"setting\" + '\n",
            "  '0.026*\"device\" + 0.022*\"use\" + 0.022*\"connect\" + 0.019*\"store\" + '\n",
            "  '0.018*\"show\" + 0.017*\"click\"'),\n",
            " (7,\n",
            "  '0.033*\"thank\" + 0.029*\"service\" + 0.027*\"spotify\" + 0.027*\"premium\" + '\n",
            "  '0.025*\"site\" + 0.025*\"leave\" + 0.025*\"connection\" + 0.023*\"month\" + '\n",
            "  '0.019*\"really\" + 0.018*\"language\"'),\n",
            " (8,\n",
            "  '0.134*\"account\" + 0.046*\"spotify\" + 0.045*\"email\" + 0.036*\"premium\" + '\n",
            "  '0.031*\"pay\" + 0.029*\"device\" + 0.028*\"buy\" + 0.024*\"free\" + 0.020*\"student\" '\n",
            "  '+ 0.015*\"force\"'),\n",
            " (9,\n",
            "  '0.062*\"version\" + 0.046*\"year\" + 0.032*\"cover\" + 0.029*\"desktop\" + '\n",
            "  '0.027*\"long\" + 0.022*\"use\" + 0.022*\"take\" + 0.021*\"spotify\" + '\n",
            "  '0.020*\"experience\" + 0.020*\"mean\"'),\n",
            " (10,\n",
            "  '0.072*\"always\" + 0.055*\"radio\" + 0.041*\"pc\" + 0.030*\"get\" + '\n",
            "  '0.029*\"currently\" + 0.020*\"interface\" + 0.016*\"warn\" + 0.014*\"look\" + '\n",
            "  '0.014*\"lately\" + 0.013*\"sure\"'),\n",
            " (11,\n",
            "  '0.052*\"app\" + 0.049*\"phone\" + 0.041*\"change\" + 0.040*\"spotify\" + '\n",
            "  '0.030*\"try\" + 0.024*\"local\" + 0.023*\"turn\" + 0.022*\"work\" + 0.021*\"well\" + '\n",
            "  '0.021*\"useful\"'),\n",
            " (12,\n",
            "  '0.098*\"playlist\" + 0.038*\"com\" + 0.032*\"podcast\" + 0.029*\"first\" + '\n",
            "  '0.028*\"search\" + 0.027*\"way\" + 0.024*\"make\" + 0.022*\"bad\" + '\n",
            "  '0.019*\"duplicate\" + 0.018*\"click\"'),\n",
            " (13,\n",
            "  '0.068*\"spotify\" + 0.023*\"download\" + 0.023*\"listen\" + 0.022*\"artist\" + '\n",
            "  '0.020*\"try\" + 0.018*\"music\" + 0.018*\"app\" + 0.016*\"get\" + 0.016*\"play\" + '\n",
            "  '0.016*\"find\"'),\n",
            " (14,\n",
            "  '0.052*\"new\" + 0.042*\"remove\" + 0.037*\"link\" + 0.032*\"spotify\" + 0.030*\"ago\" '\n",
            "  '+ 0.025*\"much\" + 0.024*\"post\" + 0.022*\"year\" + 0.020*\"would\" + '\n",
            "  '0.020*\"seem\"'),\n",
            " (15,\n",
            "  '0.060*\"button\" + 0.049*\"phone\" + 0.032*\"file\" + 0.029*\"spotify\" + '\n",
            "  '0.026*\"still\" + 0.025*\"download\" + 0.023*\"android\" + 0.021*\"late\" + '\n",
            "  '0.021*\"screen\" + 0.020*\"background\"'),\n",
            " (16,\n",
            "  '0.041*\"issue\" + 0.034*\"listen\" + 0.025*\"happen\" + 0.023*\"firewall\" + '\n",
            "  '0.022*\"repeat\" + 0.021*\"work\" + 0.021*\"wrong\" + 0.020*\"week\" + 0.019*\"tell\" '\n",
            "  '+ 0.019*\"sure\"'),\n",
            " (17,\n",
            "  '0.039*\"load\" + 0.037*\"title\" + 0.034*\"scroll\" + 0.027*\"spotifykaraoke\" + '\n",
            "  '0.021*\"full\" + 0.020*\"make\" + 0.020*\"browser\" + 0.018*\"together\" + '\n",
            "  '0.018*\"behavior\" + 0.014*\"finally\"'),\n",
            " (18,\n",
            "  '0.170*\"track\" + 0.064*\"run\" + 0.036*\"minute\" + 0.033*\"appreciate\" + '\n",
            "  '0.022*\"clean\" + 0.018*\"various\" + 0.018*\"thank\" + 0.014*\"current\" + '\n",
            "  '0.013*\"spotify\" + 0.013*\"artwork\"'),\n",
            " (19,\n",
            "  '0.057*\"could\" + 0.050*\"look\" + 0.036*\"know\" + 0.035*\"update\" + '\n",
            "  '0.032*\"streaming\" + 0.028*\"connect\" + 0.024*\"away\" + 0.021*\"art\" + '\n",
            "  '0.018*\"information\" + 0.017*\"info\"')]\n"
          ],
          "name": "stdout"
        }
      ]
    },
    {
      "cell_type": "code",
      "metadata": {
        "id": "JvvcTRBgueaj",
        "colab_type": "code",
        "colab": {
          "base_uri": "https://localhost:8080/",
          "height": 85
        },
        "outputId": "adbcf458-c474-4bd5-992f-b01c8488d214"
      },
      "source": [
        "# Compute Perplexity\n",
        "print('\\nPerplexity: ', lda_model.log_perplexity(corpus))  # a measure of how good the model is. lower the better.\n",
        "\n",
        "# Compute Coherence Score\n",
        "coherence_model_lda = CoherenceModel(model=lda_model, texts=data_lemmatized, dictionary=id2word, coherence='c_v')\n",
        "coherence_lda = coherence_model_lda.get_coherence()\n",
        "print('\\nCoherence Score: ', coherence_lda)"
      ],
      "execution_count": 36,
      "outputs": [
        {
          "output_type": "stream",
          "text": [
            "\n",
            "Perplexity:  -6.998772175344449\n",
            "\n",
            "Coherence Score:  0.3483922809458543\n"
          ],
          "name": "stdout"
        }
      ]
    },
    {
      "cell_type": "code",
      "metadata": {
        "id": "n7Fn6lPfydk5",
        "colab_type": "code",
        "colab": {
          "base_uri": "https://localhost:8080/",
          "height": 861
        },
        "outputId": "13219453-9694-4ac1-87d8-4b35a38fda14"
      },
      "source": [
        "# Visualize the topics\n",
        "pyLDAvis.enable_notebook()\n",
        "vis = pyLDAvis.gensim.prepare(lda_model, corpus, id2word)\n",
        "vis"
      ],
      "execution_count": 37,
      "outputs": [
        {
          "output_type": "execute_result",
          "data": {
            "text/html": [
              "\n",
              "<link rel=\"stylesheet\" type=\"text/css\" href=\"https://cdn.rawgit.com/bmabey/pyLDAvis/files/ldavis.v1.0.0.css\">\n",
              "\n",
              "\n",
              "<div id=\"ldavis_el124140401635461904792186089\"></div>\n",
              "<script type=\"text/javascript\">\n",
              "\n",
              "var ldavis_el124140401635461904792186089_data = {\"mdsDat\": {\"x\": [0.30630281459063663, 0.21948542361168236, 0.13693950444235514, 0.23893170971903702, 0.05213175796292998, 0.02090239112005924, 0.03417371472773478, -0.07081292933894084, -0.0679925679429186, -0.012302190373023322, -0.1091024910394542, 0.0060521899779671364, -0.08804033179420741, -0.0688792305306523, -0.03837615569127569, -0.04215024303565336, -0.12323340034357698, -0.14626228658807663, -0.11902205215006065, -0.12874562732456196], \"y\": [0.0844412174112382, -0.15384847327517615, -0.15835051310050724, 0.14016328739691336, 0.11588506958725427, 0.12122987052088872, 0.023782538331896228, -0.041714567887797135, -0.07910303020710484, -0.1547288054339859, -0.07283790259908669, -0.07985080483213598, -0.09592450740794609, 0.0803896617905646, -0.0782156274256702, 0.08508457899769191, 0.08164903023360347, 0.02175581140538735, 0.05710720040599601, 0.10308596608797642], \"topics\": [1, 2, 3, 4, 5, 6, 7, 8, 9, 10, 11, 12, 13, 14, 15, 16, 17, 18, 19, 20], \"cluster\": [1, 1, 1, 1, 1, 1, 1, 1, 1, 1, 1, 1, 1, 1, 1, 1, 1, 1, 1, 1], \"Freq\": [15.841594696044922, 15.394848823547363, 9.799237251281738, 8.645665168762207, 5.407001972198486, 4.5623698234558105, 4.155786037445068, 3.960296154022217, 3.746403455734253, 3.5450212955474854, 3.5065724849700928, 3.3853888511657715, 3.2765560150146484, 2.7773211002349854, 2.763014078140259, 2.4112935066223145, 2.234194040298462, 1.6973820924758911, 1.5440967082977295, 1.3459595441818237]}, \"tinfo\": {\"Term\": [\"song\", \"playlist\", \"account\", \"spotify\", \"artist\", \"track\", \"phone\", \"app\", \"new\", \"play\", \"listen\", \"back\", \"music\", \"get\", \"change\", \"make\", \"premium\", \"know\", \"album\", \"feature\", \"download\", \"try\", \"work\", \"version\", \"option\", \"year\", \"issue\", \"could\", \"look\", \"go\", \"sort\", \"ad\", \"save\", \"library\", \"album\", \"old\", \"shuffle\", \"random\", \"similar\", \"view\", \"one\", \"whole\", \"figure\", \"iphone\", \"sense\", \"other\", \"wait\", \"gray\", \"matter\", \"login\", \"mostly\", \"piss\", \"date\", \"rant\", \"pre\", \"discount\", \"individual\", \"delete\", \"public\", \"transfer\", \"bug\", \"case\", \"artist\", \"appear\", \"song\", \"play\", \"able\", \"make\", \"page\", \"go\", \"playlist\", \"however\", \"possible\", \"listen\", \"show\", \"want\", \"see\", \"would\", \"add\", \"like\", \"help\", \"still\", \"way\", \"try\", \"seem\", \"follow\", \"may\", \"whenever\", \"little\", \"home\", \"weird\", \"internet\", \"block\", \"online\", \"offline\", \"ever\", \"come\", \"else\", \"basic\", \"bottom\", \"content\", \"favorite\", \"contact\", \"less\", \"rid\", \"discover\", \"https\", \"mode\", \"mine\", \"recommend\", \"worth\", \"youtube\", \"think\", \"website\", \"select\", \"thing\", \"genre\", \"download\", \"idea\", \"right\", \"problem\", \"spotify\", \"day\", \"app\", \"try\", \"work\", \"new\", \"listen\", \"find\", \"artist\", \"music\", \"get\", \"say\", \"use\", \"premium\", \"play\", \"time\", \"really\", \"fix\", \"way\", \"feature\", \"need\", \"sometimes\", \"lyric\", \"apple\", \"continue\", \"support\", \"community\", \"listening\", \"platform\", \"awesome\", \"number\", \"family\", \"exist\", \"include\", \"order\", \"alphabetical\", \"storage\", \"section\", \"switch\", \"user\", \"cancel\", \"quarantine\", \"stand\", \"visual\", \"ability\", \"market\", \"happy\", \"expect\", \"filter\", \"let\", \"quality\", \"love\", \"music\", \"many\", \"spotify\", \"know\", \"would\", \"limit\", \"get\", \"want\", \"notice\", \"phone\", \"next\", \"also\", \"time\", \"add\", \"find\", \"say\", \"queue\", \"second\", \"literally\", \"window\", \"tap\", \"anyway\", \"super\", \"shit\", \"accidentally\", \"source\", \"begin\", \"back\", \"middle\", \"pause\", \"sync\", \"name\", \"picture\", \"fast\", \"forth\", \"unfortunately\", \"sono\", \"will\", \"bend\", \"usual\", \"quickly\", \"history\", \"clue\", \"tab\", \"straight\", \"manage\", \"step\", \"different\", \"randomly\", \"sound\", \"list\", \"like\", \"song\", \"keep\", \"fix\", \"stuff\", \"add\", \"open\", \"go\", \"time\", \"computer\", \"stop\", \"playlist\", \"see\", \"play\", \"listen\", \"get\", \"top\", \"recently\", \"show\", \"annoying\", \"spotify\", \"want\", \"podcast\", \"first\", \"search\", \"duplicate\", \"daily\", \"easy\", \"later\", \"obviously\", \"thought\", \"longer\", \"format\", \"pull\", \"place\", \"mood\", \"attempt\", \"developer\", \"kind\", \"drive\", \"newly\", \"provide\", \"stupid\", \"text\", \"bad\", \"com\", \"twitter\", \"contain\", \"line\", \"mention\", \"eat\", \"tag\", \"crazy\", \"point\", \"click\", \"small\", \"playlist\", \"way\", \"make\", \"know\", \"find\", \"could\", \"service\", \"possible\", \"keep\", \"spotify\", \"year\", \"put\", \"password\", \"follower\", \"hack\", \"type\", \"s\", \"probably\", \"base\", \"deal\", \"read\", \"pick\", \"big\", \"character\", \"member\", \"nearly\", \"yesterday\", \"menu\", \"unknown\", \"dot\", \"completely\", \"suppose\", \"bring\", \"people\", \"direct\", \"guess\", \"instagram\", \"coverhow\", \"insane\", \"satire\", \"thousand\", \"ten\", \"can\", \"friend\", \"live\", \"open\", \"glitch\", \"create\", \"change\", \"ask\", \"country\", \"account\", \"log\", \"option\", \"playlist\", \"go\", \"still\", \"time\", \"yet\", \"add\", \"firewall\", \"repeat\", \"wrong\", \"decade\", \"talk\", \"volume\", \"basically\", \"understand\", \"assume\", \"form\", \"google\", \"original\", \"perfectly\", \"discord\", \"announcement\", \"world\", \"several\", \"lead\", \"interval\", \"unrecognized\", \"seriously\", \"region\", \"do\", \"properlyso\", \"behaviour\", \"distance\", \"marker\", \"mile\", \"downloading\", \"etc\", \"tell\", \"sign\", \"laptop\", \"issue\", \"sure\", \"week\", \"manually\", \"fine\", \"happen\", \"list\", \"start\", \"recently\", \"listen\", \"work\", \"create\", \"well\", \"try\", \"still\", \"log\", \"seem\", \"last\", \"play\", \"listener\", \"store\", \"identify\", \"enough\", \"cause\", \"recent\", \"wifi\", \"image\", \"match\", \"monthly\", \"method\", \"activity\", \"disable\", \"offer\", \"person\", \"hacking\", \"register\", \"trouble\", \"relate\", \"research\", \"somewhat\", \"quick\", \"network\", \"setting\", \"location\", \"min\", \"breach\", \"apparently\", \"display\", \"input\", \"option\", \"hate\", \"move\", \"device\", \"connect\", \"become\", \"click\", \"share\", \"allow\", \"instead\", \"use\", \"spotify\", \"show\", \"suggestion\", \"live\", \"screen\", \"change\", \"could\", \"version\", \"cover\", \"experience\", \"replace\", \"past\", \"audio\", \"stat\", \"terrible\", \"far\", \"average\", \"wrap\", \"hopefully\", \"choice\", \"act\", \"guitar\", \"actual\", \"session\", \"head\", \"pointless\", \"somehow\", \"announce\", \"develop\", \"spot\", \"lucky\", \"speed\", \"chart\", \"hot\", \"global\", \"shuffling\", \"clunki\", \"piece\", \"horribly\", \"desktop\", \"recommendation\", \"take\", \"year\", \"mean\", \"long\", \"count\", \"release\", \"give\", \"service\", \"use\", \"month\", \"look\", \"spotify\", \"top\", \"even\", \"good\", \"local\", \"useful\", \"video\", \"bluetooth\", \"speaker\", \"pop\", \"auth\", \"plug\", \"script\", \"error_code\", \"setup\", \"morning\", \"loading\", \"automatically\", \"system\", \"uninstalle\", \"entertain\", \"macbook\", \"decide\", \"social\", \"plugged\", \"writer\", \"worry\", \"wanted\", \"underrated\", \"typing\", \"truely\", \"amplifier\", \"extremely\", \"here\", \"acoustic\", \"amp\", \"proxy\", \"restart\", \"turn\", \"great\", \"app\", \"phone\", \"change\", \"slow\", \"well\", \"log\", \"try\", \"even\", \"work\", \"spotify\", \"use\", \"help\", \"make\", \"force\", \"specifically\", \"email\", \"side\", \"address\", \"cheer\", \"unauthorized\", \"code\", \"simply\", \"pay\", \"stereo\", \"detail\", \"giftcard\", \"security\", \"confirm\", \"university\", \"word\", \"hulu\", \"student\", \"reconnecte\", \"activaty\", \"shady\", \"pill\", \"physical\", \"nope\", \"kiosk\", \"authority\", \"capital\", \"determine\", \"seperately\", \"accept\", \"symbol\", \"spotifycare\", \"weekend\", \"investigate\", \"account\", \"receive\", \"thoroughly\", \"buy\", \"free\", \"device\", \"premium\", \"available\", \"state\", \"spotify\", \"ago\", \"message\", \"help\", \"current\", \"set\", \"could\", \"link\", \"choose\", \"hope\", \"specific\", \"anymore\", \"nice\", \"player\", \"project\", \"subreddit\", \"sub\", \"honestly\", \"station\", \"import\", \"comment\", \"forever\", \"half\", \"truly\", \"grey\", \"remove\", \"aka\", \"tip\", \"post\", \"mind\", \"fist\", \"upgrade\", \"polish\", \"terribly\", \"continuously\", \"russian\", \"slavic\", \"ago\", \"wrongso\", \"aspect\", \"enjoy\", \"much\", \"amazing\", \"new\", \"discovery\", \"release\", \"least\", \"year\", \"seem\", \"last\", \"good\", \"way\", \"would\", \"spotify\", \"want\", \"access\", \"use\", \"really\", \"site\", \"leave\", \"connection\", \"language\", \"plan\", \"upload\", \"application\", \"forget\", \"payment\", \"constantly\", \"subscription\", \"datum\", \"revert\", \"advice\", \"official\", \"popular\", \"bother\", \"have\", \"forum\", \"wonder\", \"lower\", \"addition\", \"curate\", \"age\", \"fail\", \"notify\", \"uploaded\", \"course\", \"ios\", \"bunch\", \"advance\", \"month\", \"service\", \"thank\", \"premium\", \"stay\", \"enjoy\", \"really\", \"free\", \"spotify\", \"music\", \"would\", \"could\", \"help\", \"hear\", \"streaming\", \"away\", \"art\", \"information\", \"info\", \"tape\", \"notification\", \"absolutely\", \"poor\", \"meezer\", \"easily\", \"amount\", \"forward\", \"unable\", \"slide\", \"touch\", \"layout\", \"explanation\", \"censor\", \"refuse\", \"incredibly\", \"lolquick\", \"funny\", \"sarcastic\", \"cassette\", \"discography\", \"nee\", \"genius\", \"canvas\", \"accidently\", \"guest\", \"could\", \"look\", \"update\", \"connect\", \"computer\", \"question\", \"know\", \"hit\", \"usually\", \"current\", \"stop\", \"still\", \"song\", \"screen\", \"spotify\", \"button\", \"file\", \"late\", \"background\", \"cut\", \"mouse\", \"often\", \"profile\", \"lock\", \"enter\", \"android\", \"drop\", \"fullscreen\", \"green\", \"workaround\", \"episode\", \"certain\", \"mass\", \"usage\", \"redownload\", \"situation\", \"proper\", \"large\", \"mixtape\", \"swear\", \"halfway\", \"behave\", \"erratically\", \"doubleclicke\", \"distrokid\", \"screen\", \"answer\", \"message\", \"phone\", \"still\", \"download\", \"lose\", \"com\", \"spotify\", \"get\", \"help\", \"app\", \"delete\", \"mix\", \"tool\", \"folder\", \"feel\", \"anywhere\", \"pretty\", \"exactly\", \"compare\", \"generate\", \"definitely\", \"combine\", \"reduce\", \"technical\", \"explain\", \"dozen\", \"chat\", \"unavailable\", \"alert\", \"basis\", \"relation\", \"rotation\", \"total\", \"dupe\", \"outright\", \"hear\", \"special\", \"personalized\", \"alternative\", \"vexed\", \"model\", \"error\", \"country\", \"share\", \"able\", \"playlist\", \"work\", \"available\", \"find\", \"know\", \"say\", \"prevent\", \"app\", \"change\", \"post\", \"always\", \"radio\", \"interface\", \"warn\", \"currently\", \"confuse\", \"fit\", \"design\", \"redownloade\", \"mess\", \"promote\", \"username\", \"difference\", \"everywhere\", \"pet\", \"warning\", \"awhile\", \"generally\", \"peeve\", \"horrific\", \"tabi\", \"promoted\", \"reset\", \"client\", \"slash\", \"tired\", \"complete\", \"attach\", \"chrome\", \"join\", \"pc\", \"lately\", \"explicit\", \"reason\", \"get\", \"sure\", \"look\", \"issue\", \"use\", \"track\", \"run\", \"minute\", \"clean\", \"various\", \"artwork\", \"greatly\", \"criterion\", \"meet\", \"mad\", \"value\", \"atmospherical\", \"ambient\", \"curator\", \"specify\", \"preferably\", \"playlistcan\", \"pace\", \"km\", \"appreciate\", \"bitrate\", \"consider\", \"atleast\", \"refresh\", \"therefore\", \"consolidated\", \"titanium\", \"flame\", \"compilation\", \"artisthi\", \"conversation\", \"implication\", \"respectively\", \"dark\", \"wondering\", \"silence\", \"thankyou\", \"consolidate\", \"current\", \"term\", \"thank\", \"release\", \"decide\", \"website\", \"spotify\", \"finish\", \"send\", \"band\", \"apply\", \"somewhere\", \"pro\", \"kinda\", \"era\", \"implement\", \"imagine\", \"reminder\", \"annoyingly\", \"frustration\", \"rather\", \"soundtrack\", \"movie\", \"ucps\", \"centric\", \"grateful\", \"remember\", \"credit\", \"stream\", \"level\", \"browse\", \"insight\", \"quite\", \"record\", \"vid\", \"seed\", \"fish\", \"allow\", \"next\", \"couple\", \"already\", \"ask\", \"high\", \"really\", \"know\", \"artist\", \"load\", \"title\", \"spotifykaraoke\", \"browser\", \"together\", \"behavior\", \"chromebook\", \"dumb\", \"mainly\", \"whip\", \"position\", \"utility\", \"launch\", \"ground\", \"grab\", \"furthermore\", \"freshly\", \"themhi\", \"correct\", \"bus\", \"alexisonfire\", \"roughly\", \"purely\", \"quietly\", \"echo\", \"idle\", \"persist\", \"photo\", \"full\", \"restarted\", \"scroll\", \"finally\", \"make\", \"bad\", \"keep\", \"sign\"], \"Freq\": [347.0, 233.0, 89.0, 388.0, 151.0, 37.0, 72.0, 70.0, 66.0, 185.0, 141.0, 59.0, 116.0, 109.0, 58.0, 84.0, 52.0, 83.0, 66.0, 48.0, 65.0, 84.0, 62.0, 30.0, 38.0, 53.0, 51.0, 40.0, 37.0, 109.0, 36.831947326660156, 36.83163070678711, 36.305416107177734, 36.28185272216797, 65.08345794677734, 29.145092010498047, 22.946369171142578, 21.97599220275879, 16.741426467895508, 14.03412914276123, 12.01945972442627, 10.739137649536133, 10.361339569091797, 9.927950859069824, 9.137165069580078, 8.926024436950684, 8.768993377685547, 7.784634113311768, 7.307854652404785, 6.621108531951904, 6.3316192626953125, 5.587872505187988, 8.345537185668945, 4.791697978973389, 4.745135307312012, 4.400052547454834, 4.310462474822998, 31.725526809692383, 4.024545192718506, 3.7395031452178955, 11.952912330627441, 8.152358055114746, 104.73345947265625, 17.124839782714844, 220.05421447753906, 107.07100677490234, 21.733814239501953, 46.14938735961914, 19.24823570251465, 48.3563117980957, 83.5536117553711, 16.386770248413086, 14.970979690551758, 46.35809326171875, 27.189661026000977, 27.249156951904297, 25.441423416137695, 28.729076385498047, 25.060606002807617, 20.295442581176758, 21.130918502807617, 19.920557022094727, 19.017324447631836, 18.85567855834961, 17.416301727294922, 20.3835506439209, 20.331008911132812, 19.084827423095703, 18.027265548706055, 15.292055130004883, 14.860143661499023, 14.24383544921875, 13.702872276306152, 13.616087913513184, 12.856722831726074, 11.850921630859375, 24.879497528076172, 19.470075607299805, 10.265000343322754, 10.050741195678711, 9.853266716003418, 9.39708423614502, 9.030950546264648, 8.303258895874023, 8.282671928405762, 8.146256446838379, 7.996735095977783, 7.422244548797607, 6.737111568450928, 6.585502624511719, 5.984519958496094, 5.835000038146973, 31.073347091674805, 15.9739990234375, 5.259187698364258, 24.99696922302246, 17.486244201660156, 46.15433120727539, 22.210710525512695, 18.590251922607422, 28.592430114746094, 135.22886657714844, 21.43872833251953, 35.73238754272461, 38.747825622558594, 28.618019104003906, 29.574602127075195, 45.81692123413086, 31.403060913085938, 43.1518669128418, 36.487281799316406, 32.68992614746094, 23.71293067932129, 26.076406478881836, 22.146133422851562, 31.85561752319336, 21.534807205200195, 19.48135757446289, 19.357912063598633, 18.188434600830078, 47.237098693847656, 27.164752960205078, 25.240774154663086, 21.798643112182617, 17.135711669921875, 16.026540756225586, 16.009023666381836, 12.72159194946289, 12.060318946838379, 11.47978687286377, 9.80215835571289, 9.25550365447998, 8.765644073486328, 8.307217597961426, 6.255217552185059, 21.685335159301758, 6.062609672546387, 5.850924968719482, 5.520753383636475, 17.270376205444336, 20.616220474243164, 5.022937297821045, 4.931395053863525, 4.774068355560303, 4.774068355560303, 4.724117279052734, 4.566791534423828, 4.501880645751953, 4.347710132598877, 4.281927108764648, 13.514583587646484, 10.151789665222168, 14.139765739440918, 58.60184860229492, 11.971100807189941, 107.63401794433594, 32.47690963745117, 31.225130081176758, 6.7958879470825195, 27.350831985473633, 20.5998477935791, 11.261399269104004, 18.186477661132812, 10.665304183959961, 14.776415824890137, 15.334216117858887, 14.802295684814453, 13.767383575439453, 12.728719711303711, 21.370159149169922, 17.611953735351562, 15.72494125366211, 14.22069263458252, 8.87718391418457, 7.948032855987549, 7.745911121368408, 7.672478675842285, 6.570249080657959, 6.275786399841309, 6.087273597717285, 52.32109832763672, 5.6455488204956055, 5.320305347442627, 4.556077480316162, 14.79256534576416, 4.326611042022705, 4.17627477645874, 3.897644281387329, 3.6932976245880127, 3.6932976245880127, 3.28682804107666, 3.1997854709625244, 3.1241302490234375, 3.009046792984009, 2.9356162548065186, 2.9220077991485596, 2.7954154014587402, 2.7694461345672607, 2.4398815631866455, 2.4398815631866455, 23.885339736938477, 6.982876300811768, 6.125129699707031, 16.685258865356445, 24.112346649169922, 119.01554107666016, 20.54616928100586, 24.59290885925293, 6.396759986877441, 28.20600700378418, 13.512977600097656, 31.703441619873047, 22.874746322631836, 8.4219388961792, 13.482845306396484, 38.164161682128906, 17.737947463989258, 29.87701988220215, 24.367494583129883, 21.297439575195312, 12.012670516967773, 12.069138526916504, 13.090937614440918, 8.70425033569336, 11.30945873260498, 9.002826690673828, 22.14552116394043, 19.85783576965332, 19.37786102294922, 13.377720832824707, 11.837260246276855, 9.373597145080566, 7.524199962615967, 6.303203582763672, 6.228725433349609, 5.890947341918945, 5.73846960067749, 5.506138324737549, 5.4544782638549805, 5.182161808013916, 5.146404266357422, 5.146387100219727, 4.672207355499268, 9.642701148986816, 4.516610622406006, 4.452413082122803, 4.170678615570068, 3.8132009506225586, 15.004528045654297, 26.148569107055664, 2.9613566398620605, 2.824937105178833, 2.8088786602020264, 2.8088786602020264, 2.8088791370391846, 2.747800827026367, 6.7984700202941895, 8.09012508392334, 12.41011905670166, 6.378110408782959, 68.18184661865234, 18.69408416748047, 16.636592864990234, 11.215603828430176, 11.051772117614746, 7.825262069702148, 6.7927632331848145, 6.382721900939941, 6.107742786407471, 7.162078380584717, 5.9114251136779785, 25.819866180419922, 20.10883903503418, 11.031716346740723, 10.383118629455566, 9.537407875061035, 9.26932144165039, 11.983789443969727, 6.505974769592285, 6.349367618560791, 6.327024459838867, 5.298056125640869, 8.919376373291016, 4.421804904937744, 4.299603462219238, 4.284151554107666, 4.013064384460449, 3.866349220275879, 3.8037478923797607, 3.54472279548645, 7.68057918548584, 3.3980085849761963, 3.1985843181610107, 14.576543807983398, 2.6431283950805664, 4.12855339050293, 2.2969892024993896, 2.29398775100708, 2.29398775100708, 2.29398775100708, 2.29398775100708, 2.29398775100708, 17.930070877075195, 12.380081176757812, 8.54156494140625, 15.806344032287598, 3.867605686187744, 9.83684253692627, 23.502857208251953, 6.6446027755737305, 8.950430870056152, 22.892297744750977, 7.360594272613525, 8.799439430236816, 14.654860496520996, 8.587883949279785, 6.035776138305664, 6.1924824714660645, 4.7390666007995605, 5.065269947052002, 12.077580451965332, 11.584709167480469, 11.003653526306152, 8.822542190551758, 6.943085670471191, 6.067372798919678, 5.280533790588379, 4.841275691986084, 4.460460186004639, 4.057238578796387, 3.8041584491729736, 3.0994222164154053, 3.0994226932525635, 3.0994222164154053, 2.9152724742889404, 4.322728633880615, 4.088764190673828, 2.523195743560791, 2.523195743560791, 2.476015329360962, 2.409111976623535, 2.2229347229003906, 8.82627010345459, 2.141606092453003, 1.9574564695358276, 1.9574564695358276, 1.9574564695358276, 1.9574564695358276, 1.9574559926986694, 1.9574559926986694, 10.43337631225586, 10.265267372131348, 3.218146324157715, 21.911762237548828, 10.396562576293945, 10.785611152648926, 4.951948642730713, 7.017538547515869, 13.626763343811035, 8.890830993652344, 10.005436897277832, 9.610992431640625, 18.378711700439453, 11.29287052154541, 5.925907611846924, 6.009527206420898, 8.334753036499023, 6.163623809814453, 4.974165916442871, 5.558400630950928, 4.789939880371094, 4.565870761871338, 15.604493141174316, 9.763233184814453, 7.618004322052002, 7.16166353225708, 6.307864665985107, 6.1874847412109375, 6.045806884765625, 5.800166130065918, 5.426446437835693, 5.124817371368408, 4.967990398406982, 4.858559608459473, 4.572648048400879, 4.440637588500977, 3.9821817874908447, 3.6331570148468018, 3.583914279937744, 3.523725748062134, 3.440958261489868, 3.234888792037964, 3.1747004985809326, 3.0317440032958984, 2.9736721515655518, 13.65869426727295, 2.776432752609253, 2.776432752609253, 2.633477210998535, 2.524045944213867, 8.09222412109375, 2.2352099418640137, 27.659204483032227, 3.7558417320251465, 6.913422107696533, 13.245361328125, 11.139908790588379, 4.348387241363525, 8.721905708312988, 7.4044365882873535, 7.109868049621582, 7.0248188972473145, 11.202130317687988, 19.51497459411621, 9.023128509521484, 5.465752124786377, 4.880683422088623, 4.6761274337768555, 5.133416652679443, 4.631099224090576, 30.008657455444336, 15.27713394165039, 9.728140830993652, 7.289819717407227, 8.12939739227295, 6.64001989364624, 6.509298324584961, 5.820064067840576, 5.709280014038086, 4.99257230758667, 4.602253437042236, 4.431271076202393, 4.212121486663818, 3.915037155151367, 3.651520013809204, 3.5463707447052, 3.5443525314331055, 3.53515887260437, 3.34981632232666, 3.188027858734131, 3.0301365852355957, 2.8335819244384766, 2.5118844509124756, 2.5118844509124756, 2.328559398651123, 2.132005453109741, 2.132005453109741, 2.132005453109741, 2.132005214691162, 2.132005214691162, 2.132005214691162, 2.132005214691162, 13.977272987365723, 5.2822136878967285, 10.58785343170166, 22.044301986694336, 9.472919464111328, 12.91707992553711, 4.687061309814453, 6.928014755249023, 6.622182369232178, 7.174876689910889, 10.8316068649292, 6.164194107055664, 7.348022937774658, 9.96153736114502, 4.912272930145264, 4.660317420959473, 3.991082191467285, 10.84568977355957, 9.680604934692383, 8.184154510498047, 7.467531204223633, 6.112884998321533, 6.011716365814209, 5.786235332489014, 5.2447099685668945, 4.01878547668457, 3.9859654903411865, 3.9859654903411865, 3.846791982650757, 3.575066328048706, 8.267386436462402, 2.5763964653015137, 2.5222012996673584, 2.4999656677246094, 3.4833781719207764, 6.142619609832764, 2.015268564224243, 2.0126352310180664, 2.0126352310180664, 2.0126352310180664, 2.0126352310180664, 2.0126352310180664, 2.0126352310180664, 2.0126352310180664, 2.0126352310180664, 2.0126352310180664, 2.0126352310180664, 2.0126352310180664, 2.0126352310180664, 5.3912835121154785, 8.073736190795898, 10.381881713867188, 7.487247943878174, 23.723060607910156, 22.39615249633789, 18.618656158447266, 3.893042802810669, 9.71546459197998, 6.286478042602539, 13.89650821685791, 8.253552436828613, 10.18100643157959, 18.07810401916504, 6.264816761016846, 5.810913562774658, 4.306034088134766, 6.7616753578186035, 6.412092685699463, 20.479368209838867, 5.666276931762695, 4.451848983764648, 4.326695442199707, 3.853694438934326, 3.8536903858184814, 2.932875156402588, 14.053182601928711, 2.6392667293548584, 2.5963990688323975, 2.586165428161621, 2.417006492614746, 2.2693448066711426, 2.188901424407959, 2.136504650115967, 2.1252377033233643, 9.066608428955078, 1.9458478689193726, 1.9458476305007935, 1.9458476305007935, 1.9458476305007935, 1.9458476305007935, 1.9458476305007935, 1.9458476305007935, 1.9458476305007935, 1.9458476305007935, 1.9458476305007935, 1.9458478689193726, 1.9458478689193726, 1.9458476305007935, 1.9458476305007935, 1.9458476305007935, 1.9458476305007935, 60.49139404296875, 4.121691703796387, 1.9458476305007935, 12.531343460083008, 10.629526138305664, 13.314582824707031, 16.467529296875, 6.074883460998535, 2.418848752975464, 20.575437545776367, 4.573481559753418, 3.1628215312957764, 4.779442310333252, 2.889613389968872, 2.6230595111846924, 2.3754053115844727, 16.11783790588379, 8.05424976348877, 7.6670942306518555, 7.313562393188477, 6.872408390045166, 5.986419200897217, 5.864354133605957, 5.288412094116211, 4.776655673980713, 4.380013465881348, 3.9102370738983154, 3.8366665840148926, 3.7436585426330566, 3.617924690246582, 3.148848533630371, 2.8772385120391846, 2.803670644760132, 2.7533390522003174, 18.494375228881836, 2.4081614017486572, 2.406327724456787, 10.267327308654785, 1.9586535692214966, 1.9372504949569702, 1.937251091003418, 1.937251091003418, 1.937251091003418, 1.9372504949569702, 1.937251091003418, 1.937251091003418, 13.145748138427734, 1.937251091003418, 1.937251091003418, 8.403270721435547, 11.059782981872559, 5.838592052459717, 22.748573303222656, 3.4411845207214355, 6.454580783843994, 6.5696234703063965, 9.532057762145996, 8.64433765411377, 6.926855564117432, 5.74934720993042, 8.227022171020508, 8.74090576171875, 13.776787757873535, 5.567944526672363, 4.5883564949035645, 5.127903461456299, 4.7712907791137695, 10.5955171585083, 10.376079559326172, 10.355270385742188, 7.505795955657959, 6.947620868682861, 6.753811359405518, 6.008866310119629, 5.630844593048096, 5.115789890289307, 4.832757472991943, 4.724247455596924, 6.874664306640625, 3.616830825805664, 3.4989447593688965, 5.618271827697754, 3.486356258392334, 3.4163713455200195, 3.040379762649536, 3.040379524230957, 6.91164493560791, 2.702913999557495, 2.7008554935455322, 2.7008559703826904, 2.7008554935455322, 2.7008554935455322, 2.3748245239257812, 2.337451934814453, 2.2569375038146973, 2.0679125785827637, 4.666533470153809, 4.511494159698486, 9.62862491607666, 12.142247200012207, 13.90884780883789, 11.277444839477539, 4.494912624359131, 5.063571453094482, 7.928678512573242, 5.1797566413879395, 11.594141960144043, 6.722953796386719, 5.781366348266602, 4.9288835525512695, 5.066811561584473, 3.803814172744751, 11.360803604125977, 8.451148986816406, 7.4394354820251465, 6.39700984954834, 6.14372444152832, 5.557557106018066, 5.245636463165283, 4.840603828430176, 4.33490514755249, 3.3944709300994873, 3.240548610687256, 3.1708884239196777, 2.949082612991333, 2.7876884937286377, 2.7164106369018555, 2.7164106369018555, 2.3440771102905273, 2.239542245864868, 1.8895992040634155, 1.8794119358062744, 1.8794032335281372, 1.8769567012786865, 1.8769563436508179, 1.8769563436508179, 1.8769563436508179, 1.7850648164749146, 1.7850648164749146, 1.7264291048049927, 1.715563178062439, 1.715563178062439, 1.715563178062439, 20.369491577148438, 17.700895309448242, 12.515264511108398, 9.96927547454834, 5.743711471557617, 5.421445846557617, 12.85666275024414, 4.190610885620117, 3.5704007148742676, 3.1054506301879883, 4.924779415130615, 4.008416652679443, 4.884225368499756, 2.7838165760040283, 3.182810068130493, 21.455101013183594, 11.354819297790527, 7.6085405349731445, 7.160860061645508, 6.970152378082275, 6.910501956939697, 6.827060222625732, 4.924439430236816, 4.368607521057129, 3.7944998741149902, 8.167440414428711, 3.5140414237976074, 3.4046638011932373, 3.3918023109436035, 3.2276129722595215, 2.9394946098327637, 4.107442378997803, 2.3718130588531494, 2.1479732990264893, 1.9744336605072021, 1.9305601119995117, 1.9223260879516602, 1.9094642400741577, 1.9094642400741577, 1.9094634056091309, 1.9094634056091309, 1.9094634056091309, 1.9094634056091309, 1.9094634056091309, 1.8598546981811523, 7.536068439483643, 4.53912878036499, 4.133714199066162, 17.45024871826172, 9.235821723937988, 8.800256729125977, 3.285853147506714, 4.97484016418457, 10.42599868774414, 6.1464996337890625, 4.06320858001709, 3.799450397491455, 2.979456901550293, 10.393847465515137, 8.68976879119873, 7.951453685760498, 7.33600378036499, 6.540988922119141, 5.3878865242004395, 5.24066162109375, 3.8874776363372803, 3.5359795093536377, 3.1395509243011475, 2.8433680534362793, 2.7879438400268555, 2.7879440784454346, 2.630523443222046, 2.312654972076416, 2.1438710689544678, 2.0374486446380615, 1.9629058837890625, 1.9629058837890625, 1.9629058837890625, 1.9629058837890625, 1.9629058837890625, 1.9629062414169312, 1.9629062414169312, 9.535768508911133, 1.6157253980636597, 1.5621594190597534, 3.267749547958374, 1.3915174007415771, 1.3915174007415771, 5.639538764953613, 9.28421688079834, 8.491279602050781, 9.400484085083008, 13.679117202758789, 7.687018394470215, 3.462557554244995, 5.334609508514404, 4.903122425079346, 4.048342227935791, 2.269408941268921, 4.011282444000244, 3.631885051727295, 2.339599609375, 20.804244995117188, 15.79517936706543, 5.79619026184082, 4.488893032073975, 8.36298656463623, 2.9586853981018066, 2.8848750591278076, 2.4142534732818604, 2.4142534732818604, 2.4142534732818604, 2.4142534732818604, 2.247126817703247, 2.017441511154175, 2.017441511154175, 1.9436312913894653, 1.9436312913894653, 1.9436312913894653, 1.9436312913894653, 1.9436312913894653, 1.9436310529708862, 1.9436310529708862, 1.9436299800872803, 1.7877565622329712, 1.546819806098938, 1.4498237371444702, 1.4498237371444702, 1.3778530359268188, 1.377853274345398, 1.3778530359268188, 1.2535455226898193, 11.935266494750977, 3.9956421852111816, 1.9439752101898193, 3.7347753047943115, 8.522967338562012, 3.8176987171173096, 4.139319896697998, 2.6665172576904297, 2.5473766326904297, 37.08022689819336, 13.987344741821289, 7.825194358825684, 4.853973388671875, 4.039532661437988, 2.75400710105896, 2.745595932006836, 2.329700231552124, 2.2382025718688965, 2.133509874343872, 2.133510112762451, 1.7176145315170288, 1.7176145315170288, 1.7176145315170288, 1.7176145315170288, 1.7176145315170288, 1.7176145315170288, 1.7176145315170288, 1.7176145315170288, 7.126576900482178, 1.569919228553772, 1.4138189554214478, 1.3669465780258179, 2.433368444442749, 0.8653339147567749, 0.8017332553863525, 0.8017332553863525, 0.8017332553863525, 0.8017332553863525, 0.8017332553863525, 0.8017332553863525, 0.8017332553863525, 0.8017332553863525, 0.8017332553863525, 0.8017332553863525, 0.8017332553863525, 0.8017332553863525, 0.8017332553863525, 3.109621286392212, 1.6344902515411377, 3.8539621829986572, 2.1207218170166016, 1.2953195571899414, 1.5157413482666016, 2.7629334926605225, 6.943607807159424, 5.399966716766357, 4.728516578674316, 3.3349103927612305, 2.805043935775757, 2.497554063796997, 2.4975545406341553, 2.4975545406341553, 3.1989731788635254, 1.7257338762283325, 1.7257338762283325, 1.7257338762283325, 1.7257338762283325, 1.680897831916809, 1.577343463897705, 1.577343463897705, 1.577343463897705, 1.577343463897705, 1.577343463897705, 5.762159824371338, 1.4844039678573608, 4.4788289070129395, 1.3269383907318115, 1.1769145727157593, 1.1130125522613525, 2.3591392040252686, 0.8694249391555786, 0.8694247603416443, 0.8694247603416443, 0.8694247603416443, 7.812625408172607, 7.412661075592041, 3.842802047729492, 3.210242748260498, 1.9533571004867554, 1.5798375606536865, 2.419496536254883, 2.2004928588867188, 1.6800906658172607, 6.753731727600098, 6.336174488067627, 4.657181739807129, 3.395279884338379, 3.1830291748046875, 3.1150262355804443, 1.998131275177002, 1.9128553867340088, 1.5902336835861206, 1.5728720426559448, 1.5728720426559448, 1.5728720426559448, 1.5728720426559448, 1.5728720426559448, 1.5728720426559448, 1.5728720426559448, 1.5728720426559448, 1.5728720426559448, 1.5728720426559448, 1.5728720426559448, 1.5728720426559448, 1.5728720426559448, 1.5728720426559448, 1.5728718042373657, 1.5728718042373657, 1.5728718042373657, 1.5728718042373657, 1.4376258850097656, 3.6586639881134033, 0.8285531401634216, 5.90780782699585, 2.4982213973999023, 3.461693525314331, 2.3499832153320312, 2.2442171573638916, 1.7601929903030396], \"Total\": [347.0, 233.0, 89.0, 388.0, 151.0, 37.0, 72.0, 70.0, 66.0, 185.0, 141.0, 59.0, 116.0, 109.0, 58.0, 84.0, 52.0, 83.0, 66.0, 48.0, 65.0, 84.0, 62.0, 30.0, 38.0, 53.0, 51.0, 40.0, 37.0, 109.0, 37.59787368774414, 37.597557067871094, 37.07134246826172, 37.04777908325195, 66.66404724121094, 29.91101837158203, 23.712295532226562, 22.741918563842773, 17.52708625793457, 14.800053596496582, 12.78560733795166, 11.505062103271484, 11.127264022827148, 10.693875312805176, 9.903149604797363, 9.691948890686035, 9.534917831420898, 8.550570487976074, 8.10535717010498, 7.387035369873047, 7.097546100616455, 6.353799343109131, 9.532238006591797, 5.5576252937316895, 5.511062145233154, 5.165979385375977, 5.076389312744141, 37.48255157470703, 4.790472030639648, 4.505429267883301, 14.49946403503418, 10.006318092346191, 151.70977783203125, 22.100969314575195, 347.7204284667969, 185.6538848876953, 32.841732025146484, 84.35830688476562, 28.70866584777832, 109.2420654296875, 233.69296264648438, 25.433856964111328, 22.622406005859375, 141.19473266601562, 60.63985824584961, 66.9507827758789, 65.12630462646484, 86.41061401367188, 76.80194091796875, 47.62823486328125, 52.32457733154297, 55.9280891418457, 71.8258285522461, 84.2072982788086, 47.85926055908203, 21.1480655670166, 21.100963592529297, 19.849342346191406, 18.792892456054688, 16.056568145751953, 15.624656677246094, 15.00834846496582, 14.467385292053223, 14.380600929260254, 13.625407218933105, 12.615434646606445, 26.644838333129883, 20.883882522583008, 11.029513359069824, 10.815254211425781, 10.617779731750488, 10.161600112915039, 9.795463562011719, 9.06777286529541, 9.047184944152832, 8.91076946258545, 8.761248588562012, 8.186759948730469, 7.501856803894043, 7.350017547607422, 6.749034881591797, 6.599514961242676, 35.300682067871094, 18.22071075439453, 6.023702621459961, 29.633445739746094, 22.059831619262695, 65.29949188232422, 29.157535552978516, 26.723085403442383, 48.31920623779297, 388.1863098144531, 33.371337890625, 70.51055145263672, 84.2072982788086, 62.058349609375, 66.02641296386719, 141.19473266601562, 79.88558197021484, 151.70977783203125, 116.69216918945312, 109.23548889160156, 55.29853057861328, 73.285888671875, 52.058372497558594, 185.6538848876953, 71.7043685913086, 49.29731750488281, 54.14232635498047, 71.8258285522461, 48.266475677490234, 27.93566131591797, 26.006874084472656, 22.564743041992188, 17.901811599731445, 16.792640686035156, 16.775123596191406, 13.487689971923828, 12.826416969299316, 12.245884895324707, 10.56826114654541, 10.021601676940918, 9.531742095947266, 9.073315620422363, 7.021317958831787, 24.424835205078125, 6.828710079193115, 6.617026329040527, 6.287003517150879, 19.74942970275879, 23.69183349609375, 5.789037704467773, 5.697495460510254, 5.5401692390441895, 5.540169715881348, 5.490217685699463, 5.332891941070557, 5.267981052398682, 5.1138105392456055, 5.048027515411377, 18.022220611572266, 13.392328262329102, 20.48215675354004, 116.69216918945312, 18.785921096801758, 388.1863098144531, 83.23573303222656, 86.41061401367188, 9.736218452453613, 109.23548889160156, 66.9507827758789, 24.368207931518555, 72.90126037597656, 23.053180694580078, 51.80063247680664, 71.7043685913086, 76.80194091796875, 79.88558197021484, 55.29853057861328, 22.145219802856445, 18.37922477722168, 16.492210388183594, 14.987961769104004, 9.644453048706055, 8.715302467346191, 8.513181686401367, 8.439749717712402, 7.337520599365234, 7.043058395385742, 6.854545593261719, 59.343204498291016, 6.412820339202881, 6.087576866149902, 5.3233489990234375, 17.37811279296875, 5.0938825607299805, 4.943546295166016, 4.664915561676025, 4.460568904876709, 4.460568904876709, 4.054099082946777, 3.9670586585998535, 3.8914012908935547, 3.776320457458496, 3.702887535095215, 3.689279079437256, 3.5626864433288574, 3.536717414855957, 3.207152843475342, 3.207152843475342, 33.10102081298828, 10.469893455505371, 8.985000610351562, 30.370365142822266, 47.62823486328125, 347.7204284667969, 41.62000274658203, 54.14232635498047, 9.744664192199707, 76.80194091796875, 30.041791915893555, 109.2420654296875, 71.7043685913086, 15.667448997497559, 35.98653030395508, 233.69296264648438, 65.12630462646484, 185.6538848876953, 141.19473266601562, 109.23548889160156, 34.656776428222656, 40.300899505615234, 60.63985824584961, 18.479028701782227, 388.1863098144531, 66.9507827758789, 22.91216278076172, 20.624452590942383, 20.14447784423828, 14.144336700439453, 12.603876113891602, 10.140213012695312, 8.290817260742188, 7.069821357727051, 6.995343208312988, 6.657565116882324, 6.505087375640869, 6.272756099700928, 6.221096038818359, 5.948779582977295, 5.913022041320801, 5.913017749786377, 5.4388251304626465, 11.234431266784668, 5.283228397369385, 5.219030857086182, 4.937296390533447, 4.5798187255859375, 18.090410232543945, 31.852888107299805, 3.7279739379882812, 3.591554641723633, 3.575496196746826, 3.575496196746826, 3.5754966735839844, 3.514418601989746, 9.372196197509766, 12.525020599365234, 21.854990005493164, 9.97419261932373, 233.69296264648438, 71.8258285522461, 84.35830688476562, 83.23573303222656, 79.88558197021484, 40.73598098754883, 26.792404174804688, 22.622406005859375, 41.62000274658203, 388.1863098144531, 53.755958557128906, 26.58824348449707, 20.877216339111328, 11.800092697143555, 11.151615142822266, 10.305784225463867, 10.037697792053223, 13.183053016662598, 7.274352073669434, 7.1177449226379395, 7.095401763916016, 6.066433429718018, 10.271233558654785, 5.190182209014893, 5.067980766296387, 5.0525288581848145, 4.781441688537598, 4.634726524353027, 4.57212495803833, 4.313100814819336, 9.353049278259277, 4.166385650634766, 3.96696138381958, 18.68486785888672, 3.4115052223205566, 5.474016189575195, 3.065366268157959, 3.0623645782470703, 3.0623648166656494, 3.0623648166656494, 3.0623650550842285, 3.0623650550842285, 26.834819793701172, 18.615306854248047, 14.146974563598633, 30.041791915893555, 5.7162699699401855, 18.340152740478516, 58.64567184448242, 11.793720245361328, 18.964693069458008, 89.8577651977539, 19.330747604370117, 38.42595291137695, 233.69296264648438, 109.2420654296875, 55.9280891418457, 71.7043685913086, 10.304088592529297, 76.80194091796875, 12.848932266235352, 12.356060981750488, 11.775005340576172, 9.593894004821777, 7.714438438415527, 6.838726043701172, 6.051886558532715, 5.612628936767578, 5.231813907623291, 4.828591823577881, 4.575511455535889, 3.8707752227783203, 3.8707756996154785, 3.8707752227783203, 3.6866254806518555, 5.564693450927734, 5.320443630218506, 3.294548511505127, 3.294548511505127, 3.247368335723877, 3.1804652214050293, 2.9942874908447266, 11.993478775024414, 2.912959098815918, 2.7288098335266113, 2.7288098335266113, 2.7288098335266113, 2.7288098335266113, 2.728809356689453, 2.7288098335266113, 14.730735778808594, 14.637736320495605, 4.953758239746094, 51.922569274902344, 21.201644897460938, 22.23186683654785, 9.17458724975586, 15.741283416748047, 43.888038635253906, 30.370365142822266, 40.15181350708008, 40.300899505615234, 141.19473266601562, 62.058349609375, 18.340152740478516, 27.451086044311523, 84.2072982788086, 55.9280891418457, 19.330747604370117, 47.85926055908203, 32.08729553222656, 185.6538848876953, 16.3740177154541, 10.532769203186035, 8.387528419494629, 7.931188583374023, 7.077389240264893, 6.957012176513672, 6.815367698669434, 6.569690704345703, 6.195971965789795, 5.894341945648193, 5.737514972686768, 5.628084659576416, 5.342172622680664, 5.210162162780762, 4.751706600189209, 4.402681350708008, 4.353438854217529, 4.293250560760498, 4.210483074188232, 4.004414081573486, 3.944225311279297, 3.80126953125, 3.743196964263916, 17.380096435546875, 3.545957565307617, 3.545957565307617, 3.4030022621154785, 3.2935709953308105, 10.79041576385498, 3.004734992980957, 38.42595291137695, 5.123672008514404, 11.024755477905273, 27.29218864440918, 24.045215606689453, 6.582690238952637, 21.854990005493164, 17.139917373657227, 20.464679718017578, 21.48885154724121, 73.285888671875, 388.1863098144531, 60.63985824584961, 19.869232177734375, 14.146974563598633, 15.691817283630371, 58.64567184448242, 40.73598098754883, 30.780197143554688, 16.048673629760742, 10.49978256225586, 8.061359405517578, 9.032052993774414, 7.41156005859375, 7.280838489532471, 6.591604232788086, 6.480820655822754, 5.764112949371338, 5.373793601989746, 5.202811241149902, 4.993010997772217, 4.686577320098877, 4.423059940338135, 4.317911148071289, 4.315893173217773, 4.306699275970459, 4.121356964111328, 3.959568500518799, 3.8016772270202637, 3.6051230430603027, 3.2834248542785645, 3.2834248542785645, 3.100100040435791, 2.90354585647583, 2.90354585647583, 2.90354585647583, 2.90354585647583, 2.90354585647583, 2.90354585647583, 2.90354585647583, 23.548423767089844, 8.402782440185547, 20.28684425354004, 53.755958557128906, 19.01235008239746, 29.67981719970703, 8.25269889831543, 16.203481674194336, 18.62752914428711, 26.792404174804688, 73.285888671875, 19.498516082763672, 37.4367561340332, 388.1863098144531, 34.656776428222656, 38.43899917602539, 20.753477096557617, 11.6195650100708, 10.454475402832031, 8.958024978637695, 8.241402626037598, 6.886756420135498, 6.785589218139648, 6.5601067543029785, 6.018581390380859, 4.792656898498535, 4.759836673736572, 4.759836673736572, 4.620663166046143, 4.348937511444092, 10.081794738769531, 3.3502678871154785, 3.2960729598999023, 3.273837089538574, 4.6078925132751465, 8.178266525268555, 2.789140224456787, 2.7865066528320312, 2.7865066528320312, 2.7865066528320312, 2.7865066528320312, 2.7865066528320312, 2.7865066528320312, 2.7865066528320312, 2.7865066528320312, 2.7865066528320312, 2.7865066528320312, 2.7865066528320312, 2.7865066528320312, 8.603106498718262, 13.881235122680664, 21.160066604614258, 14.365677833557129, 70.51055145263672, 72.90126037597656, 58.64567184448242, 7.106317043304443, 27.451086044311523, 19.330747604370117, 84.2072982788086, 38.43899917602539, 62.058349609375, 388.1863098144531, 73.285888671875, 52.32457733154297, 84.35830688476562, 7.536850929260254, 7.187268257141113, 23.054973602294922, 6.441452503204346, 5.227024555206299, 5.101871013641357, 4.628870487213135, 4.628870010375977, 3.7080512046813965, 17.905517578125, 3.414442539215088, 3.371574878692627, 3.3613414764404297, 3.1921825408935547, 3.044520854949951, 2.9640774726867676, 2.9116806983947754, 2.900416374206543, 12.425690650939941, 2.7210235595703125, 2.7210235595703125, 2.7210240364074707, 2.7210240364074707, 2.7210240364074707, 2.7210240364074707, 2.7210240364074707, 2.7210235595703125, 2.7210235595703125, 2.7210235595703125, 2.7210240364074707, 2.7210240364074707, 2.7210235595703125, 2.7210235595703125, 2.7210235595703125, 2.7210235595703125, 89.8577651977539, 5.873915195465088, 2.7210235595703125, 21.36573600769043, 19.228849411010742, 27.29218864440918, 52.058372497558594, 13.655901908874512, 3.8223695755004883, 388.1863098144531, 18.456571578979492, 8.03442096710205, 52.32457733154297, 9.809660911560059, 10.254232406616211, 40.73598098754883, 16.89318084716797, 8.82959270477295, 8.442437171936035, 8.088906288146973, 7.647752285003662, 6.761763095855713, 6.639698028564453, 6.063755989074707, 5.551999568939209, 5.15535831451416, 4.685580730438232, 4.6120123863220215, 4.519002437591553, 4.393268585205078, 3.924192428588867, 3.6525821685791016, 3.579014301300049, 3.5286827087402344, 24.08096694946289, 3.183505058288574, 3.181671619415283, 13.889937400817871, 2.733997344970703, 2.712594509124756, 2.712594985961914, 2.712594985961914, 2.712594985961914, 2.712594509124756, 2.712594985961914, 2.712594985961914, 18.456571578979492, 2.712594985961914, 2.712594985961914, 14.199721336364746, 20.084383010864258, 10.138420104980469, 66.02641296386719, 6.027019500732422, 16.203481674194336, 16.77968978881836, 53.755958557128906, 47.85926055908203, 32.08729553222656, 20.753477096557617, 71.8258285522461, 86.41061401367188, 388.1863098144531, 66.9507827758789, 23.423471450805664, 73.285888671875, 49.29731750488281, 11.366230010986328, 11.1467924118042, 11.125983238220215, 8.276508331298828, 7.718333721160889, 7.524524688720703, 6.779611587524414, 6.401557922363281, 5.886502742767334, 5.603470325469971, 5.496800899505615, 8.281254768371582, 4.387543678283691, 4.269657611846924, 6.859594345092773, 4.257069110870361, 4.187084197998047, 3.8110928535461426, 3.8110923767089844, 8.668365478515625, 3.4736270904541016, 3.4715685844421387, 3.471569061279297, 3.4715685844421387, 3.4715685844421387, 3.1455373764038086, 3.1081647872924805, 3.0276503562927246, 2.838625431060791, 6.744507312774658, 7.069173812866211, 19.498516082763672, 26.792404174804688, 39.24983596801758, 52.058372497558594, 9.399116516113281, 14.199721336364746, 49.29731750488281, 19.228849411010742, 388.1863098144531, 116.69216918945312, 86.41061401367188, 40.73598098754883, 52.32457733154297, 14.07196044921875, 12.137324333190918, 9.227669715881348, 8.215956687927246, 7.173533916473389, 6.920248031616211, 6.334079265594482, 6.022158622741699, 5.617125034332275, 5.111426830291748, 4.170992374420166, 4.018739700317383, 3.9474096298217773, 3.7256040573120117, 3.564209461212158, 3.492931842803955, 3.492931842803955, 3.120598316192627, 3.016063690185547, 2.6661205291748047, 2.6559338569641113, 2.6559362411499023, 2.653477668762207, 2.653477668762207, 2.653477668762207, 2.653477668762207, 2.5615859031677246, 2.5615859031677246, 2.5029501914978027, 2.492084503173828, 2.492084503173828, 2.492084503173828, 40.73598098754883, 37.4367561340332, 26.997770309448242, 24.045215606689453, 15.667448997497559, 16.129501342773438, 83.23573303222656, 12.378451347351074, 11.890092849731445, 9.809660911560059, 35.98653030395508, 55.9280891418457, 347.7204284667969, 15.691817283630371, 388.1863098144531, 22.230987548828125, 12.130705833435059, 8.384427070617676, 7.936746597290039, 7.746038913726807, 7.6863884925842285, 7.602946758270264, 5.700325965881348, 5.14449405670166, 4.5703864097595215, 9.947579383850098, 4.2905683517456055, 4.1805500984191895, 4.167688846588135, 4.003499507904053, 3.7153806686401367, 5.3278489112854, 3.1476993560791016, 2.9238595962524414, 2.7503199577331543, 2.7064461708068848, 2.698212146759033, 2.6853504180908203, 2.6853504180908203, 2.6853504180908203, 2.6853504180908203, 2.6853504180908203, 2.6853504180908203, 2.6853504180908203, 2.6357407569885254, 15.691817283630371, 8.807046890258789, 8.03442096710205, 72.90126037597656, 55.9280891418457, 65.29949188232422, 8.41207504272461, 31.852888107299805, 388.1863098144531, 109.23548889160156, 52.32457733154297, 70.51055145263672, 37.48255157470703, 11.168689727783203, 9.464611053466797, 8.726295471191406, 8.110845565795898, 7.315831661224365, 6.162729740142822, 6.015504360198975, 4.662321090698242, 4.31084680557251, 3.914393424987793, 3.618210792541504, 3.56278657913208, 3.56278657913208, 3.4053659439086914, 3.0874977111816406, 2.9187135696411133, 2.812291145324707, 2.737748622894287, 2.737748622894287, 2.737748622894287, 2.737748622894287, 2.737748622894287, 2.7377490997314453, 2.7377490997314453, 14.07196044921875, 2.390568256378174, 2.3370018005371094, 4.930046081542969, 2.1663599014282227, 2.1663599014282227, 9.193012237548828, 18.964693069458008, 17.139917373657227, 32.841732025146484, 233.69296264648438, 62.058349609375, 13.655901908874512, 79.88558197021484, 83.23573303222656, 55.29853057861328, 5.255941867828369, 70.51055145263672, 58.64567184448242, 13.889937400817871, 21.74687957763672, 16.57040023803711, 6.571409225463867, 5.2641119956970215, 10.093441009521484, 3.7339043617248535, 3.6600942611694336, 3.1894726753234863, 3.1894726753234863, 3.1894726753234863, 3.1894726753234863, 3.022346019744873, 2.792660713195801, 2.792660713195801, 2.7188501358032227, 2.7188501358032227, 2.7188501358032227, 2.7188501358032227, 2.7188501358032227, 2.7188501358032227, 2.7188501358032227, 2.718850612640381, 2.5629758834838867, 2.3220386505126953, 2.2250428199768066, 2.2250428199768066, 2.153071880340576, 2.1530723571777344, 2.1530721187591553, 2.028764247894287, 19.761898040771484, 7.41904878616333, 3.555495262145996, 12.291956901550293, 109.23548889160156, 21.201644897460938, 37.4367561340332, 51.922569274902344, 73.285888671875, 37.859867095947266, 14.766977310180664, 8.604826927185059, 5.633606433868408, 4.819165229797363, 3.533639907836914, 3.525228977203369, 3.1093332767486572, 3.0178356170654297, 2.913142681121826, 2.9131431579589844, 2.4972472190856934, 2.4972472190856934, 2.4972472190856934, 2.4972476959228516, 2.4972472190856934, 2.4972472190856934, 2.4972472190856934, 2.4972472190856934, 10.489531517028809, 2.3495559692382812, 2.1934518814086914, 2.1465795040130615, 3.8884434700012207, 1.6449674367904663, 1.5813661813735962, 1.5813661813735962, 1.5813661813735962, 1.5813661813735962, 1.5813661813735962, 1.5813661813735962, 1.5813661813735962, 1.5813661813735962, 1.5813661813735962, 1.5813661813735962, 1.5813661813735962, 1.5813661813735962, 1.5813661813735962, 9.809660911560059, 5.07581901550293, 39.24983596801758, 16.203481674194336, 8.178266525268555, 18.22071075439453, 388.1863098144531, 7.723082065582275, 6.179440975189209, 5.508002758026123, 4.114384651184082, 3.5845184326171875, 3.2770285606384277, 3.277029037475586, 3.277029037475586, 4.419000625610352, 2.5052084922790527, 2.5052084922790527, 2.5052084922790527, 2.5052084922790527, 2.460371971130371, 2.3568177223205566, 2.3568177223205566, 2.3568177223205566, 2.3568177223205566, 2.356818199157715, 8.629170417785645, 2.263878345489502, 6.996914386749268, 2.106412887573242, 1.9563888311386108, 1.8924869298934937, 4.361927032470703, 1.6488993167877197, 1.6488991975784302, 1.6488991975784302, 1.6488991975784302, 20.464679718017578, 23.053180694580078, 17.046342849731445, 23.3424015045166, 11.793720245361328, 6.202558994293213, 49.29731750488281, 83.23573303222656, 151.70977783203125, 7.536191463470459, 7.118634223937988, 5.439641952514648, 4.17773962020874, 3.965488910675049, 3.8974862098693848, 2.7805910110473633, 2.695314884185791, 2.372714042663574, 2.3553316593170166, 2.3553316593170166, 2.3553316593170166, 2.3553316593170166, 2.3553316593170166, 2.3553316593170166, 2.3553316593170166, 2.3553316593170166, 2.3553316593170166, 2.3553316593170166, 2.3553316593170166, 2.3553316593170166, 2.3553316593170166, 2.3553316593170166, 2.3553314208984375, 2.3553314208984375, 2.3553314208984375, 2.3553314208984375, 2.220085620880127, 6.188652038574219, 1.6110126972198486, 14.575305938720703, 5.974096298217773, 84.35830688476562, 18.090410232543945, 41.62000274658203, 14.637736320495605], \"Category\": [\"Default\", \"Default\", \"Default\", \"Default\", \"Default\", \"Default\", \"Default\", \"Default\", \"Default\", \"Default\", \"Default\", \"Default\", \"Default\", \"Default\", \"Default\", \"Default\", \"Default\", \"Default\", \"Default\", \"Default\", \"Default\", \"Default\", \"Default\", \"Default\", \"Default\", \"Default\", \"Default\", \"Default\", \"Default\", \"Default\", \"Topic1\", \"Topic1\", \"Topic1\", \"Topic1\", \"Topic1\", \"Topic1\", \"Topic1\", \"Topic1\", \"Topic1\", \"Topic1\", \"Topic1\", \"Topic1\", \"Topic1\", \"Topic1\", \"Topic1\", \"Topic1\", \"Topic1\", \"Topic1\", \"Topic1\", \"Topic1\", \"Topic1\", \"Topic1\", \"Topic1\", \"Topic1\", \"Topic1\", \"Topic1\", \"Topic1\", \"Topic1\", \"Topic1\", \"Topic1\", \"Topic1\", \"Topic1\", \"Topic1\", \"Topic1\", \"Topic1\", \"Topic1\", \"Topic1\", \"Topic1\", \"Topic1\", \"Topic1\", \"Topic1\", \"Topic1\", \"Topic1\", \"Topic1\", \"Topic1\", \"Topic1\", \"Topic1\", \"Topic1\", \"Topic1\", \"Topic1\", \"Topic1\", \"Topic1\", \"Topic1\", \"Topic1\", \"Topic1\", \"Topic2\", \"Topic2\", \"Topic2\", \"Topic2\", \"Topic2\", \"Topic2\", \"Topic2\", \"Topic2\", \"Topic2\", \"Topic2\", \"Topic2\", \"Topic2\", \"Topic2\", \"Topic2\", \"Topic2\", \"Topic2\", \"Topic2\", \"Topic2\", \"Topic2\", \"Topic2\", \"Topic2\", \"Topic2\", \"Topic2\", \"Topic2\", \"Topic2\", \"Topic2\", \"Topic2\", \"Topic2\", \"Topic2\", \"Topic2\", \"Topic2\", \"Topic2\", \"Topic2\", \"Topic2\", \"Topic2\", \"Topic2\", \"Topic2\", \"Topic2\", \"Topic2\", \"Topic2\", \"Topic2\", \"Topic2\", \"Topic2\", \"Topic2\", \"Topic2\", \"Topic2\", \"Topic2\", \"Topic2\", \"Topic2\", \"Topic2\", \"Topic2\", \"Topic2\", \"Topic2\", \"Topic2\", \"Topic2\", \"Topic3\", \"Topic3\", \"Topic3\", \"Topic3\", \"Topic3\", \"Topic3\", \"Topic3\", \"Topic3\", \"Topic3\", \"Topic3\", \"Topic3\", \"Topic3\", \"Topic3\", \"Topic3\", \"Topic3\", \"Topic3\", \"Topic3\", \"Topic3\", \"Topic3\", \"Topic3\", \"Topic3\", \"Topic3\", \"Topic3\", \"Topic3\", \"Topic3\", \"Topic3\", \"Topic3\", \"Topic3\", \"Topic3\", \"Topic3\", \"Topic3\", \"Topic3\", \"Topic3\", \"Topic3\", \"Topic3\", \"Topic3\", \"Topic3\", \"Topic3\", \"Topic3\", \"Topic3\", \"Topic3\", \"Topic3\", \"Topic3\", \"Topic3\", \"Topic3\", \"Topic3\", \"Topic3\", \"Topic3\", \"Topic3\", \"Topic4\", \"Topic4\", \"Topic4\", \"Topic4\", \"Topic4\", \"Topic4\", \"Topic4\", \"Topic4\", \"Topic4\", \"Topic4\", \"Topic4\", \"Topic4\", \"Topic4\", \"Topic4\", \"Topic4\", \"Topic4\", \"Topic4\", \"Topic4\", \"Topic4\", \"Topic4\", \"Topic4\", \"Topic4\", \"Topic4\", \"Topic4\", \"Topic4\", \"Topic4\", \"Topic4\", \"Topic4\", \"Topic4\", \"Topic4\", \"Topic4\", \"Topic4\", \"Topic4\", \"Topic4\", \"Topic4\", \"Topic4\", \"Topic4\", \"Topic4\", \"Topic4\", \"Topic4\", \"Topic4\", \"Topic4\", \"Topic4\", \"Topic4\", \"Topic4\", \"Topic4\", \"Topic4\", \"Topic4\", \"Topic4\", \"Topic4\", \"Topic4\", \"Topic4\", \"Topic4\", \"Topic4\", \"Topic4\", \"Topic4\", \"Topic4\", \"Topic5\", \"Topic5\", \"Topic5\", \"Topic5\", \"Topic5\", \"Topic5\", \"Topic5\", \"Topic5\", \"Topic5\", \"Topic5\", \"Topic5\", \"Topic5\", \"Topic5\", \"Topic5\", \"Topic5\", \"Topic5\", \"Topic5\", \"Topic5\", \"Topic5\", \"Topic5\", \"Topic5\", \"Topic5\", \"Topic5\", \"Topic5\", \"Topic5\", \"Topic5\", \"Topic5\", \"Topic5\", \"Topic5\", \"Topic5\", \"Topic5\", \"Topic5\", \"Topic5\", \"Topic5\", \"Topic5\", \"Topic5\", \"Topic5\", \"Topic5\", \"Topic5\", \"Topic5\", \"Topic5\", \"Topic5\", \"Topic5\", \"Topic5\", \"Topic5\", \"Topic6\", \"Topic6\", \"Topic6\", \"Topic6\", \"Topic6\", \"Topic6\", \"Topic6\", \"Topic6\", \"Topic6\", \"Topic6\", \"Topic6\", \"Topic6\", \"Topic6\", \"Topic6\", \"Topic6\", \"Topic6\", \"Topic6\", \"Topic6\", \"Topic6\", \"Topic6\", \"Topic6\", \"Topic6\", \"Topic6\", \"Topic6\", \"Topic6\", \"Topic6\", \"Topic6\", \"Topic6\", \"Topic6\", \"Topic6\", \"Topic6\", \"Topic6\", \"Topic6\", \"Topic6\", \"Topic6\", \"Topic6\", \"Topic6\", \"Topic6\", \"Topic6\", \"Topic6\", \"Topic6\", \"Topic6\", \"Topic6\", \"Topic6\", \"Topic6\", \"Topic6\", \"Topic6\", \"Topic6\", \"Topic6\", \"Topic7\", \"Topic7\", \"Topic7\", \"Topic7\", \"Topic7\", \"Topic7\", \"Topic7\", \"Topic7\", \"Topic7\", \"Topic7\", \"Topic7\", \"Topic7\", \"Topic7\", \"Topic7\", \"Topic7\", \"Topic7\", \"Topic7\", \"Topic7\", \"Topic7\", \"Topic7\", \"Topic7\", \"Topic7\", \"Topic7\", \"Topic7\", \"Topic7\", \"Topic7\", \"Topic7\", \"Topic7\", \"Topic7\", \"Topic7\", \"Topic7\", \"Topic7\", \"Topic7\", \"Topic7\", \"Topic7\", \"Topic7\", \"Topic7\", \"Topic7\", \"Topic7\", \"Topic7\", \"Topic7\", \"Topic7\", \"Topic7\", \"Topic7\", \"Topic7\", \"Topic7\", \"Topic7\", \"Topic7\", \"Topic7\", \"Topic7\", \"Topic7\", \"Topic7\", \"Topic8\", \"Topic8\", \"Topic8\", \"Topic8\", \"Topic8\", \"Topic8\", \"Topic8\", \"Topic8\", \"Topic8\", \"Topic8\", \"Topic8\", \"Topic8\", \"Topic8\", \"Topic8\", \"Topic8\", \"Topic8\", \"Topic8\", \"Topic8\", \"Topic8\", \"Topic8\", \"Topic8\", \"Topic8\", \"Topic8\", \"Topic8\", \"Topic8\", \"Topic8\", \"Topic8\", \"Topic8\", \"Topic8\", \"Topic8\", \"Topic8\", \"Topic8\", \"Topic8\", \"Topic8\", \"Topic8\", \"Topic8\", \"Topic8\", \"Topic8\", \"Topic8\", \"Topic8\", \"Topic8\", \"Topic8\", \"Topic8\", \"Topic8\", \"Topic8\", \"Topic8\", \"Topic8\", \"Topic8\", \"Topic9\", \"Topic9\", \"Topic9\", \"Topic9\", \"Topic9\", \"Topic9\", \"Topic9\", \"Topic9\", \"Topic9\", \"Topic9\", \"Topic9\", \"Topic9\", \"Topic9\", \"Topic9\", \"Topic9\", \"Topic9\", \"Topic9\", \"Topic9\", \"Topic9\", \"Topic9\", \"Topic9\", \"Topic9\", \"Topic9\", \"Topic9\", \"Topic9\", \"Topic9\", \"Topic9\", \"Topic9\", \"Topic9\", \"Topic9\", \"Topic9\", \"Topic9\", \"Topic9\", \"Topic9\", \"Topic9\", \"Topic9\", \"Topic9\", \"Topic9\", \"Topic9\", \"Topic9\", \"Topic9\", \"Topic9\", \"Topic9\", \"Topic9\", \"Topic9\", \"Topic9\", \"Topic9\", \"Topic9\", \"Topic9\", \"Topic10\", \"Topic10\", \"Topic10\", \"Topic10\", \"Topic10\", \"Topic10\", \"Topic10\", \"Topic10\", \"Topic10\", \"Topic10\", \"Topic10\", \"Topic10\", \"Topic10\", \"Topic10\", \"Topic10\", \"Topic10\", \"Topic10\", \"Topic10\", \"Topic10\", \"Topic10\", \"Topic10\", \"Topic10\", \"Topic10\", \"Topic10\", \"Topic10\", \"Topic10\", \"Topic10\", \"Topic10\", \"Topic10\", \"Topic10\", \"Topic10\", \"Topic10\", \"Topic10\", \"Topic10\", \"Topic10\", \"Topic10\", \"Topic10\", \"Topic10\", \"Topic10\", \"Topic10\", \"Topic10\", \"Topic10\", \"Topic10\", \"Topic10\", \"Topic10\", \"Topic10\", \"Topic10\", \"Topic10\", \"Topic10\", \"Topic11\", \"Topic11\", \"Topic11\", \"Topic11\", \"Topic11\", \"Topic11\", \"Topic11\", \"Topic11\", \"Topic11\", \"Topic11\", \"Topic11\", \"Topic11\", \"Topic11\", \"Topic11\", \"Topic11\", \"Topic11\", \"Topic11\", \"Topic11\", \"Topic11\", \"Topic11\", \"Topic11\", \"Topic11\", \"Topic11\", \"Topic11\", \"Topic11\", \"Topic11\", \"Topic11\", \"Topic11\", \"Topic11\", \"Topic11\", \"Topic11\", \"Topic11\", \"Topic11\", \"Topic11\", \"Topic11\", \"Topic11\", \"Topic11\", \"Topic11\", \"Topic11\", \"Topic11\", \"Topic11\", \"Topic11\", \"Topic11\", \"Topic11\", \"Topic11\", \"Topic11\", \"Topic11\", \"Topic11\", \"Topic11\", \"Topic11\", \"Topic11\", \"Topic12\", \"Topic12\", \"Topic12\", \"Topic12\", \"Topic12\", \"Topic12\", \"Topic12\", \"Topic12\", \"Topic12\", \"Topic12\", \"Topic12\", \"Topic12\", \"Topic12\", \"Topic12\", \"Topic12\", \"Topic12\", \"Topic12\", \"Topic12\", \"Topic12\", \"Topic12\", \"Topic12\", \"Topic12\", \"Topic12\", \"Topic12\", \"Topic12\", \"Topic12\", \"Topic12\", \"Topic12\", \"Topic12\", \"Topic12\", \"Topic12\", \"Topic12\", \"Topic12\", \"Topic12\", \"Topic12\", \"Topic12\", \"Topic12\", \"Topic12\", \"Topic12\", \"Topic12\", \"Topic12\", \"Topic12\", \"Topic12\", \"Topic12\", \"Topic12\", \"Topic12\", \"Topic12\", \"Topic12\", \"Topic12\", \"Topic12\", \"Topic12\", \"Topic13\", \"Topic13\", \"Topic13\", \"Topic13\", \"Topic13\", \"Topic13\", \"Topic13\", \"Topic13\", \"Topic13\", \"Topic13\", \"Topic13\", \"Topic13\", \"Topic13\", \"Topic13\", \"Topic13\", \"Topic13\", \"Topic13\", \"Topic13\", \"Topic13\", \"Topic13\", \"Topic13\", \"Topic13\", \"Topic13\", \"Topic13\", \"Topic13\", \"Topic13\", \"Topic13\", \"Topic13\", \"Topic13\", \"Topic13\", \"Topic13\", \"Topic13\", \"Topic13\", \"Topic13\", \"Topic13\", \"Topic13\", \"Topic13\", \"Topic13\", \"Topic13\", \"Topic13\", \"Topic13\", \"Topic13\", \"Topic13\", \"Topic13\", \"Topic13\", \"Topic14\", \"Topic14\", \"Topic14\", \"Topic14\", \"Topic14\", \"Topic14\", \"Topic14\", \"Topic14\", \"Topic14\", \"Topic14\", \"Topic14\", \"Topic14\", \"Topic14\", \"Topic14\", \"Topic14\", \"Topic14\", \"Topic14\", \"Topic14\", \"Topic14\", \"Topic14\", \"Topic14\", \"Topic14\", \"Topic14\", \"Topic14\", \"Topic14\", \"Topic14\", \"Topic14\", \"Topic14\", \"Topic14\", \"Topic14\", \"Topic14\", \"Topic14\", \"Topic14\", \"Topic14\", \"Topic14\", \"Topic14\", \"Topic14\", \"Topic14\", \"Topic14\", \"Topic14\", \"Topic14\", \"Topic14\", \"Topic14\", \"Topic14\", \"Topic14\", \"Topic14\", \"Topic15\", \"Topic15\", \"Topic15\", \"Topic15\", \"Topic15\", \"Topic15\", \"Topic15\", \"Topic15\", \"Topic15\", \"Topic15\", \"Topic15\", \"Topic15\", \"Topic15\", \"Topic15\", \"Topic15\", \"Topic15\", \"Topic15\", \"Topic15\", \"Topic15\", \"Topic15\", \"Topic15\", \"Topic15\", \"Topic15\", \"Topic15\", \"Topic15\", \"Topic15\", \"Topic15\", \"Topic15\", \"Topic15\", \"Topic15\", \"Topic15\", \"Topic15\", \"Topic15\", \"Topic15\", \"Topic15\", \"Topic15\", \"Topic15\", \"Topic15\", \"Topic15\", \"Topic15\", \"Topic15\", \"Topic15\", \"Topic15\", \"Topic16\", \"Topic16\", \"Topic16\", \"Topic16\", \"Topic16\", \"Topic16\", \"Topic16\", \"Topic16\", \"Topic16\", \"Topic16\", \"Topic16\", \"Topic16\", \"Topic16\", \"Topic16\", \"Topic16\", \"Topic16\", \"Topic16\", \"Topic16\", \"Topic16\", \"Topic16\", \"Topic16\", \"Topic16\", \"Topic16\", \"Topic16\", \"Topic16\", \"Topic16\", \"Topic16\", \"Topic16\", \"Topic16\", \"Topic16\", \"Topic16\", \"Topic16\", \"Topic16\", \"Topic16\", \"Topic16\", \"Topic16\", \"Topic16\", \"Topic16\", \"Topic16\", \"Topic16\", \"Topic16\", \"Topic16\", \"Topic16\", \"Topic16\", \"Topic17\", \"Topic17\", \"Topic17\", \"Topic17\", \"Topic17\", \"Topic17\", \"Topic17\", \"Topic17\", \"Topic17\", \"Topic17\", \"Topic17\", \"Topic17\", \"Topic17\", \"Topic17\", \"Topic17\", \"Topic17\", \"Topic17\", \"Topic17\", \"Topic17\", \"Topic17\", \"Topic17\", \"Topic17\", \"Topic17\", \"Topic17\", \"Topic17\", \"Topic17\", \"Topic17\", \"Topic17\", \"Topic17\", \"Topic17\", \"Topic17\", \"Topic17\", \"Topic17\", \"Topic17\", \"Topic17\", \"Topic17\", \"Topic17\", \"Topic17\", \"Topic17\", \"Topic18\", \"Topic18\", \"Topic18\", \"Topic18\", \"Topic18\", \"Topic18\", \"Topic18\", \"Topic18\", \"Topic18\", \"Topic18\", \"Topic18\", \"Topic18\", \"Topic18\", \"Topic18\", \"Topic18\", \"Topic18\", \"Topic18\", \"Topic18\", \"Topic18\", \"Topic18\", \"Topic18\", \"Topic18\", \"Topic18\", \"Topic18\", \"Topic18\", \"Topic18\", \"Topic18\", \"Topic18\", \"Topic18\", \"Topic18\", \"Topic18\", \"Topic18\", \"Topic18\", \"Topic18\", \"Topic18\", \"Topic18\", \"Topic18\", \"Topic18\", \"Topic18\", \"Topic18\", \"Topic18\", \"Topic18\", \"Topic18\", \"Topic18\", \"Topic18\", \"Topic19\", \"Topic19\", \"Topic19\", \"Topic19\", \"Topic19\", \"Topic19\", \"Topic19\", \"Topic19\", \"Topic19\", \"Topic19\", \"Topic19\", \"Topic19\", \"Topic19\", \"Topic19\", \"Topic19\", \"Topic19\", \"Topic19\", \"Topic19\", \"Topic19\", \"Topic19\", \"Topic19\", \"Topic19\", \"Topic19\", \"Topic19\", \"Topic19\", \"Topic19\", \"Topic19\", \"Topic19\", \"Topic19\", \"Topic19\", \"Topic19\", \"Topic19\", \"Topic19\", \"Topic19\", \"Topic19\", \"Topic19\", \"Topic19\", \"Topic19\", \"Topic19\", \"Topic20\", \"Topic20\", \"Topic20\", \"Topic20\", \"Topic20\", \"Topic20\", \"Topic20\", \"Topic20\", \"Topic20\", \"Topic20\", \"Topic20\", \"Topic20\", \"Topic20\", \"Topic20\", \"Topic20\", \"Topic20\", \"Topic20\", \"Topic20\", \"Topic20\", \"Topic20\", \"Topic20\", \"Topic20\", \"Topic20\", \"Topic20\", \"Topic20\", \"Topic20\", \"Topic20\", \"Topic20\", \"Topic20\", \"Topic20\", \"Topic20\", \"Topic20\", \"Topic20\", \"Topic20\", \"Topic20\", \"Topic20\"], \"logprob\": [30.0, 29.0, 28.0, 27.0, 26.0, 25.0, 24.0, 23.0, 22.0, 21.0, 20.0, 19.0, 18.0, 17.0, 16.0, 15.0, 14.0, 13.0, 12.0, 11.0, 10.0, 9.0, 8.0, 7.0, 6.0, 5.0, 4.0, 3.0, 2.0, 1.0, -4.014100074768066, -4.014200210571289, -4.028500080108643, -4.029200077056885, -3.4447999000549316, -4.248199939727783, -4.487400054931641, -4.530600070953369, -4.802599906921387, -4.979000091552734, -5.133999824523926, -5.246600151062012, -5.282400131225586, -5.325200080871582, -5.408199787139893, -5.43149995803833, -5.4492998123168945, -5.568399906158447, -5.6315999031066895, -5.730199813842773, -5.775000095367432, -5.899899959564209, -5.498799800872803, -6.053599834442139, -6.063399791717529, -6.138899803161621, -6.1595001220703125, -4.163400173187256, -6.228099822998047, -6.301599979400635, -5.139500141143799, -5.522200107574463, -2.969099998474121, -4.78000020980835, -2.226599931716919, -2.947000026702881, -4.541600227355957, -3.788599967956543, -4.663099765777588, -3.7418999671936035, -3.194999933242798, -4.823999881744385, -4.914400100708008, -3.78410005569458, -4.317699909210205, -4.315499782562256, -4.384099960327148, -4.262599945068359, -4.399199962615967, -4.610099792480469, -4.569799900054932, -4.628799915313721, -4.67519998550415, -4.683700084686279, -4.7631001472473145, -4.577199935913086, -4.579800128936768, -4.64300012588501, -4.699999809265137, -4.86460018157959, -4.893199920654297, -4.9355998039245605, -4.974299907684326, -4.9807000160217285, -5.038000106811523, -5.119500160217285, -4.377900123596191, -4.623000144958496, -5.263199806213379, -5.284299850463867, -5.304100036621094, -5.351500034332275, -5.391200065612793, -5.475299835205078, -5.477700233459473, -5.49429988861084, -5.512899875640869, -5.587399959564209, -5.684299945831299, -5.706999778747559, -5.802700042724609, -5.828000068664551, -4.155600070953369, -4.820899963378906, -5.9319000244140625, -4.373199939727783, -4.730500221252441, -3.7599000930786133, -4.491300106048584, -4.669300079345703, -4.238800048828125, -2.6849000453948975, -4.526700019836426, -4.0157999992370605, -3.934799909591675, -4.2378997802734375, -4.204999923706055, -3.7672998905181885, -4.144999980926514, -3.827199935913086, -3.9948999881744385, -4.104800224304199, -4.425899982452393, -4.330900192260742, -4.494200229644775, -4.13070011138916, -4.522200107574463, -4.622399806976318, -4.628799915313721, -4.691100120544434, -3.2850000858306885, -3.8382999897003174, -3.9117000102996826, -4.058300018310547, -4.298999786376953, -4.365900039672852, -4.367000102996826, -4.59689998626709, -4.650300025939941, -4.6996002197265625, -4.857600212097168, -4.914999961853027, -4.969299793243408, -5.023099899291992, -5.30679988861084, -4.063499927520752, -5.3379998207092285, -5.373600006103516, -5.431700229644775, -4.291200160980225, -4.114099979400635, -5.526199817657471, -5.544600009918213, -5.577000141143799, -5.577000141143799, -5.587500095367432, -5.621399879455566, -5.635700225830078, -5.670499801635742, -5.685800075531006, -4.536399841308594, -4.822500228881836, -4.491199970245361, -3.0694000720977783, -4.657700061798096, -2.461400032043457, -3.659600019454956, -3.6989998817443848, -5.223899841308594, -3.831399917602539, -4.1149001121521, -4.718800067901611, -4.239500045776367, -4.773200035095215, -4.4471001625061035, -4.410099983215332, -4.445400238037109, -4.517899990081787, -4.59630012512207, -3.952899932861328, -4.146399974822998, -4.259699821472168, -4.360199928283691, -4.831399917602539, -4.941999912261963, -4.967800140380859, -4.97730016708374, -5.132400035858154, -5.178199768066406, -5.208700180053711, -3.057499885559082, -5.28410005569458, -5.343400001525879, -5.498499870300293, -4.320799827575684, -5.550099849700928, -5.5854997634887695, -5.654600143432617, -5.708399772644043, -5.708399772644043, -5.824999809265137, -5.851799964904785, -5.875800132751465, -5.913300037384033, -5.938000202178955, -5.942699909210205, -5.986999988555908, -5.996300220489502, -6.123000144958496, -6.123000144958496, -3.8417000770568848, -5.071499824523926, -5.202499866485596, -4.200399875640869, -3.832200050354004, -2.2356998920440674, -3.992300033569336, -3.8125, -5.15910005569458, -3.6754000186920166, -4.411300182342529, -3.558500051498413, -3.8849000930786133, -4.884099960327148, -4.41349983215332, -3.372999906539917, -4.139200210571289, -3.617799997329712, -3.821700096130371, -3.9563000202178955, -4.5289998054504395, -4.5243000984191895, -4.442999839782715, -4.851099967956543, -4.589300155639648, -4.817399978637695, -3.4479000568389893, -3.556999921798706, -3.581399917602539, -3.9519999027252197, -4.0742998123168945, -4.307700157165527, -4.527400016784668, -4.704500198364258, -4.716400146484375, -4.772200107574463, -4.798399925231934, -4.839700222015381, -4.849100112915039, -4.900300025939941, -4.907299995422363, -4.907299995422363, -5.003900051116943, -4.279399871826172, -5.037799835205078, -5.05210018157959, -5.117499828338623, -5.207099914550781, -3.8371999263763428, -3.2818000316619873, -5.45989990234375, -5.5071001052856445, -5.512800216674805, -5.512800216674805, -5.512800216674805, -5.534800052642822, -4.628900051116943, -4.454899787902832, -4.027100086212158, -4.692699909210205, -2.3234000205993652, -3.6173999309539795, -3.7339999675750732, -4.128300189971924, -4.14300012588501, -4.4882001876831055, -4.629700183868408, -4.691999912261963, -4.736000061035156, -4.5767998695373535, -4.768700122833252, -3.1245999336242676, -3.3745999336242676, -3.974900007247925, -4.0355000495910645, -4.120500087738037, -4.14900016784668, -3.892199993133545, -4.502999782562256, -4.527400016784668, -4.530900001525879, -4.708399772644043, -4.1875, -4.889200210571289, -4.917200088500977, -4.92080020904541, -4.986199855804443, -5.023399829864502, -5.039700031280518, -5.110300064086914, -4.336999893188477, -5.152500152587891, -5.2129998207092285, -3.6963000297546387, -5.403800010681152, -4.957799911499023, -5.544099807739258, -5.545400142669678, -5.545400142669678, -5.545400142669678, -5.545400142669678, -5.545400142669678, -3.4892001152038574, -3.859600067138672, -4.230800151824951, -3.615299940109253, -5.023099899291992, -4.089600086212158, -3.218600034713745, -4.481900215148926, -4.184000015258789, -3.2448999881744385, -4.3796000480651855, -4.201000213623047, -3.6909000873565674, -4.225399971008301, -4.578000068664551, -4.5524001121521, -4.819900035858154, -4.753300189971924, -3.7909998893737793, -3.83270001411438, -3.8840999603271484, -4.105100154876709, -4.344600200653076, -4.479400157928467, -4.618299961090088, -4.7052001953125, -4.787099838256836, -4.881899833679199, -4.946300029754639, -5.151199817657471, -5.151199817657471, -5.151199817657471, -5.212399959564209, -4.81850004196167, -4.874100208282471, -5.356800079345703, -5.356800079345703, -5.375699996948242, -5.40310001373291, -5.483500003814697, -4.104599952697754, -5.5208001136779785, -5.6107001304626465, -5.6107001304626465, -5.6107001304626465, -5.6107001304626465, -5.6107001304626465, -5.6107001304626465, -3.9374001026153564, -3.9535999298095703, -5.11359977722168, -3.1953999996185303, -3.9409000873565674, -3.9042000770568848, -4.682600021362305, -4.334000110626221, -3.670300006866455, -4.097400188446045, -3.9791998863220215, -4.019499778747559, -3.3712000846862793, -3.8582000732421875, -4.502999782562256, -4.488999843597412, -4.161900043487549, -4.463699817657471, -4.678100109100342, -4.5671000480651855, -4.71589994430542, -4.763800144195557, -3.486599922180176, -3.9556000232696533, -4.203700065612793, -4.265399932861328, -4.392399787902832, -4.4116997718811035, -4.434800148010254, -4.47629976272583, -4.542900085449219, -4.600100040435791, -4.631199836730957, -4.65339994430542, -4.714099884033203, -4.7434000968933105, -4.852399826049805, -4.9440999031066895, -4.957699775695801, -4.974699974060059, -4.9984002113342285, -5.060200214385986, -5.078999996185303, -5.125100135803223, -5.144400119781494, -3.619800090789795, -5.2129998207092285, -5.2129998207092285, -5.265900135040283, -5.308300018310547, -4.1433000564575195, -5.429900169372559, -2.9142000675201416, -4.910900115966797, -4.3007001876831055, -3.6505000591278076, -3.823699951171875, -4.764400005340576, -4.068399906158447, -4.232100009918213, -4.27269983291626, -4.2846999168396, -3.8180999755859375, -3.263000011444092, -4.03439998626709, -4.535699844360352, -4.648900032043457, -4.691699981689453, -4.598400115966797, -4.701399803161621, -2.7771999835968018, -3.4523000717163086, -3.903599977493286, -4.192200183868408, -4.083199977874756, -4.285600185394287, -4.3053998947143555, -4.417399883270264, -4.436600208282471, -4.570700168609619, -4.652100086212158, -4.690000057220459, -4.740699768066406, -4.813799858093262, -4.883500099182129, -4.912700176239014, -4.913300037384033, -4.915900230407715, -4.969799995422363, -5.0192999839782715, -5.070099830627441, -5.1371002197265625, -5.257599830627441, -5.257599830627441, -5.333399772644043, -5.421599864959717, -5.421599864959717, -5.421599864959717, -5.421599864959717, -5.421599864959717, -5.421599864959717, -5.421599864959717, -3.5411999225616455, -4.5142998695373535, -3.819000005722046, -3.085599899291992, -3.9302000999450684, -3.6201000213623047, -4.633900165557861, -4.243100166320801, -4.2881999015808105, -4.208099842071533, -3.7962000370025635, -4.359899997711182, -4.184199810028076, -3.8798999786376953, -4.586900234222412, -4.639599800109863, -4.794600009918213, -3.7395999431610107, -3.853300094604492, -4.021200180053711, -4.1128997802734375, -4.313000202178955, -4.329699993133545, -4.3678998947143555, -4.46619987487793, -4.732399940490723, -4.740600109100342, -4.740600109100342, -4.776199817657471, -4.849400043487549, -4.011099815368652, -5.177000045776367, -5.198299884796143, -5.207099914550781, -4.875400066375732, -4.308199882507324, -5.422699928283691, -5.423999786376953, -5.423999786376953, -5.423999786376953, -5.423999786376953, -5.423999786376953, -5.423999786376953, -5.423999786376953, -5.423999786376953, -5.423999786376953, -5.423999786376953, -5.423999786376953, -5.423999786376953, -4.438600063323975, -4.034800052642822, -3.783400058746338, -4.110199928283691, -2.9570000171661377, -3.0144999027252197, -3.1993000507354736, -4.764200210571289, -3.8496999740600586, -4.284999847412109, -3.49180006980896, -4.012800216674805, -3.8029000759124756, -3.2286999225616455, -4.28849983215332, -4.363699913024902, -4.663400173187256, -4.201200008392334, -4.254300117492676, -3.093100070953369, -4.377999782562256, -4.619200229644775, -4.64769983291626, -4.763500213623047, -4.763500213623047, -5.036499977111816, -3.4697000980377197, -5.142000198364258, -5.158400058746338, -5.162300109863281, -5.230000019073486, -5.293000221252441, -5.329100131988525, -5.353300094604492, -5.35860013961792, -3.907900094985962, -5.446800231933594, -5.446800231933594, -5.446800231933594, -5.446800231933594, -5.446800231933594, -5.446800231933594, -5.446800231933594, -5.446800231933594, -5.446800231933594, -5.446800231933594, -5.446800231933594, -5.446800231933594, -5.446800231933594, -5.446800231933594, -5.446800231933594, -5.446800231933594, -2.009999990463257, -4.696199893951416, -5.446800231933594, -3.5843000411987305, -3.7488999366760254, -3.523699998855591, -3.3111000061035156, -4.308300018310547, -5.2291998863220215, -3.088399887084961, -4.592199802398682, -4.960999965667725, -4.5482001304626465, -5.051400184631348, -5.148200035095215, -5.247300148010254, -3.2973999977111816, -3.9911000728607178, -4.04040002822876, -4.087600231170654, -4.149799823760986, -4.287799835205078, -4.3084001541137695, -4.411799907684326, -4.513599872589111, -4.600299835205078, -4.713699817657471, -4.732699871063232, -4.757299900054932, -4.791399955749512, -4.930300235748291, -5.020500183105469, -5.04640007019043, -5.064499855041504, -3.159899950027466, -5.198500156402588, -5.19920015335083, -3.7483999729156494, -5.405099868774414, -5.416100025177002, -5.416100025177002, -5.416100025177002, -5.416100025177002, -5.416100025177002, -5.416100025177002, -5.416100025177002, -3.501199960708618, -5.416100025177002, -5.416100025177002, -3.948699951171875, -3.6740000247955322, -4.312900066375732, -2.9528000354766846, -4.8414998054504395, -4.212600231170654, -4.194900035858154, -3.822700023651123, -3.9203999042510986, -4.141900062561035, -4.3282999992370605, -3.969899892807007, -3.9093000888824463, -3.454400062561035, -4.360300064086914, -4.553800106048584, -4.442599773406982, -4.514699935913086, -3.6842000484466553, -3.705199956893921, -3.707200050354004, -4.0289998054504395, -4.106299877166748, -4.1346001625061035, -4.251399993896484, -4.316400051116943, -4.412300109863281, -4.469200134277344, -4.492000102996826, -4.116799831390381, -4.759099960327148, -4.792200088500977, -4.318600177764893, -4.79580020904541, -4.816100120544434, -4.932700157165527, -4.932700157165527, -4.111499786376953, -5.050300121307373, -5.05109977722168, -5.05109977722168, -5.05109977722168, -5.05109977722168, -5.179699897766113, -5.1956000328063965, -5.2307000160217285, -5.3180999755859375, -4.504199981689453, -4.538000106811523, -3.779900074005127, -3.5480000972747803, -3.412100076675415, -3.6219000816345215, -4.5416998863220215, -4.422599792480469, -3.9742000102996826, -4.399899959564209, -3.5941998958587646, -4.139100074768066, -4.289999961853027, -4.4496002197265625, -4.421999931335449, -4.708700180053711, -3.449199914932251, -3.7451000213623047, -3.8726000785827637, -4.023499965667725, -4.063899993896484, -4.1641998291015625, -4.2220001220703125, -4.302299976348877, -4.412700176239014, -4.657199859619141, -4.70359992980957, -4.725299835205078, -4.797900199890137, -4.854100227355957, -4.880000114440918, -4.880000114440918, -5.027500152587891, -5.0731000900268555, -5.243000030517578, -5.2484002113342285, -5.2484002113342285, -5.24970006942749, -5.24970006942749, -5.24970006942749, -5.24970006942749, -5.299900054931641, -5.299900054931641, -5.3333001136779785, -5.339600086212158, -5.339600086212158, -5.339600086212158, -2.865299940109253, -3.00570011138916, -3.352400064468384, -3.579900026321411, -4.13129997253418, -4.189000129699707, -3.325500011444092, -4.446499824523926, -4.6066999435424805, -4.746200084686279, -4.285099983215332, -4.491000175476074, -4.293300151824951, -4.855500221252441, -4.72160005569458, -2.808199882507324, -3.4446001052856445, -3.844899892807007, -3.905600070953369, -3.9326000213623047, -3.941200017929077, -3.9532999992370605, -4.28000020980835, -4.399799823760986, -4.540599822998047, -3.7739999294281006, -4.617400169372559, -4.64900016784668, -4.6528000831604, -4.702499866485596, -4.796000003814697, -4.461400032043457, -5.010499954223633, -5.1097002029418945, -5.193900108337402, -5.216400146484375, -5.220699787139893, -5.227399826049805, -5.227399826049805, -5.227399826049805, -5.227399826049805, -5.227399826049805, -5.227399826049805, -5.227399826049805, -5.253699779510498, -3.8545000553131104, -4.361499786376953, -4.454999923706055, -3.0148000717163086, -3.651099920272827, -3.699399948120117, -4.684599876403809, -4.269800186157227, -3.529900074005127, -4.058300018310547, -4.4721999168396, -4.539299964904785, -4.78249979019165, -3.3968000411987305, -3.575900077819824, -3.6647000312805176, -3.7451999187469482, -3.8598999977111816, -4.053899765014648, -4.081600189208984, -4.380300045013428, -4.474999904632568, -4.593999862670898, -4.692999839782715, -4.712699890136719, -4.712699890136719, -4.770899772644043, -4.899600028991699, -4.975399971008301, -5.026299953460693, -5.063600063323975, -5.063600063323975, -5.063600063323975, -5.063600063323975, -5.063600063323975, -5.063600063323975, -5.063600063323975, -3.4830000400543213, -5.258299827575684, -5.291999816894531, -4.553899765014648, -5.407599925994873, -5.407599925994873, -4.008200168609619, -3.509700059890747, -3.5989999771118164, -3.497299909591675, -3.1222000122070312, -3.698499917984009, -4.495999813079834, -4.063799858093262, -4.148200035095215, -4.339700222015381, -4.918499946594238, -4.348899841308594, -4.448299884796143, -4.8881001472473145, -2.6266000270843506, -2.9019999504089355, -3.904599905014038, -4.160099983215332, -3.537899971008301, -4.577000141143799, -4.60230016708374, -4.780399799346924, -4.780399799346924, -4.780399799346924, -4.780399799346924, -4.852099895477295, -4.95989990234375, -4.95989990234375, -4.997200012207031, -4.997200012207031, -4.997200012207031, -4.997200012207031, -4.997200012207031, -4.997200012207031, -4.997200012207031, -4.997200012207031, -5.0808000564575195, -5.225599765777588, -5.290299892425537, -5.290299892425537, -5.34119987487793, -5.34119987487793, -5.34119987487793, -5.435800075531006, -3.182300090789795, -4.276500225067139, -4.997000217437744, -4.344099998474121, -3.5190000534057617, -4.3221001625061035, -4.241199970245361, -4.681000232696533, -4.7266998291015625, -1.773900032043457, -2.748800039291382, -3.3296000957489014, -3.8071999549865723, -3.990799903869629, -4.373899936676025, -4.376999855041504, -4.541200160980225, -4.581299781799316, -4.629199981689453, -4.629199981689453, -4.8460001945495605, -4.8460001945495605, -4.8460001945495605, -4.8460001945495605, -4.8460001945495605, -4.8460001945495605, -4.8460001945495605, -4.8460001945495605, -3.423099994659424, -4.9359002113342285, -5.0406999588012695, -5.074399948120117, -4.497700214385986, -5.531599998474121, -5.607900142669678, -5.607900142669678, -5.607900142669678, -5.607900142669678, -5.607900142669678, -5.607900142669678, -5.607900142669678, -5.607900142669678, -5.607900142669678, -5.607900142669678, -5.607900142669678, -5.607900142669678, -5.607900142669678, -4.252500057220459, -4.895599842071533, -4.037899971008301, -4.635200023651123, -5.128200054168701, -4.971099853515625, -4.370699882507324, -3.3545000553131104, -3.6059000492095947, -3.7386999130249023, -4.087900161743164, -4.260900020599365, -4.376999855041504, -4.376999855041504, -4.376999855041504, -4.129499912261963, -4.746699810028076, -4.746699810028076, -4.746699810028076, -4.746699810028076, -4.7729997634887695, -4.836599826812744, -4.836599826812744, -4.836599826812744, -4.836599826812744, -4.836599826812744, -3.5409998893737793, -4.897299766540527, -3.7929999828338623, -5.009399890899658, -5.12939977645874, -5.185200214385986, -4.434000015258789, -5.432199954986572, -5.432199954986572, -5.432199954986572, -5.432199954986572, -3.236599922180176, -3.289099931716919, -3.9460999965667725, -4.125999927520752, -4.622799873352051, -4.835000038146973, -4.40880012512207, -4.503600120544434, -4.773499965667725, -3.2448999881744385, -3.3087000846862793, -3.6166000366210938, -3.9326000213623047, -3.9971001148223877, -4.018700122833252, -4.462800025939941, -4.506400108337402, -4.691100120544434, -4.702099800109863, -4.702099800109863, -4.702099800109863, -4.702099800109863, -4.702099800109863, -4.702099800109863, -4.702099800109863, -4.702099800109863, -4.702099800109863, -4.702099800109863, -4.702099800109863, -4.702099800109863, -4.702099800109863, -4.702099800109863, -4.702099800109863, -4.702099800109863, -4.702099800109863, -4.702099800109863, -4.791999816894531, -3.8578999042510986, -5.343100070953369, -3.378700017929077, -4.2393999099731445, -3.9131999015808105, -4.300600051879883, -4.34660005569458, -4.589600086212158], \"loglift\": [30.0, 29.0, 28.0, 27.0, 26.0, 25.0, 24.0, 23.0, 22.0, 21.0, 20.0, 19.0, 18.0, 17.0, 16.0, 15.0, 14.0, 13.0, 12.0, 11.0, 10.0, 9.0, 8.0, 7.0, 6.0, 5.0, 4.0, 3.0, 2.0, 1.0, 1.8219000101089478, 1.8219000101089478, 1.8216999769210815, 1.8215999603271484, 1.81850004196167, 1.81659996509552, 1.8097000122070312, 1.8083000183105469, 1.7967000007629395, 1.7893999814987183, 1.7806999683380127, 1.7735999822616577, 1.7711999416351318, 1.7682000398635864, 1.7619999647140503, 1.760200023651123, 1.7588000297546387, 1.7487000226974487, 1.7389999628067017, 1.7331000566482544, 1.7282999753952026, 1.7141000032424927, 1.7095999717712402, 1.694200038909912, 1.6928999423980713, 1.6821000576019287, 1.6790000200271606, 1.6757999658584595, 1.6683000326156616, 1.6562000513076782, 1.649399995803833, 1.6375999450683594, 1.472000002861023, 1.587399959564209, 1.3849999904632568, 1.292099952697754, 1.4297000169754028, 1.239300012588501, 1.4428000450134277, 1.0276000499725342, 0.8140000104904175, 1.402899980545044, 1.4297000169754028, 0.7287999987602234, 1.0404000282287598, 0.9435999989509583, 0.9025999903678894, 0.7412999868392944, 0.722599983215332, 0.9894999861717224, 0.9358000159263611, 0.8101999759674072, 0.5135999917984009, 0.34610000252723694, 0.8317000269889832, 1.8343000411987305, 1.8339999914169312, 1.8319000005722046, 1.8294999599456787, 1.8223999738693237, 1.8209999799728394, 1.8188999891281128, 1.8167999982833862, 1.816499948501587, 1.813099980354309, 1.8085999488830566, 1.8026000261306763, 1.8009999990463257, 1.799299955368042, 1.7977999448776245, 1.7963999509811401, 1.7928999662399292, 1.7898999452590942, 1.7831000089645386, 1.7827999591827393, 1.7813999652862549, 1.7798000574111938, 1.7731000185012817, 1.7635999917984009, 1.761299967765808, 1.7509000301361084, 1.7480000257492065, 1.7436000108718872, 1.7395000457763672, 1.7353999614715576, 1.7009999752044678, 1.638800024986267, 1.5240999460220337, 1.5989999771118164, 1.5082000494003296, 1.346500039100647, 0.8166000247001648, 1.4285999536514282, 1.1914000511169434, 1.0949000120162964, 1.097100019454956, 1.0679999589920044, 0.7457000017166138, 0.9373999834060669, 0.6139000058174133, 0.7085999846458435, 0.6646999716758728, 1.024399995803833, 0.8378000259399414, 1.0163999795913696, 0.10849999636411667, 0.6682999730110168, 0.9427000284194946, 0.8425999879837036, 0.4977000057697296, 2.301300048828125, 2.2948999404907227, 2.2929999828338623, 2.288300037384033, 2.279099941253662, 2.27620005607605, 2.276099920272827, 2.264400005340576, 2.2613000869750977, 2.2583000659942627, 2.2476000785827637, 2.243299961090088, 2.2390999794006348, 2.2346999645233154, 2.2072999477386475, 2.203900098800659, 2.203900098800659, 2.1998000144958496, 2.1928999423980713, 2.188699960708618, 2.183799982070923, 2.1809000968933105, 2.178499937057495, 2.1740000247955322, 2.1740000247955322, 2.172600030899048, 2.167799949645996, 2.1656999588012695, 2.160599946975708, 2.1582999229431152, 2.0350000858306885, 2.045799970626831, 1.952299952507019, 1.6340999603271484, 1.8723000288009644, 1.0400999784469604, 1.381700038909912, 1.3049999475479126, 1.9632999897003174, 0.9380999803543091, 1.1441999673843384, 1.5509999990463257, 0.9344000220298767, 1.5520999431610107, 1.06850004196167, 0.7803999781608582, 0.6764000058174133, 0.5645999908447266, 0.8539999723434448, 2.4124999046325684, 2.4054999351501465, 2.4005000591278076, 2.3956000804901123, 2.3652000427246094, 2.3559999465942383, 2.3536999225616455, 2.352799892425537, 2.3376998901367188, 2.3327999114990234, 2.329400062561035, 2.322200059890747, 2.32069993019104, 2.3134000301361084, 2.2925000190734863, 2.2869999408721924, 2.284899950027466, 2.279400110244751, 2.268399953842163, 2.259399890899658, 2.259399890899658, 2.238300085067749, 2.2332000732421875, 2.2284998893737793, 2.2209999561309814, 2.21589994430542, 2.2149999141693115, 2.2056000232696533, 2.2035999298095703, 2.1747000217437744, 2.1747000217437744, 2.121799945831299, 2.043100118637085, 2.065000057220459, 1.8492000102996826, 1.7674000263214111, 1.3760000467300415, 1.7422000169754028, 1.659000039100647, 2.0271999835968018, 1.4464000463485718, 1.6491999626159668, 1.2109999656677246, 1.3056000471115112, 1.8273999691009521, 1.4664000272750854, 0.6359999775886536, 1.1475000381469727, 0.6212999820709229, 0.6912000179290771, 0.8131999969482422, 1.3885999917984009, 1.242400050163269, 0.9150999784469604, 1.6952999830245972, -1.0877000093460083, 0.4417000114917755, 2.8833999633789062, 2.8796000480651855, 2.878700017929077, 2.861799955368042, 2.8547000885009766, 2.838900089263916, 2.820499897003174, 2.8027000427246094, 2.8013999462127686, 2.795099973678589, 2.792099952697754, 2.787100076675415, 2.7860000133514404, 2.7795000076293945, 2.778599977493286, 2.778599977493286, 2.765500068664551, 2.764699935913086, 2.760699987411499, 2.7585999965667725, 2.748699903488159, 2.734299898147583, 2.7304000854492188, 2.720099925994873, 2.687299966812134, 2.6774001121520996, 2.6761999130249023, 2.6761999130249023, 2.6761999130249023, 2.6714000701904297, 2.596400022506714, 2.4804000854492188, 2.351599931716919, 2.4702999591827393, 1.6856000423431396, 1.5714000463485718, 1.2940000295639038, 0.913100004196167, 0.9394999742507935, 1.267699956893921, 1.545199990272522, 1.6520999670028687, 0.9984999895095825, -1.0751999616622925, 0.7099000215530396, 3.058000087738037, 3.049799919128418, 3.0199999809265137, 3.015899896621704, 3.0097999572753906, 3.007699966430664, 2.992000102996826, 2.9756999015808105, 2.973099946975708, 2.9727001190185547, 2.951900005340576, 2.946199893951416, 2.9270999431610107, 2.9228999614715576, 2.9223999977111816, 2.912100076675415, 2.906100034713745, 2.9033000469207764, 2.8910999298095703, 2.8903000354766846, 2.883500099182129, 2.871999979019165, 2.8389999866485596, 2.8320999145507812, 2.8052000999450684, 2.798799991607666, 2.7983999252319336, 2.7983999252319336, 2.7983999252319336, 2.7983999252319336, 2.7983999252319336, 2.6840999126434326, 2.6793999671936035, 2.5827999114990234, 2.4451000690460205, 2.6965999603271484, 2.464400053024292, 2.1728999614715576, 2.5136001110076904, 2.3364999294281006, 1.7199000120162964, 2.121799945831299, 1.6132999658584595, 0.3181000053882599, 0.5440999865531921, 0.8610000014305115, 0.6381000280380249, 2.3106000423431396, 0.3684999942779541, 3.118799924850464, 3.1161999702453613, 3.1129000186920166, 3.09689998626709, 3.0752999782562256, 3.061000108718872, 3.044300079345703, 3.0327999591827393, 3.021199941635132, 3.0065999031066895, 2.996000051498413, 2.958400011062622, 2.958400011062622, 2.958400011062622, 2.9458999633789062, 2.928100109100342, 2.9173998832702637, 2.9138998985290527, 2.9138998985290527, 2.9094998836517334, 2.902899980545044, 2.8828001022338867, 2.874000072479248, 2.8731000423431396, 2.848400115966797, 2.848400115966797, 2.848400115966797, 2.848400115966797, 2.848400115966797, 2.848400115966797, 2.835700035095215, 2.8257999420166016, 2.749300003051758, 2.3178999423980713, 2.468100070953369, 2.45740008354187, 2.563999891281128, 2.37280011177063, 2.0111000537872314, 1.9522000551223755, 1.791100025177002, 1.7472000122070312, 1.141700029373169, 1.4767999649047852, 2.0508999824523926, 1.6615999937057495, 0.8677999973297119, 0.9753000140190125, 1.823199987411499, 1.0276999473571777, 1.2786999940872192, -0.5246000289916992, 3.1807000637054443, 3.1530001163482666, 3.1326000690460205, 3.126800060272217, 3.1136999130249023, 3.111599922180176, 3.1089999675750732, 3.104300022125244, 3.0961999893188477, 3.0889999866485596, 3.0848000049591064, 3.0817999839782715, 3.0732998847961426, 3.069000005722046, 3.0522000789642334, 3.0367000102996826, 3.0343000888824463, 3.0313000679016113, 3.0269999504089355, 3.015399932861328, 3.0118000507354736, 3.002700090408325, 2.998699903488159, 2.9879000186920166, 2.9842000007629395, 2.9842000007629395, 2.9725000858306885, 2.9626998901367188, 2.9410998821258545, 2.933000087738037, 2.900099992752075, 2.918299913406372, 2.762200117111206, 2.5058999061584473, 2.459399938583374, 2.814199924468994, 2.31030011177063, 2.3894999027252197, 2.171600103378296, 2.11080002784729, 1.350600004196167, 0.23849999904632568, 1.323699951171875, 1.9381999969482422, 2.164599895477295, 2.018199920654297, 0.7930999994277954, 1.0544999837875366, 3.259000062942505, 3.235100030899048, 3.2079999446868896, 3.183799982070923, 3.1791000366210938, 3.1744000911712646, 3.1723999977111816, 3.159899950027466, 3.157599925994873, 3.140700101852417, 3.1294000148773193, 3.1238999366760254, 3.114300012588501, 3.1045000553131104, 3.0927000045776367, 3.0875000953674316, 3.087399959564209, 3.0869998931884766, 3.0771000385284424, 3.0676000118255615, 3.057499885559082, 3.043600082397461, 3.0164999961853027, 3.0164999961853027, 2.998199939727783, 2.9755001068115234, 2.9755001068115234, 2.9755001068115234, 2.9755001068115234, 2.9755001068115234, 2.9755001068115234, 2.9755001068115234, 2.762700080871582, 2.820199966430664, 2.6340999603271484, 2.3929998874664307, 2.5876998901367188, 2.452500104904175, 2.718600034713745, 2.4347000122070312, 2.250200033187866, 1.9667999744415283, 1.372499942779541, 2.1328001022338867, 1.6562000513076782, -0.3783999979496002, 1.3306000232696533, 1.174399971961975, 1.635699987411499, 3.270699977874756, 3.262700080871582, 3.249300003051758, 3.240999937057495, 3.220400094985962, 3.2184998989105225, 3.214099884033203, 3.2019999027252197, 3.1635000705718994, 3.1621999740600586, 3.1621999740600586, 3.1563000679016113, 3.143699884414673, 3.141200065612793, 3.0769999027252197, 3.072000026702881, 3.0699000358581543, 3.0599000453948975, 3.0534000396728516, 3.0146000385284424, 3.0143001079559326, 3.0143001079559326, 3.0143001079559326, 3.0143001079559326, 3.0143001079559326, 3.0143001079559326, 3.0143001079559326, 3.0143001079559326, 3.0143001079559326, 3.0143001079559326, 3.0143001079559326, 3.0143001079559326, 2.872299909591675, 2.7976999282836914, 2.6275999546051025, 2.687999963760376, 2.2502999305725098, 2.15939998626709, 2.1923000812530518, 2.737799882888794, 2.3008999824523926, 2.2163000106811523, 1.5379999876022339, 1.801200032234192, 1.532099962234497, 0.2727999985218048, 0.8802000284194946, 1.1418999433517456, 0.3646000027656555, 3.242000102996826, 3.2363998889923096, 3.232100009918213, 3.2223000526428223, 3.190000057220459, 3.185699939727783, 3.16729998588562, 3.1672000885009766, 3.115999937057495, 3.108299970626831, 3.0929999351501465, 3.0892999172210693, 3.088399887084961, 3.0724000930786133, 3.0566999912261963, 3.0473999977111816, 3.0409998893737793, 3.039599895477295, 3.035399913787842, 3.015199899673462, 3.015199899673462, 3.015199899673462, 3.015199899673462, 3.015199899673462, 3.015199899673462, 3.015199899673462, 3.015199899673462, 3.015199899673462, 3.015199899673462, 3.015199899673462, 3.015199899673462, 3.015199899673462, 3.015199899673462, 3.015199899673462, 3.015199899673462, 2.9547998905181885, 2.996299982070923, 3.015199899673462, 2.816999912261963, 2.7578001022338867, 2.6328001022338867, 2.1995999813079834, 2.5404999256134033, 2.8929998874664307, 0.413100004196167, 1.955399990081787, 2.418299913406372, 0.9574000239372253, 2.1282999515533447, 1.9872000217437744, 0.5085999965667725, 3.33870005607605, 3.293800115585327, 3.289400100708008, 3.284899950027466, 3.2788000106811523, 3.2639000415802, 3.2614998817443848, 3.2488999366760254, 3.235300064086914, 3.2227001190185547, 3.2047998905181885, 3.2016000747680664, 3.197499990463257, 3.191499948501587, 3.165600061416626, 3.1470999717712402, 3.1414999961853027, 3.1375999450683594, 3.1217000484466553, 3.106600046157837, 3.1064000129699707, 3.0834999084472656, 3.0522000789642334, 3.049099922180176, 3.049099922180176, 3.049099922180176, 3.049099922180176, 3.049099922180176, 3.049099922180176, 3.049099922180176, 3.0464000701904297, 3.049099922180176, 3.049099922180176, 2.8610999584198, 2.789099931716919, 2.833899974822998, 2.3201000690460205, 2.8252999782562256, 2.4653000831604004, 2.447999954223633, 1.655900001525879, 1.674299955368042, 1.8525999784469604, 2.102099895477295, 1.2188999652862549, 1.094599962234497, 0.047200001776218414, 0.8988000154495239, 1.7554999589920044, 0.7260000109672546, 1.0504000186920166, 3.3482000827789307, 3.3466999530792236, 3.34660005569458, 3.3206000328063965, 3.313199996948242, 3.31030011177063, 3.2976999282836914, 3.29010009765625, 3.2780001163482666, 3.270400047302246, 3.266900062561035, 3.2321999073028564, 3.2251999378204346, 3.2193000316619873, 3.2188000679016113, 3.2186999320983887, 3.2149999141693115, 3.1923999786376953, 3.1923999786376953, 3.1919000148773193, 3.1675000190734863, 3.16729998588562, 3.16729998588562, 3.16729998588562, 3.16729998588562, 3.1373000144958496, 3.1333999633789062, 3.1245999336242676, 3.101599931716919, 3.050100088119507, 2.9693000316619873, 2.7128000259399414, 2.6268999576568604, 2.38100004196167, 1.888800024986267, 2.6807000637054443, 2.387200117111206, 1.590999960899353, 2.1066999435424805, -0.09260000288486481, 0.5644000172615051, 0.7139000296592712, 1.306399941444397, 1.0836000442504883, 2.1101999282836914, 3.5176000595092773, 3.495800018310547, 3.4844000339508057, 3.469099998474121, 3.4646999835968018, 3.452899932861328, 3.4456000328063965, 3.4349000453948975, 3.4189000129699707, 3.377700090408325, 3.368499994277954, 3.3645999431610107, 3.349900007247925, 3.3380000591278076, 3.3322999477386475, 3.3322999477386475, 3.297600030899048, 3.2860000133514404, 3.2393999099731445, 3.237799882888794, 3.237799882888794, 3.237499952316284, 3.237499952316284, 3.237499952316284, 3.237499952316284, 3.2225000858306885, 3.2225000858306885, 3.2123000621795654, 3.2102999687194824, 3.2102999687194824, 3.2102999687194824, 2.8905999660491943, 2.8345999717712402, 2.8148999214172363, 2.7032999992370605, 2.580199956893921, 2.4934000968933105, 1.71589994430542, 2.5006000995635986, 2.38070011138916, 2.433500051498413, 1.5947999954223633, 0.9480000138282776, -0.6816999912261963, 1.8544000387191772, -1.2200000286102295, 3.553299903869629, 3.5227999687194824, 3.4916999340057373, 3.4860000610351562, 3.483299970626831, 3.4823999404907227, 3.4811999797821045, 3.442500114440918, 3.4254000186920166, 3.4028000831604004, 3.391700029373169, 3.38919997215271, 3.3835999965667725, 3.3828001022338867, 3.3733999729156494, 3.354599952697754, 3.328700065612793, 3.305799961090088, 3.2804999351501465, 3.2574000358581543, 3.250999927520752, 3.249799966812134, 3.2479000091552734, 3.2479000091552734, 3.2479000091552734, 3.2479000091552734, 3.2479000091552734, 3.2479000091552734, 3.2479000091552734, 3.2402000427246094, 2.8554000854492188, 2.9260001182556152, 2.924299955368042, 2.15910005569458, 1.7878999710083008, 1.5845999717712402, 2.6487998962402344, 1.732100009918213, -0.028300000354647636, 0.7111999988555908, 1.033400058746338, 0.667900025844574, 1.0566999912261963, 3.65310001373291, 3.6396000385284424, 3.631999969482422, 3.6245999336242676, 3.613100051879883, 3.59060001373291, 3.587100028991699, 3.543299913406372, 3.526900053024292, 3.5044000148773193, 3.4839999675750732, 3.47979998588562, 3.47979998588562, 3.4667999744415283, 3.436000108718872, 3.4165000915527344, 3.4026999473571777, 3.3922998905181885, 3.3922998905181885, 3.3922998905181885, 3.3922998905181885, 3.3922998905181885, 3.3922998905181885, 3.3922998905181885, 3.335900068283081, 3.3333001136779785, 3.322200059890747, 3.313800096511841, 3.282399892807007, 3.282399892807007, 3.2363998889923096, 3.010699987411499, 3.022599935531616, 2.474100112915039, 0.886900007724762, 1.6365000009536743, 2.352799892425537, 1.0185999870300293, 0.8931999802589417, 1.1105999946594238, 2.885200023651123, 0.8583999872207642, 0.9431999921798706, 1.9437999725341797, 3.756999969482422, 3.7534000873565674, 3.675800085067749, 3.6419999599456787, 3.6131999492645264, 3.5685999393463135, 3.5632998943328857, 3.5227999687194824, 3.5227999687194824, 3.5227999687194824, 3.5227999687194824, 3.5048999786376953, 3.476099967956543, 3.476099967956543, 3.46560001373291, 3.46560001373291, 3.46560001373291, 3.46560001373291, 3.46560001373291, 3.46560001373291, 3.46560001373291, 3.46560001373291, 3.4410998821258545, 3.3949999809265137, 3.372999906539917, 3.372999906539917, 3.3548998832702637, 3.3548998832702637, 3.3548998832702637, 3.3197999000549316, 3.296999931335449, 3.1823999881744385, 3.197499990463257, 2.609999895095825, 1.250499963760376, 2.086899995803833, 1.5992000102996826, 0.8323000073432922, 0.44200000166893005, 4.055300235748291, 4.0218000411987305, 3.981100082397461, 3.9270999431610107, 3.899600028991699, 3.8268001079559326, 3.8261001110076904, 3.787400007247925, 3.7771999835968018, 3.7646000385284424, 3.7646000385284424, 3.7018001079559326, 3.7018001079559326, 3.7018001079559326, 3.7018001079559326, 3.7018001079559326, 3.7018001079559326, 3.7018001079559326, 3.7018001079559326, 3.689500093460083, 3.6728999614715576, 3.636899948120117, 3.624799966812134, 3.6073999404907227, 3.4337000846862793, 3.3968000411987305, 3.3968000411987305, 3.3968000411987305, 3.3968000411987305, 3.3968000411987305, 3.3968000411987305, 3.3968000411987305, 3.3968000411987305, 3.3968000411987305, 3.3968000411987305, 3.3968000411987305, 3.3968000411987305, 3.3968000411987305, 2.9272000789642334, 2.9428999423980713, 1.7552000284194946, 2.04259991645813, 2.2334001064300537, 1.589400053024292, -0.8690999746322632, 4.064300060272217, 4.035900115966797, 4.018099784851074, 3.960700035095215, 3.92549991607666, 3.8991000652313232, 3.8991000652313232, 3.8991000652313232, 3.847599983215332, 3.7980000972747803, 3.7980000972747803, 3.7980000972747803, 3.7980000972747803, 3.7897000312805176, 3.769200086593628, 3.769200086593628, 3.769200086593628, 3.769200086593628, 3.769200086593628, 3.766900062561035, 3.748699903488159, 3.724600076675415, 3.7086000442504883, 3.6624999046325684, 3.639899969100952, 3.5560998916625977, 3.5306999683380127, 3.5306999683380127, 3.5306999683380127, 3.5306999683380127, 3.2077999114990234, 3.036099910736084, 2.680999994277954, 2.186800003051758, 2.3726999759674072, 2.803100109100342, 1.1563999652862549, 0.5376999974250793, -0.33239999413490295, 4.198400020599365, 4.1915998458862305, 4.1528000831604, 4.1006999015808105, 4.0883002281188965, 4.084000110626221, 3.97760009765625, 3.965100049972534, 3.907900094985962, 3.9042999744415283, 3.9042999744415283, 3.9042999744415283, 3.9042999744415283, 3.9042999744415283, 3.9042999744415283, 3.9042999744415283, 3.9042999744415283, 3.9042999744415283, 3.9042999744415283, 3.9042999744415283, 3.9042999744415283, 3.9042999744415283, 3.9042999744415283, 3.9042999744415283, 3.9042999744415283, 3.9042999744415283, 3.9042999744415283, 3.873500108718872, 3.782399892807007, 3.6431000232696533, 3.4049999713897705, 3.436199903488159, 1.1146999597549438, 2.2671000957489014, 1.3877999782562256, 2.1898999214172363]}, \"token.table\": {\"Topic\": [3, 1, 16, 18, 14, 11, 2, 4, 8, 12, 4, 14, 6, 7, 11, 13, 10, 9, 11, 8, 9, 1, 1, 3, 4, 5, 6, 13, 11, 7, 13, 13, 13, 11, 12, 12, 1, 3, 16, 20, 5, 8, 19, 3, 2, 3, 19, 1, 2, 3, 7, 11, 14, 16, 17, 3, 12, 18, 14, 10, 10, 15, 17, 9, 7, 2, 4, 9, 19, 3, 11, 15, 12, 4, 16, 2, 6, 10, 14, 15, 16, 8, 1, 7, 3, 13, 19, 11, 17, 18, 14, 1, 2, 8, 19, 18, 18, 6, 7, 19, 12, 7, 18, 18, 17, 5, 9, 10, 11, 2, 10, 1, 11, 16, 9, 14, 3, 17, 1, 2, 4, 11, 15, 5, 20, 19, 6, 2, 7, 16, 8, 13, 4, 15, 20, 7, 4, 5, 6, 18, 2, 10, 13, 2, 8, 6, 19, 20, 1, 13, 2, 13, 20, 15, 3, 11, 2, 4, 6, 3, 14, 11, 1, 7, 14, 8, 14, 19, 15, 3, 6, 8, 10, 16, 6, 9, 16, 11, 9, 12, 17, 20, 18, 5, 8, 17, 4, 9, 11, 5, 15, 16, 2, 19, 12, 3, 16, 18, 17, 6, 8, 4, 14, 20, 11, 17, 8, 11, 14, 13, 18, 18, 18, 13, 2, 5, 2, 3, 12, 18, 20, 5, 8, 11, 13, 14, 3, 9, 6, 16, 2, 5, 19, 13, 9, 6, 4, 5, 6, 7, 13, 19, 18, 13, 18, 11, 14, 18, 11, 17, 15, 5, 18, 1, 12, 13, 2, 3, 8, 6, 7, 10, 18, 16, 1, 6, 15, 17, 2, 9, 11, 11, 9, 5, 8, 11, 17, 2, 4, 8, 6, 8, 14, 7, 1, 2, 12, 17, 1, 8, 7, 15, 7, 13, 6, 15, 1, 2, 3, 15, 7, 16, 5, 16, 15, 20, 16, 5, 14, 5, 5, 20, 2, 8, 6, 11, 12, 13, 8, 15, 10, 15, 19, 15, 7, 16, 10, 7, 1, 2, 6, 7, 8, 9, 10, 14, 2, 17, 16, 3, 3, 9, 16, 14, 2, 17, 10, 13, 3, 9, 4, 2, 3, 16, 1, 15, 3, 3, 5, 20, 1, 2, 3, 4, 5, 16, 1, 2, 7, 19, 7, 5, 19, 12, 17, 2, 3, 4, 18, 16, 2, 6, 11, 12, 13, 7, 5, 4, 13, 14, 5, 11, 13, 20, 3, 6, 8, 19, 16, 20, 15, 14, 20, 17, 16, 14, 2, 5, 1, 2, 3, 4, 6, 15, 17, 11, 3, 7, 9, 6, 9, 9, 1, 2, 3, 4, 5, 6, 2, 3, 9, 12, 7, 20, 19, 1, 5, 6, 10, 18, 15, 12, 20, 5, 6, 14, 9, 6, 8, 12, 15, 1, 2, 6, 7, 3, 3, 8, 13, 9, 13, 16, 1, 2, 10, 11, 13, 15, 10, 3, 19, 4, 1, 14, 2, 12, 12, 9, 9, 17, 9, 1, 3, 7, 2, 11, 2, 3, 8, 20, 8, 19, 19, 18, 12, 3, 14, 1, 14, 14, 8, 6, 19, 6, 1, 8, 17, 2, 7, 11, 13, 1, 1, 2, 6, 7, 17, 17, 1, 2, 4, 5, 6, 20, 5, 19, 11, 18, 1, 3, 4, 5, 9, 11, 14, 16, 19, 13, 1, 7, 15, 1, 2, 7, 10, 12, 15, 4, 17, 5, 20, 14, 7, 2, 5, 12, 13, 2, 3, 13, 19, 1, 1, 4, 5, 1, 3, 5, 12, 4, 7, 12, 1, 2, 3, 4, 7, 12, 8, 3, 4, 2, 6, 8, 20, 10, 10, 8, 15, 6, 7, 10, 1, 14, 1, 2, 9, 5, 4, 6, 9, 14, 17, 1, 5, 15, 1, 3, 9, 12, 13, 9, 3, 10, 18, 20, 1, 2, 3, 5, 10, 20, 4, 3, 7, 3, 4, 7, 3, 15, 8, 1, 2, 3, 9, 18, 14, 6, 5, 6, 17, 11, 15, 8, 4, 7, 8, 12, 2, 18, 16, 15, 2, 16, 3, 9, 13, 8, 5, 10, 1, 15, 5, 8, 19, 1, 5, 12, 1, 2, 3, 4, 5, 10, 13, 4, 6, 19, 6, 14, 3, 8, 1, 2, 3, 4, 7, 12, 15, 5, 2, 3, 19, 12, 11, 1, 3, 7, 14, 13, 3, 5, 8, 13, 17, 2, 15, 1, 1, 2, 4, 6, 6, 8, 12, 1, 3, 7, 1, 16, 18, 1, 2, 6, 9, 4, 2, 11, 13, 4, 17, 17, 3, 6, 8, 7, 20, 8, 16, 17, 1, 2, 3, 7, 10, 15, 20, 11, 6, 4, 9, 11, 1, 5, 13, 3, 1, 2, 3, 4, 7, 14, 15, 12, 1, 2, 4, 5, 6, 12, 16, 18, 10, 10, 5, 5, 6, 9, 12, 14, 10, 13, 20, 1, 5, 16, 2, 12, 16, 1, 18, 2, 6, 11, 13, 16, 11, 16, 19, 6, 1, 2, 4, 8, 15, 15, 12, 17, 17, 15, 7, 5, 8, 10, 1, 5, 20, 6, 3, 9, 3, 3, 6, 14, 4, 8, 4, 20, 7, 19, 17, 1, 4, 7, 1, 19, 6, 2, 3, 4, 12, 13, 19, 2, 6, 17, 11, 17, 8, 1, 4, 7, 12, 17, 2, 7, 9, 11, 19, 15, 17, 16, 13, 18, 14, 7, 8, 8, 16, 9, 12, 18, 7, 19, 19, 5, 12, 16, 7, 9, 8, 17, 18, 2, 10, 20, 13, 2, 2, 3, 16, 20, 18, 12, 6, 14, 6, 1, 1, 2, 3, 6, 16, 8, 14, 15, 10, 1, 2, 20, 5, 4, 3, 11, 1, 2, 3, 4, 6, 19, 1, 2, 3, 7, 12, 2, 19, 1, 11, 7, 5, 9, 13, 9, 7, 8, 11, 15, 2, 8, 10, 7, 11, 8, 15, 16, 4, 1, 2, 4, 8, 1, 9, 11, 2, 7, 20, 18, 1, 11, 13, 15, 17, 12, 14, 2, 10, 5, 12, 10, 9, 3, 8, 19, 1, 2, 4, 7, 14, 4, 1, 4, 10, 19, 4, 10, 16, 12, 11, 18, 9, 9, 1, 2, 3, 4, 5, 6, 8, 9, 10, 11, 12, 13, 14, 15, 18, 11, 20, 3, 1, 2, 4, 7, 10, 19, 9, 11, 15, 12, 3, 13, 4, 11, 1, 3, 4, 5, 6, 7, 14, 15, 2, 4, 8, 14, 15, 3, 8, 4, 9, 19, 14, 11, 13, 4, 9, 5, 12, 12, 13, 2, 8, 15, 4, 3, 6, 3, 7, 11, 17, 15, 3, 11, 11, 4, 10, 4, 17, 5, 1, 9, 7, 4, 14, 16, 3, 7, 11, 6, 8, 18, 9, 12, 5, 1, 2, 3, 4, 5, 6, 7, 13, 18, 18, 20, 18, 2, 8, 14, 2, 5, 11, 5, 6, 1, 2, 3, 4, 5, 6, 8, 12, 17, 18, 20, 20, 16, 2, 4, 9, 16, 14, 18, 1, 8, 10, 12, 1, 2, 3, 7, 10, 11, 16, 2, 10, 5, 6, 10, 19, 14, 11, 16, 10, 7, 4, 10, 11, 6, 7, 2, 14, 12, 13, 13, 15, 1, 2, 4, 8, 9, 10, 12, 13, 17, 10, 3, 8, 16, 17, 4, 3, 6, 7, 14, 15, 20, 18, 18, 9, 16, 19, 10, 1, 3, 7, 1, 1, 3, 4, 6, 12, 13, 16, 10, 17, 17, 1, 2, 3, 5, 6, 12, 2, 18, 2, 7, 11, 2, 2, 3, 7, 10, 2, 20, 1, 8, 4, 4, 9, 13, 18, 11, 2, 3, 7, 10, 16, 15, 7, 17, 10, 2, 1, 2, 3, 5, 10, 12, 13, 16, 9, 10, 7, 12, 1, 2, 3, 5, 6, 9, 12, 6, 3, 6, 2], \"Freq\": [0.9107106924057007, 0.6698794364929199, 0.2740415632724762, 0.030449064448475838, 0.8901350498199463, 0.7350174188613892, 0.4269222021102905, 0.2988455295562744, 0.08538444340229034, 0.21346110105514526, 0.95400071144104, 0.8025410175323486, 0.255960077047348, 0.033386096358299255, 0.6677219271659851, 0.033386096358299255, 0.7177445888519287, 0.8535013198852539, 0.7350175380706787, 0.8884016871452332, 0.9263738393783569, 0.9841064810752869, 0.3255126178264618, 0.19530756771564484, 0.364574134349823, 0.03906151279807091, 0.06510252505540848, 0.8641626834869385, 0.7652537226676941, 0.14145924150943756, 0.7072962522506714, 0.7026324272155762, 0.8641626834869385, 0.2709062099456787, 0.7043561935424805, 0.6282383799552917, 0.9750382900238037, 0.015000589191913605, 0.7305272817611694, 0.8491373062133789, 0.24432338774204254, 0.34205275774002075, 0.39091742038726807, 0.878643274307251, 0.5140859484672546, 0.2998834550380707, 0.12852148711681366, 0.27026697993278503, 0.32818132638931274, 0.28957176208496094, 0.07721913605928421, 0.019304784014821053, 0.20283785462379456, 0.608513593673706, 0.9656558036804199, 0.3945387899875641, 0.5918081998825073, 0.8008818626403809, 0.7599920630455017, 0.7177445888519287, 0.7177445888519287, 0.8042157292366028, 0.10052696615457535, 0.789125382900238, 0.813752293586731, 0.32469239830970764, 0.48703858256340027, 0.16234619915485382, 0.7983367443084717, 0.22709088027477264, 0.22709088027477264, 0.5677272081375122, 0.9153016209602356, 0.9179257154464722, 0.9568290114402771, 0.5105618834495544, 0.014182274229824543, 0.34037458896636963, 0.014182274229824543, 0.05672909691929817, 0.05672909691929817, 0.9108654260635376, 0.7691970467567444, 0.18098753690719604, 0.9496245384216309, 0.8850064277648926, 0.7291491031646729, 0.09533314406871796, 0.1906662881374359, 0.6673319935798645, 0.8520005941390991, 0.6921109557151794, 0.2834359109401703, 0.013183065690100193, 0.013183065690100193, 0.6323646306991577, 0.8489829301834106, 0.5935361981391907, 0.25437265634536743, 0.16958177089691162, 0.7373013496398926, 0.7645531892776489, 0.4658574163913727, 0.8008818626403809, 0.4644525647163391, 0.8455913066864014, 0.9444705247879028, 0.9146192669868469, 0.7350175380706787, 0.09918868541717529, 0.7935094833374023, 0.21968522667884827, 0.43937045335769653, 0.21968522667884827, 0.8674361705780029, 0.8669577836990356, 0.9462294578552246, 0.7356050610542297, 0.06740451604127884, 0.01685112901031971, 0.8762587308883667, 0.01685112901031971, 0.8819735050201416, 0.8291686177253723, 0.11055581271648407, 0.907770037651062, 0.962285041809082, 0.9066582918167114, 0.8261886239051819, 0.7305272817611694, 0.6076542735099792, 0.3038271367549896, 0.8753315210342407, 0.7447817325592041, 0.7697269320487976, 0.732920229434967, 0.7562277913093567, 0.09735929220914841, 0.8762335777282715, 0.8512246608734131, 0.9676938652992249, 0.849370002746582, 0.7164890766143799, 0.9246199727058411, 0.8815745115280151, 0.7562463283538818, 0.511145830154419, 0.7180916666984558, 0.827616810798645, 0.13793613016605377, 0.14826880395412445, 0.7413439750671387, 0.8491373062133789, 0.9446274042129517, 0.3744312822818756, 0.6084508299827576, 0.1863250881433487, 0.11179505288600922, 0.6707702875137329, 0.8637014031410217, 0.8025410175323486, 0.7350175380706787, 0.7994948625564575, 0.09993685781955719, 0.7537278532981873, 0.8477702140808105, 0.750153660774231, 0.8486018776893616, 0.7507720589637756, 0.11936089396476746, 0.4092373549938202, 0.08525778353214264, 0.32397958636283875, 0.06820622831583023, 0.7706858515739441, 0.6888129711151123, 0.6852334141731262, 0.7840260863304138, 0.8011198043823242, 0.906044065952301, 0.4644526243209839, 0.7192715406417847, 0.8875309228897095, 0.5490736961364746, 0.41180527210235596, 0.8613120913505554, 0.8131669759750366, 0.6888129711151123, 0.8641417622566223, 0.8162525296211243, 0.15697163343429565, 0.8291391134262085, 0.9382680058479309, 0.037530720233917236, 0.9104838371276855, 0.9638418555259705, 0.857941746711731, 0.6323646306991577, 0.46445268392562866, 0.8553360104560852, 0.10691700130701065, 0.5106127858161926, 0.38295960426330566, 0.06382659822702408, 0.6569178104400635, 0.8034485578536987, 0.45747146010398865, 0.0831766277551651, 0.4158831536769867, 0.8987969756126404, 0.4559023976325989, 0.6323646306991577, 0.6323646306991577, 0.8923041820526123, 0.9187926650047302, 0.8352928757667542, 0.941816508769989, 0.9527983069419861, 0.7373015284538269, 0.6323646306991577, 0.8491373062133789, 0.19638657569885254, 0.12274160981178284, 0.049096643924713135, 0.12274160981178284, 0.49096643924713135, 0.3635174334049225, 0.6058623790740967, 0.4745660722255707, 0.4745660722255707, 0.4106452763080597, 0.2933180332183838, 0.23465444147586823, 0.6605782508850098, 0.9346566796302795, 0.6530901193618774, 0.21339716017246246, 0.7468900680541992, 0.545251727104187, 0.32715103030204773, 0.10905034840106964, 0.4417198598384857, 0.6432247161865234, 0.8641625642776489, 0.8008818626403809, 0.3058209717273712, 0.3058209717273712, 0.3058209717273712, 0.09907423704862595, 0.7925938963890076, 0.9036877155303955, 0.9520880579948425, 0.6323646306991577, 0.8392572402954102, 0.12075464427471161, 0.8452825546264648, 0.629282534122467, 0.23972667753696442, 0.11986333876848221, 0.8429636359214783, 0.9380966424942017, 0.7336518168449402, 0.12227530032396317, 0.7664022445678711, 0.8537305593490601, 0.053358159959316254, 0.08003724366426468, 0.6270629167556763, 0.38219118118286133, 0.5945196151733398, 0.8897919058799744, 0.7350175380706787, 0.8321491479873657, 0.8455919027328491, 0.47632676362991333, 0.47632676362991333, 0.716162919998169, 0.15105274319648743, 0.7250531911849976, 0.12084219604730606, 0.8793772459030151, 0.9359487891197205, 0.7807663083076477, 0.7750385403633118, 0.7742965221405029, 0.8977900147438049, 0.4977584779262543, 0.3318389654159546, 0.18534967303276062, 0.7413986921310425, 0.732920229434967, 0.7587999701499939, 0.7504078149795532, 0.16675728559494019, 0.9274070262908936, 0.7447817325592041, 0.06125621870160103, 0.7044464945793152, 0.09188432991504669, 0.13782648742198944, 0.7329204082489014, 0.6477737426757812, 0.8901207447052002, 0.08901207149028778, 0.9322774410247803, 0.7420283555984497, 0.7305271029472351, 0.9190957546234131, 0.746502697467804, 0.8875553011894226, 0.8390442728996277, 0.8491374254226685, 0.9097925424575806, 0.04788381606340408, 0.08674918115139008, 0.8674917817115784, 0.5633913278579712, 0.3521195948123932, 0.8825915455818176, 0.8751994967460632, 0.6109039187431335, 0.8074542880058289, 0.6103088855743408, 0.7447817325592041, 0.3263348340988159, 0.6526696681976318, 0.8403649926185608, 0.732920229434967, 0.10406098514795303, 0.46827441453933716, 0.02601524628698826, 0.02601524628698826, 0.02601524628698826, 0.13007622957229614, 0.20812197029590607, 0.02601524628698826, 0.9512157440185547, 0.716162919998169, 0.831185519695282, 0.8817063570022583, 0.7821955680847168, 0.9524006843566895, 0.880962610244751, 0.6631159782409668, 0.28125476837158203, 0.5625095367431641, 0.7177445888519287, 0.8641626834869385, 0.9442135691642761, 0.9258086681365967, 0.8091357350349426, 0.8856872916221619, 0.9737607836723328, 0.8630419373512268, 0.8986935019493103, 0.9067897796630859, 0.7923887372016907, 0.33477866649627686, 0.16738933324813843, 0.33477866649627686, 0.20028644800186157, 0.3880549967288971, 0.17525064945220947, 0.025035806000232697, 0.13769693672657013, 0.06258951872587204, 0.19058166444301605, 0.317636102437973, 0.4446905553340912, 0.906373918056488, 0.9339297413825989, 0.9697226881980896, 0.606465220451355, 0.7373015284538269, 0.8196510076522827, 0.35092693567276, 0.18469838798046112, 0.461745947599411, 0.6323646306991577, 0.9167693257331848, 0.9457129836082458, 0.9321960806846619, 0.9287698864936829, 0.7644885182380676, 0.9372718334197998, 0.8283988833427429, 0.9223549962043762, 0.857464611530304, 0.7871758937835693, 0.8052385449409485, 0.1560155749320984, 0.5720571279525757, 0.2600259482860565, 0.8491373062133789, 0.16115769743919373, 0.6446307897567749, 0.16115769743919373, 0.7983367443084717, 0.3231721520423889, 0.6463443040847778, 0.7176089286804199, 0.7537278532981873, 0.8491373062133789, 0.7356050610542297, 0.9278919100761414, 0.7990570664405823, 0.7706314325332642, 0.1813250482082367, 0.08239080756902695, 0.3020996153354645, 0.24717241525650024, 0.192245215177536, 0.03661813586950302, 0.05492720380425453, 0.08239080756902695, 0.8925008177757263, 0.48315587639808655, 0.16105195879936218, 0.3757878839969635, 0.6997570395469666, 0.17493925988674164, 0.6888129711151123, 0.439391165971756, 0.0823858454823494, 0.06407788395881653, 0.29292744398117065, 0.03661593049764633, 0.0823858454823494, 0.24092347919940948, 0.24092347919940948, 0.19273878633975983, 0.28910818696022034, 0.8742191791534424, 0.8491373062133789, 0.848601758480072, 0.9356101155281067, 0.1392207145690918, 0.2784414291381836, 0.4872725307941437, 0.8510085344314575, 0.71982342004776, 0.8501756191253662, 0.8491373062133789, 0.18268123269081116, 0.7307249307632446, 0.8025410175323486, 0.9043512940406799, 0.8967310786247253, 0.9085372686386108, 0.8213367462158203, 0.7447817325592041, 0.34177878499031067, 0.2734230160713196, 0.0683557540178299, 0.3189935088157654, 0.9491302371025085, 0.195172518491745, 0.78069007396698, 0.7871757745742798, 0.9287855625152588, 0.28425320982933044, 0.7106330394744873, 0.4013410210609436, 0.21022625267505646, 0.11466886848211288, 0.09555739164352417, 0.09555739164352417, 0.07644591480493546, 0.7177445888519287, 0.6448951363563538, 0.3224475681781769, 0.8101785182952881, 0.5654988288879395, 0.3231422007083893, 0.9341971278190613, 0.8536828756332397, 0.9475936889648438, 0.7688151001930237, 0.6888129711151123, 0.7356050610542297, 0.6888129711151123, 0.6290827393531799, 0.2752237021923065, 0.039317671209573746, 0.9131118655204773, 0.6895561814308167, 0.754521906375885, 0.20577870309352875, 0.9537970423698425, 0.8491374254226685, 0.9132850170135498, 0.7983367443084717, 0.6788865327835083, 0.6323646306991577, 0.8851510882377625, 0.8545404076576233, 0.7530301213264465, 0.7879616022109985, 0.8670209646224976, 0.8364078402519226, 0.6656160950660706, 0.6530900597572327, 0.5284052491188049, 0.6524505615234375, 0.6515006422996521, 0.32575032114982605, 0.9130461812019348, 0.9328141808509827, 0.910595178604126, 0.7350175380706787, 0.7045663595199585, 0.9351146817207336, 0.21185392141342163, 0.2888917028903961, 0.01925944723188877, 0.42370784282684326, 0.05777834355831146, 0.49291089177131653, 0.09610763192176819, 0.12013453990221024, 0.5045650601387024, 0.14416144788265228, 0.07208072394132614, 0.048053815960884094, 0.9193161725997925, 0.6103088855743408, 0.7350174188613892, 0.8008818626403809, 0.13215477764606476, 0.3844502568244934, 0.024028141051530838, 0.13215477764606476, 0.048056282103061676, 0.012014070525765419, 0.1561829149723053, 0.060070354491472244, 0.024028141051530838, 0.9665911793708801, 0.20186693966388702, 0.6056008338928223, 0.7447817325592041, 0.2804848551750183, 0.3116498291492462, 0.1558249145746231, 0.03116498328745365, 0.2181548774242401, 0.9541498422622681, 0.4043644964694977, 0.5391526818275452, 0.9649229645729065, 0.8491373062133789, 0.6409027576446533, 0.910595178604126, 0.3575751483440399, 0.17878757417201996, 0.41717100143432617, 0.8971190452575684, 0.8822453022003174, 0.7768188118934631, 0.22194823622703552, 0.47474074363708496, 0.9717181921005249, 0.4199189841747284, 0.503902792930603, 0.06298784911632538, 0.20541855692863464, 0.7189649939537048, 0.8390443921089172, 0.9471276998519897, 0.5597562193870544, 0.29634150862693787, 0.1317073404788971, 0.3257911801338196, 0.3257911801338196, 0.021247250959277153, 0.16997800767421722, 0.12748350203037262, 0.014164834283292294, 0.9771578311920166, 0.935569167137146, 0.9701550006866455, 0.9578089118003845, 0.6361784338951111, 0.35343244671821594, 0.9288511276245117, 0.9197648763656616, 0.9466791749000549, 0.8460338115692139, 0.777530312538147, 0.3621174097061157, 0.25865527987480164, 0.3103863298892975, 0.9476061463356018, 0.7537278532981873, 0.06738585978746414, 0.4717010259628296, 0.4380080997943878, 0.9012303948402405, 0.18698200583457947, 0.026711715385317802, 0.18698200583457947, 0.48081088066101074, 0.10684686154127121, 0.2377534657716751, 0.2377534657716751, 0.35663020610809326, 0.04882298409938812, 0.6835217475891113, 0.09764596819877625, 0.14646895229816437, 0.8636505603790283, 0.9136801362037659, 0.9749723076820374, 0.6510568261146545, 0.6865437626838684, 0.8429165482521057, 0.5452930927276611, 0.059270985424518585, 0.08297938108444214, 0.2015213519334793, 0.04741678759455681, 0.03556258976459503, 0.6236060857772827, 0.32699018716812134, 0.5449836254119873, 0.6387762427330017, 0.31938812136650085, 0.732920229434967, 0.9375776052474976, 0.6353846788406372, 0.8069759011268616, 0.8636263608932495, 0.9478240013122559, 0.4733765125274658, 0.4733765125274658, 0.662726640701294, 0.7192533016204834, 0.789268970489502, 0.8390443921089172, 0.8630498647689819, 0.6270629167556763, 0.3733934164047241, 0.4978578984737396, 0.8714573979377747, 0.9356257915496826, 0.732920229434967, 0.8460338115692139, 0.7315295934677124, 0.9331023097038269, 0.9297107458114624, 0.8953601717948914, 0.7447817325592041, 0.855039119720459, 0.4616038203239441, 0.15385785698890686, 0.3077157139778137, 0.5128595232963562, 0.8482711315155029, 0.8405085206031799, 0.8656765818595886, 0.8453626036643982, 0.910700798034668, 0.2721148729324341, 0.6349347233772278, 0.8486018776893616, 0.29873958230018616, 0.14936979115009308, 0.5476891994476318, 0.01713911071419716, 0.30850398540496826, 0.5056037902832031, 0.05998688563704491, 0.025708666071295738, 0.025708666071295738, 0.05998688563704491, 0.8631547093391418, 0.05754364654421806, 0.05754364654421806, 0.791682779788971, 0.7807663083076477, 0.9665065407752991, 0.8014539480209351, 0.09087272733449936, 0.454363614320755, 0.030290907248854637, 0.030290907248854637, 0.015145453624427319, 0.34834542870521545, 0.04543636366724968, 0.9463910460472107, 0.17351184785366058, 0.4771575927734375, 0.3036457300186157, 0.8873425126075745, 0.7350174188613892, 0.3693336844444275, 0.45140784978866577, 0.12311122566461563, 0.830267071723938, 0.6358214020729065, 0.8980600237846375, 0.8486777544021606, 0.7677304148674011, 0.8746873140335083, 0.14578121900558472, 0.9540999531745911, 0.9206956624984741, 0.969542384147644, 0.9385553598403931, 0.9735337495803833, 0.466017484664917, 0.5325914025306702, 0.23421670496463776, 0.7286741733551025, 0.02602407895028591, 0.08188387006521225, 0.9007225632667542, 0.7750385403633118, 0.9286057949066162, 0.7305271029472351, 0.8008818626403809, 0.6618210673332214, 0.3134942054748535, 0.9579821228981018, 0.8857343792915344, 0.8213448524475098, 0.1675461232662201, 0.7818818688392639, 0.8494007587432861, 0.354216992855072, 0.6072291135787964, 0.7356050610542297, 0.16055773198604584, 0.8027886748313904, 0.053519245237112045, 0.7750384211540222, 0.8491374254226685, 0.8418028354644775, 0.8557973504066467, 0.7356050610542297, 0.13717183470726013, 0.05486873537302017, 0.24690930545330048, 0.013717183843255043, 0.30177804827690125, 0.23319213092327118, 0.45043307542800903, 0.7350174188613892, 0.8242074847221375, 0.7852556109428406, 0.6888129711151123, 0.7350174188613892, 0.9443168640136719, 0.8037168979644775, 0.9069315195083618, 0.8982609510421753, 0.5763412714004517, 0.1723637580871582, 0.04309093952178955, 0.16159102320671082, 0.02693183533847332, 0.01615910232067108, 0.005386367440223694, 0.9036555290222168, 0.3594459891319275, 0.059907667338848114, 0.16260652244091034, 0.29098010063171387, 0.06418678164482117, 0.004279118962585926, 0.059907667338848114, 0.8008818626403809, 0.8307605385780334, 0.7177445888519287, 0.9601886868476868, 0.6387215256690979, 0.31936076283454895, 0.7279155850410461, 0.7373013496398926, 0.7825603485107422, 0.8842267990112305, 0.7047101855278015, 0.8491373062133789, 0.6630594730377197, 0.26522377133369446, 0.04420396313071251, 0.07199456542730331, 0.7199456691741943, 0.14398913085460663, 0.9072661399841309, 0.8008818626403809, 0.4226025342941284, 0.03841841220855713, 0.30734729766845703, 0.2113012671470642, 0.8113287687301636, 0.3805217146873474, 0.3805217146873474, 0.6103090047836304, 0.9102595448493958, 0.1655656397342682, 0.6001754403114319, 0.1655656397342682, 0.020695704966783524, 0.04139140993356705, 0.8771428465843201, 0.824571430683136, 0.6270629167556763, 0.7356049418449402, 0.7412315607070923, 0.6865870356559753, 0.7664258480072021, 0.2324741631746292, 0.5811854004859924, 0.8349907994270325, 0.9565173387527466, 0.8491373062133789, 0.977875828742981, 0.7466961741447449, 0.22400884330272675, 0.8775785565376282, 0.4339873790740967, 0.18599459528923035, 0.3099909722805023, 0.9482859373092651, 0.7892100214958191, 0.7944241166114807, 0.8491374254226685, 0.22925646603107452, 0.45851293206214905, 0.9655771851539612, 0.9673765897750854, 0.6685836911201477, 0.2865358591079712, 0.8996648192405701, 0.8128852248191833, 0.8456180691719055, 0.38541650772094727, 0.18256571888923645, 0.10142539441585541, 0.10142539441585541, 0.1622806340456009, 0.04057015851140022, 0.32541605830192566, 0.32541605830192566, 0.32541605830192566, 0.6809768080711365, 0.17024420201778412, 0.8624392151832581, 0.34738677740097046, 0.29776009917259216, 0.24813342094421387, 0.04962668567895889, 0.04962668567895889, 0.9523786902427673, 0.23801639676094055, 0.5950409770011902, 0.7350175380706787, 0.6064651608467102, 0.7271881103515625, 0.6270629167556763, 0.8420374989509583, 0.2571723163127899, 0.5143446326255798, 0.7530307769775391, 0.6679385304450989, 0.9188138842582703, 0.7125073075294495, 0.7305272817611694, 0.432005912065506, 0.3702907860279083, 0.12343025952577591, 0.23177199065685272, 0.695315957069397, 0.7983367443084717, 0.16610628366470337, 0.7474783062934875, 0.04152657091617584, 0.9711833000183105, 0.8683398962020874, 0.7491732835769653, 0.7803428769111633, 0.6323646306991577, 0.3601984977722168, 0.5763176083564758, 0.6207275986671448, 0.9116718173027039, 0.8842529654502869, 0.7109957337379456, 0.26194581389427185, 0.7305272817611694, 0.8491373062133789, 0.9480613470077515, 0.7373013496398926, 0.8966199159622192, 0.7537278532981873, 0.6530900597572327, 0.9711005091667175, 0.18083663284778595, 0.4340079128742218, 0.23508761823177338, 0.09041831642389297, 0.0723346546292305, 0.3186374008655548, 0.1911824494600296, 0.5098198652267456, 0.834610104560852, 0.3430459797382355, 0.20582757890224457, 0.41165515780448914, 0.9431865215301514, 0.979366660118103, 0.9543496966362, 0.6265305876731873, 0.383869469165802, 0.26103124022483826, 0.030709557235240936, 0.276386022567749, 0.046064335852861404, 0.606465220451355, 0.355208158493042, 0.25073516368865967, 0.06268379092216492, 0.12536758184432983, 0.18805137276649475, 0.8300542831420898, 0.8091346621513367, 0.908801794052124, 0.7350174188613892, 0.628838837146759, 0.26126807928085327, 0.26126807928085327, 0.4478881359100342, 0.9268069863319397, 0.2925621271133423, 0.19504141807556152, 0.2925621271133423, 0.2925621271133423, 0.17261123657226562, 0.8055191040039062, 0.8403649926185608, 0.751816987991333, 0.7350174188613892, 0.4084033668041229, 0.05834333971142769, 0.4667467176914215, 0.9478954076766968, 0.4452517032623291, 0.18139883875846863, 0.2143804430961609, 0.14841723442077637, 0.9699609279632568, 0.6888129711151123, 0.9314669370651245, 0.13663314282894135, 0.6831657290458679, 0.13663314282894135, 0.6323646306991577, 0.9699273109436035, 0.8090503215789795, 0.9677790999412537, 0.7389764785766602, 0.44942954182624817, 0.7373013496398926, 0.8588773608207703, 0.28143975138664246, 0.5628795027732849, 0.601552426815033, 0.3007762134075165, 0.7170668244361877, 0.7576583027839661, 0.961284339427948, 0.7606056332588196, 0.8369324803352356, 0.6326922178268433, 0.0028758735861629248, 0.3422289490699768, 0.0057517471723258495, 0.014379368163645267, 0.8967465758323669, 0.9840981960296631, 0.6677795648574829, 0.22259320318698883, 0.8486018776893616, 0.8519026637077332, 0.8712374567985535, 0.8366211652755737, 0.865382730960846, 0.8348095417022705, 0.8008816838264465, 0.6451404690742493, 0.9136801362037659, 0.04121732339262962, 0.34777113795280457, 0.2782169282436371, 0.028336908668279648, 0.018032578751444817, 0.0025760827120393515, 0.051521651446819305, 0.025760825723409653, 0.046369485557079315, 0.0540977343916893, 0.03606515750288963, 0.030912991613149643, 0.007728247903287411, 0.025760825723409653, 0.007728247903287411, 0.7350175380706787, 0.9191781282424927, 0.9024994969367981, 0.2739602327346802, 0.3237711787223816, 0.024905474856495857, 0.24905475974082947, 0.07471642643213272, 0.024905474856495857, 0.9614277482032776, 0.5232356190681458, 0.2616178095340729, 0.8673003315925598, 0.42557191848754883, 0.42557191848754883, 0.6236060857772827, 0.8786207437515259, 0.357602059841156, 0.14304082095623016, 0.01788010261952877, 0.03576020523905754, 0.10728061944246292, 0.10728061944246292, 0.07152041047811508, 0.16092093288898468, 0.3890344500541687, 0.3612462878227234, 0.027788175269961357, 0.13894087076187134, 0.055576350539922714, 0.9067516922950745, 0.9494179487228394, 0.8482441902160645, 0.2858402729034424, 0.5716805458068848, 0.9062952995300293, 0.7243058085441589, 0.24143527448177338, 0.615721583366394, 0.307860791683197, 0.8101599812507629, 0.7758917808532715, 0.9005764126777649, 0.9096199870109558, 0.6542779207229614, 0.25164535641670227, 0.050329070538282394, 0.9397191405296326, 0.9537932872772217, 0.7200485467910767, 0.23583075404167175, 0.4716615080833435, 0.09433230012655258, 0.18866460025310516, 0.7447817325592041, 0.8607843518257141, 0.10126874595880508, 0.7350175380706787, 0.939258337020874, 0.89545077085495, 0.8420612215995789, 0.7356050610542297, 0.8536262512207031, 0.44363725185394287, 0.542223334312439, 0.9073894619941711, 0.9331789016723633, 0.947256863117218, 0.8420374989509583, 0.1357705444097519, 0.6788527369499207, 0.1357705444097519, 0.6530900001525879, 0.5910376310348511, 0.3940250873565674, 0.9102488160133362, 0.7373013496398926, 0.8733969926834106, 0.1273890733718872, 0.1528668850660324, 0.1273890733718872, 0.050955627113580704, 0.025477813556790352, 0.025477813556790352, 0.0764334425330162, 0.3566893935203552, 0.10191125422716141, 0.6323646306991577, 0.8491373062133789, 0.6079147458076477, 0.8436413407325745, 0.0674913078546524, 0.0674913078546524, 0.8781700134277344, 0.1133122593164444, 0.7350175380706787, 0.8577134609222412, 0.6530900001525879, 0.027892302721738815, 0.30681532621383667, 0.20919227600097656, 0.320761501789093, 0.013946151360869408, 0.08367691189050674, 0.027892302721738815, 0.6286003589630127, 0.44942954182624817, 0.6323646306991577, 0.8428583145141602, 0.7565271258354187, 0.9509106874465942, 0.490524560213089, 0.3462526202201843, 0.14427192509174347, 0.7305272817611694, 0.8588773608207703, 0.9772881865501404, 0.8878177404403687, 0.9316949844360352, 0.7177445888519287, 0.8382196426391602, 0.2256336510181427, 0.4631427526473999, 0.011875455267727375, 0.095003642141819, 0.1662563681602478, 0.011875455267727375, 0.02375091053545475, 0.4253294765949249, 0.47258830070495605, 0.8047266602516174, 0.9703288674354553, 0.7177445888519287, 0.8486018776893616, 0.8417013883590698, 0.8641417026519775, 0.7111639380455017, 0.7177445888519287, 0.8908481597900391, 0.8967465758323669, 0.9101740121841431, 0.6747462153434753, 0.8748667240142822, 0.6158833503723145, 0.5185613632202148, 0.48152124881744385, 0.7373013496398926, 0.9302912950515747, 0.6434665322303772, 0.684027373790741, 0.013645191676914692, 0.35477498173713684, 0.10916153341531754, 0.1500971019268036, 0.1500971019268036, 0.0818711519241333, 0.06822595745325089, 0.013645191676914692, 0.04093557596206665, 0.9565281271934509, 0.8863813877105713, 0.04220863804221153, 0.08441727608442307, 0.6617376208305359, 0.7709305286407471, 0.2523109018802643, 0.2523109018802643, 0.16820725798606873, 0.33641451597213745, 0.08410362899303436, 0.8491373062133789, 0.6865436434745789, 0.8300192952156067, 0.9746526479721069, 0.4616038203239441, 0.606465220451355, 0.8930540084838867, 0.9459425210952759, 0.9024994373321533, 0.8773564100265503, 0.9438990354537964, 0.4032813310623169, 0.3136632442474365, 0.13442710041999817, 0.01493634469807148, 0.08961807191371918, 0.02987268939614296, 0.01493634469807148, 0.7177445888519287, 0.7598622441291809, 0.7356050610542297, 0.2645288109779358, 0.2506062388420105, 0.08353541046380997, 0.2645288109779358, 0.02784513682126999, 0.11138054728507996, 0.8781216144561768, 0.1097652018070221, 0.49478524923324585, 0.49478524923324585, 0.7350175380706787, 0.9600210785865784, 0.3278558850288391, 0.07285686582326889, 0.21857059001922607, 0.36428430676460266, 0.9572105407714844, 0.8491373062133789, 0.9561008810997009, 0.8803633451461792, 0.7399917840957642, 0.9340829849243164, 0.1153620034456253, 0.8075340390205383, 0.6323646306991577, 0.6868885159492493, 0.467302143573761, 0.06445547193288803, 0.17725253105163574, 0.16113866865634918, 0.12891094386577606, 0.7493444085121155, 0.7188176512718201, 0.17970441281795502, 0.7177445888519287, 0.8890159726142883, 0.3356069326400757, 0.011572652496397495, 0.35875222086906433, 0.0578632615506649, 0.03471795842051506, 0.10415387153625488, 0.06943591684103012, 0.02314530499279499, 0.9304413795471191, 0.7177445888519287, 0.9341821670532227, 0.7373013496398926, 0.05580776557326317, 0.11161553114652634, 0.09301294386386871, 0.11161553114652634, 0.037205178290605545, 0.4092569649219513, 0.18602588772773743, 0.836567759513855, 0.4852442741394043, 0.4852442741394043, 0.9091577529907227], \"Term\": [\"ability\", \"able\", \"able\", \"able\", \"absolutely\", \"accept\", \"access\", \"access\", \"access\", \"access\", \"accidentally\", \"accidently\", \"account\", \"account\", \"account\", \"account\", \"acoustic\", \"act\", \"activaty\", \"activity\", \"actual\", \"ad\", \"add\", \"add\", \"add\", \"add\", \"add\", \"addition\", \"address\", \"advance\", \"advance\", \"advice\", \"age\", \"ago\", \"ago\", \"aka\", \"album\", \"album\", \"alert\", \"alexisonfire\", \"allow\", \"allow\", \"allow\", \"alphabetical\", \"already\", \"already\", \"already\", \"also\", \"also\", \"also\", \"also\", \"also\", \"alternative\", \"alternative\", \"always\", \"amazing\", \"amazing\", \"ambient\", \"amount\", \"amp\", \"amplifier\", \"android\", \"android\", \"announce\", \"announcement\", \"annoying\", \"annoying\", \"annoying\", \"annoyingly\", \"answer\", \"answer\", \"answer\", \"anymore\", \"anyway\", \"anywhere\", \"app\", \"app\", \"app\", \"app\", \"app\", \"app\", \"apparently\", \"appear\", \"appear\", \"apple\", \"application\", \"apply\", \"appreciate\", \"appreciate\", \"appreciate\", \"art\", \"artist\", \"artist\", \"artist\", \"artist\", \"artisthi\", \"artwork\", \"ask\", \"ask\", \"ask\", \"aspect\", \"assume\", \"atleast\", \"atmospherical\", \"attach\", \"attempt\", \"audio\", \"auth\", \"authority\", \"automatically\", \"automatically\", \"available\", \"available\", \"available\", \"average\", \"away\", \"awesome\", \"awhile\", \"back\", \"back\", \"back\", \"back\", \"background\", \"bad\", \"bad\", \"band\", \"base\", \"basic\", \"basically\", \"basis\", \"become\", \"become\", \"begin\", \"behave\", \"behavior\", \"behaviour\", \"bend\", \"big\", \"big\", \"bitrate\", \"block\", \"bluetooth\", \"bother\", \"bottom\", \"breach\", \"bring\", \"browse\", \"browser\", \"bug\", \"bug\", \"bunch\", \"bunch\", \"bus\", \"button\", \"buy\", \"buy\", \"can\", \"can\", \"can\", \"cancel\", \"canvas\", \"capital\", \"case\", \"case\", \"cassette\", \"cause\", \"censor\", \"centric\", \"certain\", \"change\", \"change\", \"change\", \"change\", \"change\", \"character\", \"chart\", \"chat\", \"cheer\", \"choice\", \"choose\", \"chrome\", \"chromebook\", \"clean\", \"click\", \"click\", \"client\", \"clue\", \"clunki\", \"code\", \"com\", \"com\", \"combine\", \"come\", \"come\", \"comment\", \"community\", \"compare\", \"compilation\", \"complete\", \"completely\", \"completely\", \"computer\", \"computer\", \"computer\", \"confirm\", \"confuse\", \"connect\", \"connect\", \"connect\", \"connection\", \"consider\", \"consolidate\", \"consolidated\", \"constantly\", \"contact\", \"contain\", \"content\", \"continue\", \"continuously\", \"conversation\", \"correct\", \"could\", \"could\", \"could\", \"could\", \"could\", \"count\", \"count\", \"country\", \"country\", \"couple\", \"couple\", \"couple\", \"course\", \"cover\", \"coverhow\", \"crazy\", \"crazy\", \"create\", \"create\", \"create\", \"credit\", \"criterion\", \"curate\", \"curator\", \"current\", \"current\", \"current\", \"currently\", \"currently\", \"cut\", \"daily\", \"dark\", \"date\", \"datum\", \"datum\", \"day\", \"day\", \"day\", \"deal\", \"decade\", \"decide\", \"decide\", \"definitely\", \"delete\", \"delete\", \"delete\", \"design\", \"desktop\", \"desktop\", \"detail\", \"determine\", \"develop\", \"developer\", \"device\", \"device\", \"difference\", \"different\", \"different\", \"different\", \"direct\", \"disable\", \"discography\", \"discord\", \"discount\", \"discover\", \"discovery\", \"discovery\", \"display\", \"display\", \"distance\", \"distrokid\", \"do\", \"do\", \"dot\", \"doubleclicke\", \"download\", \"download\", \"download\", \"download\", \"downloading\", \"dozen\", \"drive\", \"drive\", \"drop\", \"dumb\", \"dupe\", \"duplicate\", \"easily\", \"easy\", \"eat\", \"echo\", \"else\", \"else\", \"email\", \"email\", \"enjoy\", \"enjoy\", \"enough\", \"enter\", \"entertain\", \"episode\", \"era\", \"erratically\", \"error\", \"error\", \"error_code\", \"etc\", \"even\", \"even\", \"even\", \"even\", \"even\", \"even\", \"even\", \"even\", \"ever\", \"everywhere\", \"exactly\", \"exist\", \"expect\", \"experience\", \"explain\", \"explanation\", \"explicit\", \"explicit\", \"extremely\", \"fail\", \"family\", \"far\", \"fast\", \"favorite\", \"feature\", \"feel\", \"figure\", \"file\", \"filter\", \"finally\", \"finally\", \"finally\", \"find\", \"find\", \"find\", \"find\", \"find\", \"find\", \"fine\", \"fine\", \"fine\", \"finish\", \"firewall\", \"first\", \"fish\", \"fist\", \"fit\", \"fix\", \"fix\", \"fix\", \"flame\", \"folder\", \"follow\", \"follower\", \"force\", \"forever\", \"forget\", \"form\", \"format\", \"forth\", \"forum\", \"forward\", \"free\", \"free\", \"free\", \"freshly\", \"friend\", \"friend\", \"friend\", \"frustration\", \"full\", \"full\", \"fullscreen\", \"funny\", \"furthermore\", \"generally\", \"generate\", \"genius\", \"genre\", \"genre\", \"get\", \"get\", \"get\", \"get\", \"get\", \"get\", \"get\", \"giftcard\", \"give\", \"give\", \"give\", \"glitch\", \"glitch\", \"global\", \"go\", \"go\", \"go\", \"go\", \"go\", \"go\", \"good\", \"good\", \"good\", \"good\", \"google\", \"grab\", \"grateful\", \"gray\", \"great\", \"great\", \"great\", \"greatly\", \"green\", \"grey\", \"ground\", \"guess\", \"guess\", \"guest\", \"guitar\", \"hack\", \"hacking\", \"half\", \"halfway\", \"happen\", \"happen\", \"happen\", \"happen\", \"happy\", \"hate\", \"hate\", \"have\", \"head\", \"hear\", \"hear\", \"help\", \"help\", \"help\", \"help\", \"help\", \"help\", \"here\", \"high\", \"high\", \"history\", \"hit\", \"hit\", \"home\", \"honestly\", \"hope\", \"hopefully\", \"horribly\", \"horrific\", \"hot\", \"however\", \"however\", \"however\", \"https\", \"hulu\", \"idea\", \"idea\", \"identify\", \"idle\", \"image\", \"imagine\", \"implement\", \"implication\", \"import\", \"include\", \"incredibly\", \"individual\", \"info\", \"information\", \"input\", \"insane\", \"insight\", \"instagram\", \"instead\", \"instead\", \"interface\", \"internet\", \"interval\", \"investigate\", \"ios\", \"iphone\", \"issue\", \"issue\", \"issue\", \"issue\", \"issue\", \"join\", \"keep\", \"keep\", \"keep\", \"keep\", \"keep\", \"keep\", \"kind\", \"kinda\", \"kiosk\", \"km\", \"know\", \"know\", \"know\", \"know\", \"know\", \"know\", \"know\", \"know\", \"know\", \"language\", \"laptop\", \"laptop\", \"large\", \"last\", \"last\", \"last\", \"last\", \"last\", \"late\", \"lately\", \"lately\", \"later\", \"launch\", \"layout\", \"lead\", \"least\", \"least\", \"least\", \"leave\", \"less\", \"let\", \"let\", \"level\", \"library\", \"like\", \"like\", \"like\", \"limit\", \"limit\", \"line\", \"link\", \"list\", \"list\", \"list\", \"listen\", \"listen\", \"listen\", \"listen\", \"listen\", \"listen\", \"listener\", \"listening\", \"literally\", \"little\", \"live\", \"live\", \"load\", \"loading\", \"local\", \"location\", \"lock\", \"log\", \"log\", \"log\", \"login\", \"lolquick\", \"long\", \"long\", \"long\", \"longer\", \"look\", \"look\", \"look\", \"look\", \"look\", \"lose\", \"lose\", \"lose\", \"love\", \"love\", \"love\", \"love\", \"lower\", \"lucky\", \"lyric\", \"macbook\", \"mad\", \"mainly\", \"make\", \"make\", \"make\", \"make\", \"make\", \"make\", \"manage\", \"manually\", \"manually\", \"many\", \"many\", \"marker\", \"market\", \"mass\", \"match\", \"matter\", \"may\", \"mean\", \"mean\", \"meet\", \"meezer\", \"member\", \"mention\", \"menu\", \"mess\", \"message\", \"message\", \"method\", \"middle\", \"mile\", \"min\", \"mind\", \"mine\", \"minute\", \"mix\", \"mixtape\", \"mode\", \"model\", \"month\", \"month\", \"month\", \"monthly\", \"mood\", \"morning\", \"mostly\", \"mouse\", \"move\", \"move\", \"movie\", \"much\", \"much\", \"much\", \"music\", \"music\", \"music\", \"music\", \"music\", \"music\", \"music\", \"name\", \"name\", \"name\", \"nearly\", \"nee\", \"need\", \"network\", \"new\", \"new\", \"new\", \"new\", \"new\", \"new\", \"new\", \"newly\", \"next\", \"next\", \"next\", \"nice\", \"nope\", \"notice\", \"notice\", \"notice\", \"notification\", \"notify\", \"number\", \"obviously\", \"offer\", \"official\", \"official\", \"offline\", \"often\", \"old\", \"one\", \"online\", \"open\", \"open\", \"option\", \"option\", \"option\", \"order\", \"order\", \"original\", \"other\", \"outright\", \"pace\", \"page\", \"page\", \"password\", \"past\", \"pause\", \"pay\", \"pay\", \"payment\", \"pc\", \"pc\", \"peeve\", \"people\", \"people\", \"people\", \"perfectly\", \"persist\", \"person\", \"personalized\", \"pet\", \"phone\", \"phone\", \"phone\", \"phone\", \"phone\", \"phone\", \"photo\", \"physical\", \"pick\", \"picture\", \"piece\", \"pill\", \"piss\", \"place\", \"plan\", \"platform\", \"play\", \"play\", \"play\", \"play\", \"play\", \"play\", \"play\", \"player\", \"playlist\", \"playlist\", \"playlist\", \"playlist\", \"playlist\", \"playlist\", \"playlist\", \"playlistcan\", \"plug\", \"plugged\", \"podcast\", \"point\", \"point\", \"pointless\", \"polish\", \"poor\", \"pop\", \"popular\", \"position\", \"possible\", \"possible\", \"possible\", \"post\", \"post\", \"post\", \"pre\", \"preferably\", \"premium\", \"premium\", \"premium\", \"premium\", \"pretty\", \"prevent\", \"prevent\", \"pro\", \"probably\", \"problem\", \"problem\", \"problem\", \"problem\", \"problem\", \"profile\", \"project\", \"promote\", \"promoted\", \"proper\", \"properlyso\", \"provide\", \"proxy\", \"proxy\", \"public\", \"pull\", \"purely\", \"put\", \"quality\", \"quality\", \"quarantine\", \"question\", \"question\", \"question\", \"queue\", \"quick\", \"quickly\", \"quietly\", \"quite\", \"quite\", \"radio\", \"random\", \"randomly\", \"randomly\", \"rant\", \"rather\", \"read\", \"really\", \"really\", \"really\", \"really\", \"really\", \"really\", \"reason\", \"reason\", \"reason\", \"receive\", \"receive\", \"recent\", \"recently\", \"recently\", \"recently\", \"recently\", \"recently\", \"recommend\", \"recommendation\", \"recommendation\", \"reconnecte\", \"record\", \"redownload\", \"redownloade\", \"reduce\", \"refresh\", \"refresh\", \"refuse\", \"region\", \"register\", \"relate\", \"relation\", \"release\", \"release\", \"release\", \"remember\", \"remember\", \"reminder\", \"remove\", \"remove\", \"remove\", \"repeat\", \"replace\", \"research\", \"reset\", \"respectively\", \"restart\", \"restart\", \"restarted\", \"revert\", \"rid\", \"right\", \"right\", \"rotation\", \"roughly\", \"run\", \"russian\", \"s\", \"sarcastic\", \"satire\", \"save\", \"say\", \"say\", \"say\", \"say\", \"say\", \"screen\", \"screen\", \"screen\", \"script\", \"scroll\", \"scroll\", \"scroll\", \"search\", \"second\", \"section\", \"security\", \"see\", \"see\", \"see\", \"see\", \"see\", \"seed\", \"seem\", \"seem\", \"seem\", \"seem\", \"seem\", \"select\", \"send\", \"sense\", \"seperately\", \"seriously\", \"service\", \"service\", \"service\", \"session\", \"set\", \"set\", \"set\", \"set\", \"setting\", \"setting\", \"setup\", \"several\", \"shady\", \"share\", \"share\", \"share\", \"shit\", \"show\", \"show\", \"show\", \"show\", \"shuffle\", \"shuffling\", \"side\", \"sign\", \"sign\", \"sign\", \"silence\", \"similar\", \"simply\", \"site\", \"situation\", \"slash\", \"slavic\", \"slide\", \"slow\", \"slow\", \"small\", \"small\", \"social\", \"somehow\", \"sometimes\", \"somewhat\", \"somewhere\", \"song\", \"song\", \"song\", \"song\", \"song\", \"sono\", \"sort\", \"sound\", \"sound\", \"soundtrack\", \"source\", \"speaker\", \"special\", \"specific\", \"specifically\", \"specify\", \"speed\", \"spot\", \"spotify\", \"spotify\", \"spotify\", \"spotify\", \"spotify\", \"spotify\", \"spotify\", \"spotify\", \"spotify\", \"spotify\", \"spotify\", \"spotify\", \"spotify\", \"spotify\", \"spotify\", \"spotifycare\", \"spotifykaraoke\", \"stand\", \"start\", \"start\", \"start\", \"start\", \"start\", \"start\", \"stat\", \"state\", \"state\", \"station\", \"stay\", \"stay\", \"step\", \"stereo\", \"still\", \"still\", \"still\", \"still\", \"still\", \"still\", \"still\", \"still\", \"stop\", \"stop\", \"stop\", \"stop\", \"stop\", \"storage\", \"store\", \"straight\", \"stream\", \"stream\", \"streaming\", \"student\", \"student\", \"stuff\", \"stuff\", \"stupid\", \"sub\", \"subreddit\", \"subscription\", \"suggestion\", \"suggestion\", \"suggestion\", \"super\", \"support\", \"suppose\", \"sure\", \"sure\", \"sure\", \"sure\", \"swear\", \"switch\", \"switch\", \"symbol\", \"sync\", \"system\", \"tab\", \"tabi\", \"tag\", \"take\", \"take\", \"talk\", \"tap\", \"tape\", \"technical\", \"tell\", \"tell\", \"tell\", \"ten\", \"term\", \"term\", \"terrible\", \"terribly\", \"text\", \"thank\", \"thank\", \"thank\", \"thank\", \"thank\", \"thank\", \"thank\", \"thank\", \"thank\", \"thankyou\", \"themhi\", \"therefore\", \"thing\", \"thing\", \"thing\", \"think\", \"think\", \"thoroughly\", \"thought\", \"thousand\", \"time\", \"time\", \"time\", \"time\", \"time\", \"time\", \"time\", \"tip\", \"tired\", \"titanium\", \"title\", \"together\", \"tool\", \"top\", \"top\", \"top\", \"total\", \"touch\", \"track\", \"transfer\", \"trouble\", \"truely\", \"truly\", \"try\", \"try\", \"try\", \"try\", \"try\", \"try\", \"try\", \"turn\", \"turn\", \"twitter\", \"type\", \"typing\", \"ucps\", \"unable\", \"unauthorized\", \"unavailable\", \"underrated\", \"understand\", \"unfortunately\", \"uninstalle\", \"university\", \"unknown\", \"unrecognized\", \"update\", \"update\", \"upgrade\", \"upload\", \"uploaded\", \"usage\", \"use\", \"use\", \"use\", \"use\", \"use\", \"use\", \"use\", \"use\", \"use\", \"useful\", \"user\", \"user\", \"user\", \"username\", \"usual\", \"usually\", \"usually\", \"usually\", \"usually\", \"usually\", \"utility\", \"value\", \"various\", \"version\", \"vexed\", \"vid\", \"video\", \"view\", \"visual\", \"volume\", \"wait\", \"want\", \"want\", \"want\", \"want\", \"want\", \"want\", \"want\", \"wanted\", \"warn\", \"warning\", \"way\", \"way\", \"way\", \"way\", \"way\", \"way\", \"website\", \"website\", \"week\", \"week\", \"weekend\", \"weird\", \"well\", \"well\", \"well\", \"well\", \"whenever\", \"whip\", \"whole\", \"wifi\", \"will\", \"window\", \"wonder\", \"wonder\", \"wondering\", \"word\", \"work\", \"work\", \"work\", \"work\", \"work\", \"workaround\", \"world\", \"world\", \"worry\", \"worth\", \"would\", \"would\", \"would\", \"would\", \"would\", \"would\", \"would\", \"would\", \"wrap\", \"writer\", \"wrong\", \"wrongso\", \"year\", \"year\", \"year\", \"year\", \"year\", \"year\", \"year\", \"yesterday\", \"yet\", \"yet\", \"youtube\"]}, \"R\": 30, \"lambda.step\": 0.01, \"plot.opts\": {\"xlab\": \"PC1\", \"ylab\": \"PC2\"}, \"topic.order\": [2, 14, 1, 4, 13, 3, 17, 7, 10, 12, 9, 15, 8, 20, 16, 6, 11, 19, 5, 18]};\n",
              "\n",
              "function LDAvis_load_lib(url, callback){\n",
              "  var s = document.createElement('script');\n",
              "  s.src = url;\n",
              "  s.async = true;\n",
              "  s.onreadystatechange = s.onload = callback;\n",
              "  s.onerror = function(){console.warn(\"failed to load library \" + url);};\n",
              "  document.getElementsByTagName(\"head\")[0].appendChild(s);\n",
              "}\n",
              "\n",
              "if(typeof(LDAvis) !== \"undefined\"){\n",
              "   // already loaded: just create the visualization\n",
              "   !function(LDAvis){\n",
              "       new LDAvis(\"#\" + \"ldavis_el124140401635461904792186089\", ldavis_el124140401635461904792186089_data);\n",
              "   }(LDAvis);\n",
              "}else if(typeof define === \"function\" && define.amd){\n",
              "   // require.js is available: use it to load d3/LDAvis\n",
              "   require.config({paths: {d3: \"https://cdnjs.cloudflare.com/ajax/libs/d3/3.5.5/d3.min\"}});\n",
              "   require([\"d3\"], function(d3){\n",
              "      window.d3 = d3;\n",
              "      LDAvis_load_lib(\"https://cdn.rawgit.com/bmabey/pyLDAvis/files/ldavis.v1.0.0.js\", function(){\n",
              "        new LDAvis(\"#\" + \"ldavis_el124140401635461904792186089\", ldavis_el124140401635461904792186089_data);\n",
              "      });\n",
              "    });\n",
              "}else{\n",
              "    // require.js not available: dynamically load d3 & LDAvis\n",
              "    LDAvis_load_lib(\"https://cdnjs.cloudflare.com/ajax/libs/d3/3.5.5/d3.min.js\", function(){\n",
              "         LDAvis_load_lib(\"https://cdn.rawgit.com/bmabey/pyLDAvis/files/ldavis.v1.0.0.js\", function(){\n",
              "                 new LDAvis(\"#\" + \"ldavis_el124140401635461904792186089\", ldavis_el124140401635461904792186089_data);\n",
              "            })\n",
              "         });\n",
              "}\n",
              "</script>"
            ],
            "text/plain": [
              "PreparedData(topic_coordinates=              x         y  topics  cluster       Freq\n",
              "topic                                                \n",
              "1      0.306303  0.084441       1        1  15.841595\n",
              "13     0.219485 -0.153848       2        1  15.394849\n",
              "0      0.136940 -0.158351       3        1   9.799237\n",
              "3      0.238932  0.140163       4        1   8.645665\n",
              "12     0.052132  0.115885       5        1   5.407002\n",
              "2      0.020902  0.121230       6        1   4.562370\n",
              "16     0.034174  0.023783       7        1   4.155786\n",
              "6     -0.070813 -0.041715       8        1   3.960296\n",
              "9     -0.067993 -0.079103       9        1   3.746403\n",
              "11    -0.012302 -0.154729      10        1   3.545021\n",
              "8     -0.109102 -0.072838      11        1   3.506572\n",
              "14     0.006052 -0.079851      12        1   3.385389\n",
              "7     -0.088040 -0.095925      13        1   3.276556\n",
              "19    -0.068879  0.080390      14        1   2.777321\n",
              "15    -0.038376 -0.078216      15        1   2.763014\n",
              "5     -0.042150  0.085085      16        1   2.411294\n",
              "10    -0.123233  0.081649      17        1   2.234194\n",
              "18    -0.146262  0.021756      18        1   1.697382\n",
              "4     -0.119022  0.057107      19        1   1.544097\n",
              "17    -0.128746  0.103086      20        1   1.345960, topic_info=         Term        Freq       Total Category  logprob  loglift\n",
              "110      song  347.000000  347.000000  Default  30.0000  30.0000\n",
              "38   playlist  233.000000  233.000000  Default  29.0000  29.0000\n",
              "208   account   89.000000   89.000000  Default  28.0000  28.0000\n",
              "160   spotify  388.000000  388.000000  Default  27.0000  27.0000\n",
              "4      artist  151.000000  151.000000  Default  26.0000  26.0000\n",
              "..        ...         ...         ...      ...      ...      ...\n",
              "142   finally    2.498221    5.974096  Topic20  -4.2394   3.4362\n",
              "90       make    3.461694   84.358307  Topic20  -3.9132   1.1147\n",
              "172       bad    2.349983   18.090410  Topic20  -4.3006   2.2671\n",
              "147      keep    2.244217   41.620003  Topic20  -4.3466   1.3878\n",
              "309      sign    1.760193   14.637736  Topic20  -4.5896   2.1899\n",
              "\n",
              "[977 rows x 6 columns], token_table=      Topic      Freq        Term\n",
              "term                             \n",
              "580       3  0.910711     ability\n",
              "245       1  0.669879        able\n",
              "245      16  0.274042        able\n",
              "245      18  0.030449        able\n",
              "337      14  0.890135  absolutely\n",
              "...     ...       ...         ...\n",
              "130      12  0.186026        year\n",
              "728       6  0.836568   yesterday\n",
              "295       3  0.485244         yet\n",
              "295       6  0.485244         yet\n",
              "1774      2  0.909158     youtube\n",
              "\n",
              "[1257 rows x 3 columns], R=30, lambda_step=0.01, plot_opts={'xlab': 'PC1', 'ylab': 'PC2'}, topic_order=[2, 14, 1, 4, 13, 3, 17, 7, 10, 12, 9, 15, 8, 20, 16, 6, 11, 19, 5, 18])"
            ]
          },
          "metadata": {
            "tags": []
          },
          "execution_count": 37
        }
      ]
    },
    {
      "cell_type": "markdown",
      "metadata": {
        "id": "ipLwOb2uvfXF",
        "colab_type": "text"
      },
      "source": [
        "## Hyperparameters tunning"
      ]
    },
    {
      "cell_type": "code",
      "metadata": {
        "id": "DGXkaJ4gvqek",
        "colab_type": "code",
        "colab": {}
      },
      "source": [
        "# supporting function\n",
        "def compute_coherence_values(corpus, dictionary, k, a, b):\n",
        "    \n",
        "    lda_model = gensim.models.LdaMulticore(corpus=corpus,\n",
        "                                           id2word=id2word,\n",
        "                                           num_topics=10, \n",
        "                                           random_state=100,\n",
        "                                           chunksize=100,\n",
        "                                           passes=10,\n",
        "                                           alpha=a,\n",
        "                                           eta=b,\n",
        "                                           per_word_topics=True)\n",
        "    \n",
        "    coherence_model_lda = CoherenceModel(model=lda_model, texts=data_lemmatized, dictionary=id2word, coherence='c_v')\n",
        "    \n",
        "    return coherence_model_lda.get_coherence()"
      ],
      "execution_count": 0,
      "outputs": []
    },
    {
      "cell_type": "code",
      "metadata": {
        "id": "XB2Ersp_w4_P",
        "colab_type": "code",
        "colab": {
          "base_uri": "https://localhost:8080/",
          "height": 68
        },
        "outputId": "7cd99ef3-aa1f-451d-cf47-2609712718c5"
      },
      "source": [
        "import numpy as np\n",
        "import tqdm\n",
        "\n",
        "grid = {}\n",
        "grid['Validation_Set'] = {}\n",
        "# Topics range\n",
        "min_topics = 10\n",
        "max_topics = 20\n",
        "step_size = 1\n",
        "topics_range = range(min_topics, max_topics, step_size)\n",
        "# Alpha parameter\n",
        "alpha = list(np.arange(0.01, 1, 0.3))\n",
        "alpha.append('symmetric')\n",
        "alpha.append('asymmetric')\n",
        "# Beta parameter\n",
        "beta = list(np.arange(0.01, 1, 0.3))\n",
        "beta.append('symmetric')\n",
        "# Validation sets\n",
        "num_of_docs = len(corpus)\n",
        "corpus_sets = [# gensim.utils.ClippedCorpus(corpus, num_of_docs*0.25), \n",
        "               # gensim.utils.ClippedCorpus(corpus, num_of_docs*0.5), \n",
        "               gensim.utils.ClippedCorpus(corpus, num_of_docs*0.75), \n",
        "               corpus]\n",
        "corpus_title = ['75% Corpus']\n",
        "model_results = {'Validation_Set': [],\n",
        "                 'Topics': [],\n",
        "                 'Alpha': [],\n",
        "                 'Beta': [],\n",
        "                 'Coherence': []\n",
        "                }\n",
        "# Can take a long time to run\n",
        "if 1 == 1:\n",
        "    pbar = tqdm.tqdm(total=540)\n",
        "    \n",
        "    # iterate through number of topics\n",
        "    for k in topics_range:\n",
        "        # iterate through alpha values\n",
        "        for a in alpha:\n",
        "            # iterare through beta values\n",
        "            for b in beta:\n",
        "                # get the coherence score for the given parameters\n",
        "                cv = compute_coherence_values(corpus=corpus, dictionary=id2word, \n",
        "                                              k=k, a=a, b=b)\n",
        "                # Save the model results\n",
        "                model_results['Validation_Set'].append(corpus_title)\n",
        "                model_results['Topics'].append(k)\n",
        "                model_results['Alpha'].append(a)\n",
        "                model_results['Beta'].append(b)\n",
        "                model_results['Coherence'].append(cv)\n",
        "                \n",
        "                pbar.update(1)\n",
        "pd.DataFrame(model_results).to_csv('lda_tuning_results.csv', index=False)\n",
        "pbar.close()"
      ],
      "execution_count": 0,
      "outputs": [
        {
          "output_type": "stream",
          "text": [
            "\r  0%|          | 0/540 [00:00<?, ?it/s]/usr/local/lib/python3.6/dist-packages/gensim/models/ldamodel.py:1023: RuntimeWarning: divide by zero encountered in log\n",
            "  diff = np.log(self.expElogbeta)\n",
            "  9%|▉         | 48/540 [03:20<33:09,  4.04s/it]"
          ],
          "name": "stderr"
        }
      ]
    },
    {
      "cell_type": "markdown",
      "metadata": {
        "id": "T-prSzUhw8Fb",
        "colab_type": "text"
      },
      "source": [
        "## Final model"
      ]
    },
    {
      "cell_type": "code",
      "metadata": {
        "id": "7JZX6U8Aw92q",
        "colab_type": "code",
        "colab": {}
      },
      "source": [
        "lda_model = gensim.models.LdaMulticore(corpus=corpus,\n",
        "                                      id2word=id2word,\n",
        "                                      num_topics=7, \n",
        "                                      random_state=100,\n",
        "                                      chunksize=100,\n",
        "                                      passes=10,\n",
        "                                      alpha= 0.01,\n",
        "                                      eta=0.9)"
      ],
      "execution_count": 0,
      "outputs": []
    },
    {
      "cell_type": "code",
      "metadata": {
        "id": "riLX6dJdw_M_",
        "colab_type": "code",
        "colab": {}
      },
      "source": [
        "# Compute Perplexity\n",
        "print('\\nPerplexity: ', lda_model.log_perplexity(corpus))  # a measure of how good the model is. lower the better.\n",
        "\n",
        "# Compute Coherence Score\n",
        "coherence_model_lda = CoherenceModel(model=lda_model, texts=data_lemmatized, dictionary=id2word, coherence='c_v')\n",
        "coherence_lda = coherence_model_lda.get_coherence()\n",
        "print('\\nCoherence Score: ', coherence_lda)"
      ],
      "execution_count": 0,
      "outputs": []
    },
    {
      "cell_type": "code",
      "metadata": {
        "id": "uL_RJNppxA-7",
        "colab_type": "code",
        "colab": {}
      },
      "source": [
        "# Visualize the topics\n",
        "pyLDAvis.enable_notebook()\n",
        "vis = pyLDAvis.gensim.prepare(lda_model, corpus, id2word)\n",
        "vis"
      ],
      "execution_count": 0,
      "outputs": []
    },
    {
      "cell_type": "markdown",
      "metadata": {
        "id": "O51iHgALvq7Y",
        "colab_type": "text"
      },
      "source": [
        "# Google Play Spotify"
      ]
    },
    {
      "cell_type": "code",
      "metadata": {
        "id": "eJ1tvACnyiTL",
        "colab_type": "code",
        "colab": {}
      },
      "source": [
        "df_google_play_spotify = pd.read_csv('/content/gdrive/My Drive/Studia/df_google_play_spotify.csv')"
      ],
      "execution_count": 0,
      "outputs": []
    },
    {
      "cell_type": "code",
      "metadata": {
        "id": "q1WOZ4Lgn7b6",
        "colab_type": "code",
        "colab": {
          "base_uri": "https://localhost:8080/",
          "height": 391
        },
        "outputId": "ac888128-d813-443a-f328-6cff7fafc5a4"
      },
      "source": [
        "df_google_play_spotify.head()"
      ],
      "execution_count": 5,
      "outputs": [
        {
          "output_type": "execute_result",
          "data": {
            "text/html": [
              "<div>\n",
              "<style scoped>\n",
              "    .dataframe tbody tr th:only-of-type {\n",
              "        vertical-align: middle;\n",
              "    }\n",
              "\n",
              "    .dataframe tbody tr th {\n",
              "        vertical-align: top;\n",
              "    }\n",
              "\n",
              "    .dataframe thead th {\n",
              "        text-align: right;\n",
              "    }\n",
              "</style>\n",
              "<table border=\"1\" class=\"dataframe\">\n",
              "  <thead>\n",
              "    <tr style=\"text-align: right;\">\n",
              "      <th></th>\n",
              "      <th>Unnamed: 0</th>\n",
              "      <th>userName</th>\n",
              "      <th>userImage</th>\n",
              "      <th>content</th>\n",
              "      <th>score</th>\n",
              "      <th>thumbsUpCount</th>\n",
              "      <th>reviewCreatedVersion</th>\n",
              "      <th>at</th>\n",
              "      <th>replyContent</th>\n",
              "      <th>repliedAt</th>\n",
              "    </tr>\n",
              "  </thead>\n",
              "  <tbody>\n",
              "    <tr>\n",
              "      <th>0</th>\n",
              "      <td>0</td>\n",
              "      <td>Frank Helman</td>\n",
              "      <td>https://lh3.googleusercontent.com/a-/AOh14Gjpe...</td>\n",
              "      <td>No complaints. Great price options</td>\n",
              "      <td>5</td>\n",
              "      <td>0</td>\n",
              "      <td>8.5.51.941</td>\n",
              "      <td>2020-04-24 21:12:18</td>\n",
              "      <td>NaN</td>\n",
              "      <td>NaN</td>\n",
              "    </tr>\n",
              "    <tr>\n",
              "      <th>1</th>\n",
              "      <td>1</td>\n",
              "      <td>Harshavardhana vc moorthy</td>\n",
              "      <td>https://lh3.googleusercontent.com/a-/AOh14Gj1H...</td>\n",
              "      <td>The best app for music 👌. Spotify stands up fo...</td>\n",
              "      <td>5</td>\n",
              "      <td>0</td>\n",
              "      <td>8.5.54.869</td>\n",
              "      <td>2020-04-24 21:12:03</td>\n",
              "      <td>NaN</td>\n",
              "      <td>NaN</td>\n",
              "    </tr>\n",
              "    <tr>\n",
              "      <th>2</th>\n",
              "      <td>2</td>\n",
              "      <td>Nadine Burns</td>\n",
              "      <td>https://lh3.googleusercontent.com/-kLLhhsAK7Jw...</td>\n",
              "      <td>It was good but it stop working 😐😑😲👎👎👎👎👎🖓🖓🖓🖓</td>\n",
              "      <td>3</td>\n",
              "      <td>0</td>\n",
              "      <td>NaN</td>\n",
              "      <td>2020-04-24 21:11:33</td>\n",
              "      <td>NaN</td>\n",
              "      <td>NaN</td>\n",
              "    </tr>\n",
              "    <tr>\n",
              "      <th>3</th>\n",
              "      <td>3</td>\n",
              "      <td>Roland Cardinal</td>\n",
              "      <td>https://lh3.googleusercontent.com/-yowtW4adbO4...</td>\n",
              "      <td>Really love it</td>\n",
              "      <td>5</td>\n",
              "      <td>0</td>\n",
              "      <td>7.9.0.746</td>\n",
              "      <td>2020-04-24 21:09:36</td>\n",
              "      <td>NaN</td>\n",
              "      <td>NaN</td>\n",
              "    </tr>\n",
              "    <tr>\n",
              "      <th>4</th>\n",
              "      <td>4</td>\n",
              "      <td>John Laxey</td>\n",
              "      <td>https://lh3.googleusercontent.com/a-/AOh14GgDM...</td>\n",
              "      <td>One of the best music apps to use!!</td>\n",
              "      <td>5</td>\n",
              "      <td>0</td>\n",
              "      <td>8.5.54.869</td>\n",
              "      <td>2020-04-24 21:07:25</td>\n",
              "      <td>NaN</td>\n",
              "      <td>NaN</td>\n",
              "    </tr>\n",
              "  </tbody>\n",
              "</table>\n",
              "</div>"
            ],
            "text/plain": [
              "   Unnamed: 0                   userName  ... replyContent repliedAt\n",
              "0           0               Frank Helman  ...          NaN       NaN\n",
              "1           1  Harshavardhana vc moorthy  ...          NaN       NaN\n",
              "2           2               Nadine Burns  ...          NaN       NaN\n",
              "3           3            Roland Cardinal  ...          NaN       NaN\n",
              "4           4                 John Laxey  ...          NaN       NaN\n",
              "\n",
              "[5 rows x 10 columns]"
            ]
          },
          "metadata": {
            "tags": []
          },
          "execution_count": 5
        }
      ]
    },
    {
      "cell_type": "code",
      "metadata": {
        "id": "y_TuTzbbo8p0",
        "colab_type": "code",
        "colab": {
          "base_uri": "https://localhost:8080/",
          "height": 306
        },
        "outputId": "dbe0837d-ac9a-4748-b5d7-0223ec1484a7"
      },
      "source": [
        "df_google_play_spotify.tail()"
      ],
      "execution_count": 6,
      "outputs": [
        {
          "output_type": "execute_result",
          "data": {
            "text/html": [
              "<div>\n",
              "<style scoped>\n",
              "    .dataframe tbody tr th:only-of-type {\n",
              "        vertical-align: middle;\n",
              "    }\n",
              "\n",
              "    .dataframe tbody tr th {\n",
              "        vertical-align: top;\n",
              "    }\n",
              "\n",
              "    .dataframe thead th {\n",
              "        text-align: right;\n",
              "    }\n",
              "</style>\n",
              "<table border=\"1\" class=\"dataframe\">\n",
              "  <thead>\n",
              "    <tr style=\"text-align: right;\">\n",
              "      <th></th>\n",
              "      <th>Unnamed: 0</th>\n",
              "      <th>userName</th>\n",
              "      <th>userImage</th>\n",
              "      <th>content</th>\n",
              "      <th>score</th>\n",
              "      <th>thumbsUpCount</th>\n",
              "      <th>reviewCreatedVersion</th>\n",
              "      <th>at</th>\n",
              "      <th>replyContent</th>\n",
              "      <th>repliedAt</th>\n",
              "    </tr>\n",
              "  </thead>\n",
              "  <tbody>\n",
              "    <tr>\n",
              "      <th>95</th>\n",
              "      <td>95</td>\n",
              "      <td>robin maxwells</td>\n",
              "      <td>https://lh3.googleusercontent.com/a-/AOh14GiTC...</td>\n",
              "      <td>Awful. It randomly starts playing songs from a...</td>\n",
              "      <td>1</td>\n",
              "      <td>0</td>\n",
              "      <td>8.5.54.869</td>\n",
              "      <td>2020-04-24 19:46:13</td>\n",
              "      <td>NaN</td>\n",
              "      <td>NaN</td>\n",
              "    </tr>\n",
              "    <tr>\n",
              "      <th>96</th>\n",
              "      <td>96</td>\n",
              "      <td>Hailey Rose</td>\n",
              "      <td>https://lh3.googleusercontent.com/-FRXnWto8ntA...</td>\n",
              "      <td>I love this app but sometimes it let down. But...</td>\n",
              "      <td>5</td>\n",
              "      <td>0</td>\n",
              "      <td>8.5.54.869</td>\n",
              "      <td>2020-04-24 19:44:13</td>\n",
              "      <td>NaN</td>\n",
              "      <td>NaN</td>\n",
              "    </tr>\n",
              "    <tr>\n",
              "      <th>97</th>\n",
              "      <td>97</td>\n",
              "      <td>Ian Reed</td>\n",
              "      <td>https://lh3.googleusercontent.com/-TLDDBIsHEb8...</td>\n",
              "      <td>April 2020 update brings a new set of bugs. Ke...</td>\n",
              "      <td>2</td>\n",
              "      <td>0</td>\n",
              "      <td>8.5.54.869</td>\n",
              "      <td>2020-04-24 19:44:13</td>\n",
              "      <td>NaN</td>\n",
              "      <td>NaN</td>\n",
              "    </tr>\n",
              "    <tr>\n",
              "      <th>98</th>\n",
              "      <td>98</td>\n",
              "      <td>Ayla Smith</td>\n",
              "      <td>https://lh3.googleusercontent.com/-2HeW47LSymw...</td>\n",
              "      <td>So much fun to use and listen to. Love it the ...</td>\n",
              "      <td>4</td>\n",
              "      <td>0</td>\n",
              "      <td>8.5.54.869</td>\n",
              "      <td>2020-04-24 19:43:21</td>\n",
              "      <td>NaN</td>\n",
              "      <td>NaN</td>\n",
              "    </tr>\n",
              "    <tr>\n",
              "      <th>99</th>\n",
              "      <td>99</td>\n",
              "      <td>Mark Pugh</td>\n",
              "      <td>https://lh3.googleusercontent.com/-XLnehI9-kNo...</td>\n",
              "      <td>Just awful There're much better media players ...</td>\n",
              "      <td>1</td>\n",
              "      <td>0</td>\n",
              "      <td>8.5.54.869</td>\n",
              "      <td>2020-04-24 19:42:17</td>\n",
              "      <td>NaN</td>\n",
              "      <td>NaN</td>\n",
              "    </tr>\n",
              "  </tbody>\n",
              "</table>\n",
              "</div>"
            ],
            "text/plain": [
              "    Unnamed: 0        userName  ... replyContent repliedAt\n",
              "95          95  robin maxwells  ...          NaN       NaN\n",
              "96          96     Hailey Rose  ...          NaN       NaN\n",
              "97          97        Ian Reed  ...          NaN       NaN\n",
              "98          98      Ayla Smith  ...          NaN       NaN\n",
              "99          99       Mark Pugh  ...          NaN       NaN\n",
              "\n",
              "[5 rows x 10 columns]"
            ]
          },
          "metadata": {
            "tags": []
          },
          "execution_count": 6
        }
      ]
    },
    {
      "cell_type": "code",
      "metadata": {
        "id": "aQGEgZ4EpEUp",
        "colab_type": "code",
        "colab": {}
      },
      "source": [
        ""
      ],
      "execution_count": 0,
      "outputs": []
    }
  ]
}